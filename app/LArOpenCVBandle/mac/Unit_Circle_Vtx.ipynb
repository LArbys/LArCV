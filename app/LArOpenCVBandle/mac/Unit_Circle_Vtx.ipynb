{
 "cells": [
  {
   "cell_type": "code",
   "execution_count": null,
   "metadata": {
    "collapsed": false
   },
   "outputs": [],
   "source": [
    "#!/usr/bin/env python\n",
    "import ROOT, sys, os\n",
    "from ROOT import std\n",
    "\n",
    "from larlite import larlite\n",
    "from larcv import larcv\n",
    "import numpy as np\n",
    "import matplotlib\n",
    "import matplotlib.pyplot as plt\n",
    "%matplotlib inline\n",
    "import matplotlib.path as path\n",
    "colormap=['blue','red','magenta','green','orange','yellow','pink']\n",
    "nc=len(colormap)"
   ]
  },
  {
   "cell_type": "code",
   "execution_count": null,
   "metadata": {
    "collapsed": false
   },
   "outputs": [],
   "source": [
    "iom=larcv.IOManager(larcv.IOManager.kWRITE)        \n",
    "iom.reset()\n",
    "iom.set_verbosity(0)                                                                           \n",
    "#iom.add_in_file(\"poop.root\")\n",
    "iom.set_out_file(\"trashme_aho.root\") \n",
    "iom.initialize()"
   ]
  },
  {
   "cell_type": "code",
   "execution_count": null,
   "metadata": {
    "collapsed": false
   },
   "outputs": [],
   "source": [
    "shape_ones=np.ones((864, 756))\n",
    "shape_zeros=np.zeros((864, 756))"
   ]
  },
  {
   "cell_type": "code",
   "execution_count": null,
   "metadata": {
    "collapsed": false
   },
   "outputs": [],
   "source": [
    "#make the letter K\n",
    "shape1=np.array([[50,100],[50,350],[75,350],\n",
    "                 [75,200],[175,300],[150,250],\n",
    "                 [75,175],[150,100],[125,100],\n",
    "                 [75,150],[75,100],[50,100]])\n",
    "#shape1=np.array([[50,100],[50,300],[150,300],\n",
    "#                 [70,250],[150,100],[50,100]])\n",
    "shape2=shape1[:,::-1].copy()+100\n",
    "shape3=shape1[:,::-1].copy()+300\n",
    "shape4=shape1[:,::-1].copy()+450\n",
    "#plt.plot(shape1[:,0],shape1[:,1],'o-')\n",
    "#plt.plot(shape2[:,0],shape2[:,1],'o-')\n",
    "#plt.plot(shape3[:,0],shape3[:,1],'o-')\n",
    "#plt.plot(shape4[:,0],shape4[:,1],'o-')\n",
    "#ax=plt.gca()\n",
    "#ax.set_xlim(0,800)\n",
    "#ax.set_ylim(0,800)"
   ]
  },
  {
   "cell_type": "code",
   "execution_count": null,
   "metadata": {
    "collapsed": false
   },
   "outputs": [],
   "source": [
    "path1=path.Path(shape1)\n",
    "path2=path.Path(shape2)\n",
    "path3=path.Path(shape3)\n",
    "path4=path.Path(shape4)"
   ]
  },
  {
   "cell_type": "code",
   "execution_count": null,
   "metadata": {
    "collapsed": false
   },
   "outputs": [],
   "source": [
    "nz=np.fliplr(np.vstack(np.nonzero(shape_ones)).T)\n",
    "\n",
    "inside=nz[path1.contains_points(nz,radius=1)]\n",
    "shape_zeros[inside[:,0],inside[:,1]]=200\n",
    "\n",
    "inside=nz[path2.contains_points(nz,radius=1)]\n",
    "shape_zeros[inside[:,0],inside[:,1]]=200\n",
    "\n",
    "inside=nz[path3.contains_points(nz,radius=1)]\n",
    "shape_zeros[inside[:,0],inside[:,1]]=200\n",
    "\n",
    "inside=nz[path4.contains_points(nz,radius=1)]\n",
    "shape_zeros[inside[:,0],inside[:,1]]=200\n",
    "\n",
    "shape_img=shape_zeros.copy().T"
   ]
  },
  {
   "cell_type": "code",
   "execution_count": null,
   "metadata": {
    "collapsed": false
   },
   "outputs": [],
   "source": [
    "#plt.imshow(shape_img,cmap='Greys',interpolation='none')"
   ]
  },
  {
   "cell_type": "code",
   "execution_count": null,
   "metadata": {
    "collapsed": false
   },
   "outputs": [],
   "source": [
    "ev_img=iom.get_data(larcv.kProductImage2D,\"tpc\")\n",
    "for i in xrange(3):\n",
    "    im2d=larcv.as_image2d(shape_img.astype(np.float32),\n",
    "                     larcv.ImageMeta(shape_img.shape[1],shape_img.shape[0],shape_img.shape[1],shape_img.shape[0],0,0,i))\n",
    "    ev_img.Append(im2d)\n"
   ]
  },
  {
   "cell_type": "code",
   "execution_count": null,
   "metadata": {
    "collapsed": false
   },
   "outputs": [],
   "source": [
    "larbysimg=larcv.LArbysImage()\n",
    "cfg=larcv.CreatePSetFromFile(\"unit.fcl\",\"LArbysImage\")\n",
    "larbysimg.configure(cfg)\n",
    "larbysimg.initialize()\n",
    "larbysimg.process(iom)\n",
    "#larbysimg.process(iom)"
   ]
  },
  {
   "cell_type": "code",
   "execution_count": null,
   "metadata": {
    "collapsed": false
   },
   "outputs": [],
   "source": [
    "print larbysimg.Manager().GetClusterAlg(0)\n",
    "print larbysimg.Manager().GetClusterAlg(1)\n",
    "print larbysimg.Manager().GetClusterAlg(2)"
   ]
  },
  {
   "cell_type": "code",
   "execution_count": null,
   "metadata": {
    "collapsed": false
   },
   "outputs": [],
   "source": [
    "fig,ax=plt.subplots(figsize=(10,10))\n",
    "plt.imshow(shape_img[:,::-1],cmap='Greys',interpolation='none')\n",
    "mgr=larbysimg.Manager()\n",
    "dm=mgr.DataManager()\n",
    "data=dm.Data(0)\n",
    "for x in xrange(data._mip_ctors_v_v[0].size()):\n",
    "    pts=[ [pt.x,pt.y] for pt in np.array(data._mip_ctors_v_v[0][x]) ]\n",
    "    pts=np.array(pts)\n",
    "    plt.plot(pts[:,0],pts[:,1],lw=2)\n",
    "ax=plt.gca()\n",
    "ax.set_title(\"MIP Contours\")"
   ]
  },
  {
   "cell_type": "code",
   "execution_count": null,
   "metadata": {
    "collapsed": false
   },
   "outputs": [],
   "source": [
    "fig,ax=plt.subplots(figsize=(10,10))\n",
    "plt.imshow(shape_img[:,::-1],cmap='Greys',interpolation='none')\n",
    "\n",
    "cv=larbysimg.Manager().GetClusterAlg(1)\n",
    "mgr=larbysimg.Manager()\n",
    "dm=mgr.DataManager()\n",
    "dc_data=dm.Data(1)\n",
    "\n",
    "dc_atomics=dc_data._atomic_ctor_v_v[0]\n",
    "for atomic in dc_atomics:\n",
    "    pts=[ [pt.x,pt.y] for pt in np.array(atomic) ]\n",
    "    pts=np.array(pts)\n",
    "    plt.plot(pts[:,0],pts[:,1],lw=2)\n",
    "    \n",
    "ax=plt.gca()\n",
    "ax.set_xlim(0,900)\n",
    "ax.set_ylim(900,0)\n",
    "ax.set_title(\"Split Contours\")\n",
    "plt.show()"
   ]
  },
  {
   "cell_type": "code",
   "execution_count": null,
   "metadata": {
    "collapsed": false,
    "scrolled": false
   },
   "outputs": [],
   "source": [
    "fig,ax=plt.subplots(figsize=(10,10))\n",
    "plt.imshow(shape_img[:,::-1],cmap='Greys',interpolation='none')\n",
    "\n",
    "cv=larbysimg.Manager().GetClusterAlg(2)\n",
    "mgr=larbysimg.Manager()\n",
    "dm=mgr.DataManager()\n",
    "cv_data=dm.Data(2)\n",
    "\n",
    "cv_ctor_lines_v=cv_data._ctor_lines_v_v_v[0]\n",
    "cv_inter_pts_v=cv_data._ipoints_v_v_v[0]\n",
    "ix=-1\n",
    "\n",
    "for cv_ctor_lines in cv_ctor_lines_v:\n",
    "    print \"==\",cv_ctor_lines.size(),\"==\"\n",
    "    \n",
    "    ix+=1\n",
    "    color=colormap[ix]\n",
    "    \n",
    "    for line in cv_ctor_lines:\n",
    "        plt.plot([0,900],[line.y(0),line.y(900)],alpha=0.7,color=color)\n",
    "\n",
    "    for inter_pt in cv_inter_pts_v[ix]:\n",
    "        plt.plot(inter_pt.x,inter_pt.y,'o',markersize=10,color=color,alpha=0.9)   \n",
    "        \n",
    "    print \"====\"\n",
    "ax=plt.gca()\n",
    "#ax.set_xlim(0,900)\n",
    "#ax.set_ylim(900,0)\n",
    "ax.set_xlim(200,250)\n",
    "ax.set_ylim(520,500)\n",
    "ax.set_title(\"PCA on Contour, Intersection PTS\")\n",
    "plt.show()"
   ]
  },
  {
   "cell_type": "code",
   "execution_count": null,
   "metadata": {
    "collapsed": true
   },
   "outputs": [],
   "source": [
    "import matplotlib.patches as patches"
   ]
  },
  {
   "cell_type": "code",
   "execution_count": null,
   "metadata": {
    "collapsed": false
   },
   "outputs": [],
   "source": [
    "fig,ax=plt.subplots(figsize=(10,10))\n",
    "plt.imshow(shape_img[:,::-1],cmap='Greys',interpolation='none')\n",
    "\n",
    "cv=larbysimg.Manager().GetClusterAlg(3)\n",
    "mgr=larbysimg.Manager()\n",
    "dm=mgr.DataManager()\n",
    "cv_data=dm.Data(3)\n",
    "\n",
    "circledata_v=cv_data._circledata_v_v[0]\n",
    "for circle in circledata_v:\n",
    "    c=patches.Circle((circle.center.x,circle.center.y),\n",
    "                  circle.radius,ec='cyan',fc='none',lw=2)\n",
    "    ax.add_patch(c)\n",
    "\n",
    "ax=plt.gca()\n",
    "ax.set_xlim(0,900)\n",
    "ax.set_ylim(900,0)\n",
    "plt.show()"
   ]
  },
  {
   "cell_type": "code",
   "execution_count": null,
   "metadata": {
    "collapsed": true
   },
   "outputs": [],
   "source": []
  }
 ],
 "metadata": {
  "kernelspec": {
   "display_name": "Python 2",
   "language": "python",
   "name": "python2"
  },
  "language_info": {
   "codemirror_mode": {
    "name": "ipython",
    "version": 2
   },
   "file_extension": ".py",
   "mimetype": "text/x-python",
   "name": "python",
   "nbconvert_exporter": "python",
   "pygments_lexer": "ipython2",
   "version": "2.7.10"
  }
 },
 "nbformat": 4,
 "nbformat_minor": 0
}

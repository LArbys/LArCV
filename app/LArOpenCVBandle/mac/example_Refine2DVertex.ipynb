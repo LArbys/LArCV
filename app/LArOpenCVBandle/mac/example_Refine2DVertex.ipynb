{
 "cells": [
  {
   "cell_type": "markdown",
   "metadata": {},
   "source": [
    "<h2> Refine2DVertex Algorithm Description </h2>\n",
    "\n",
    "This example uses LArCV file contents.\n",
    "So you will see some LArCV related data loading in this example but I try to clearly note where applicable so you can focus on algorithm part."
   ]
  },
  {
   "cell_type": "markdown",
   "metadata": {},
   "source": [
    "<h3> Module Imports </h3>\n",
    "First let's just import modules."
   ]
  },
  {
   "cell_type": "code",
   "execution_count": null,
   "metadata": {
    "collapsed": true
   },
   "outputs": [],
   "source": [
    "import ROOT, sys, os\n",
    "from ROOT import std\n",
    "#from larlite import larlite # LArLite \n",
    "from larcv import larcv # This is LArCV module, you don't have to worry about it\n",
    "import numpy as np\n",
    "import matplotlib\n",
    "import matplotlib.pyplot as plt\n",
    "%matplotlib inline\n",
    "import matplotlib.path as path\n",
    "colormap=['blue','red','magenta','green','orange','yellow','pink']\n",
    "nc=len(colormap)\n"
   ]
  },
  {
   "cell_type": "markdown",
   "metadata": {},
   "source": [
    "OK now we import Geo2D package which is a dependency for Refine2DVertex module."
   ]
  },
  {
   "cell_type": "code",
   "execution_count": null,
   "metadata": {
    "collapsed": true
   },
   "outputs": [],
   "source": [
    "from ROOT import geo2d,cv\n",
    "from ROOT.cv import Point_ as Vector\n",
    "DTYPE='float'"
   ]
  },
  {
   "cell_type": "markdown",
   "metadata": {},
   "source": [
    "If you get an import error here you are probably missing Geo2D package.<br>\n",
    "You can find it here: https://www.github.com/LArbys/Geo2D <br>\n",
    "git pull then follow a usual procedure of building it."
   ]
  },
  {
   "cell_type": "markdown",
   "metadata": {},
   "source": [
    "Successful import? great! \n",
    "One thing to note: as you might know Geo2D is type-templated heavily.\n",
    "DTYPE defined above is used to specialize Geo2D types used in this example to specialize w/ 4byte single floating point.\n",
    "You can change it to a different type if you want to (but be responsible for type compatibilities here and there)"
   ]
  },
  {
   "cell_type": "markdown",
   "metadata": {},
   "source": [
    "<h3> LArCV Data Process </h3>\n",
    "Let's read in some LArCV data file to get an example image to work with."
   ]
  },
  {
   "cell_type": "code",
   "execution_count": null,
   "metadata": {
    "collapsed": false
   },
   "outputs": [],
   "source": [
    "# Create IO\n",
    "iom=larcv.IOManager(larcv.IOManager.kBOTH)        \n",
    "iom.reset()\n",
    "iom.set_verbosity(0) # to see some verbose output on the terminal\n",
    "iom.add_in_file(\"mcc7_bnb_detsim_to_larcv_hires_v00_p00_out_0000.root\")\n",
    "iom.set_out_file(\"/tmp/trash.root\")\n",
    "\n",
    "# Initialize IO\n",
    "iom.initialize()\n",
    "# Read one entry\n",
    "iom.read_entry(10)"
   ]
  },
  {
   "cell_type": "markdown",
   "metadata": {},
   "source": [
    "OK, we got IO ready. Next prepare LArCV interface for LArOpenCV (called LArbysImage)"
   ]
  },
  {
   "cell_type": "code",
   "execution_count": null,
   "metadata": {
    "collapsed": true
   },
   "outputs": [],
   "source": [
    "larbysimg=larcv.LArbysImage()\n",
    "cfg=larcv.CreatePSetFromFile(\"unit.fcl\",\"LArbysImage\")\n",
    "larbysimg.configure(cfg)\n",
    "larbysimg.initialize()"
   ]
  },
  {
   "cell_type": "markdown",
   "metadata": {},
   "source": [
    "OK, the interface module is ready.\n",
    "Let's process the event that we have read-in.\n",
    "All we need to do is to call an event execution function of the interface module.\n",
    "Again, this is LArCV jargon so don't worry too much."
   ]
  },
  {
   "cell_type": "code",
   "execution_count": null,
   "metadata": {
    "collapsed": false
   },
   "outputs": [],
   "source": [
    "larbysimg.process(iom)"
   ]
  },
  {
   "cell_type": "markdown",
   "metadata": {},
   "source": [
    "OK this processed the Refine2DVertex algorithm for this event. \n",
    "Let's take a look at an output."
   ]
  },
  {
   "cell_type": "markdown",
   "metadata": {},
   "source": [
    "<h3> Refine2DVertex </h3>\n",
    "\n",
    "Let's understand what this algorithm does.\n",
    "To see this, first take a look at raw images that are used to process.\n",
    "This can be obtained from ImageClusterManager::InputImages function.\n",
    "In the code below we show the raw images + store them in img_v list type variable.\n",
    "Image shown is artificially thresholded to pixel value > 10 and binalized to 0/1."
   ]
  },
  {
   "cell_type": "code",
   "execution_count": null,
   "metadata": {
    "collapsed": false,
    "scrolled": true
   },
   "outputs": [],
   "source": [
    "pygeo   = geo2d.PyDraw()\n",
    "\n",
    "mgr=larbysimg.Manager()\n",
    "img_v = []\n",
    "\n",
    "xranges=((400,700),(400,700),(450,700))\n",
    "yranges=((900,1100),(750,900),(1350,1600))\n",
    "\n",
    "plane=0\n",
    "for mat in mgr.InputImages():\n",
    "    #img_v.append(pygeo.image(mat).transpose())\n",
    "    print 'Plane',plane\n",
    "    img_v.append(pygeo.image(mat))\n",
    "    shape_img=np.where(img_v[plane]>10.0,1.0,0.0).astype(np.uint8)\n",
    "    fig,ax=plt.subplots(figsize=(12,12))\n",
    "    plt.imshow(shape_img,cmap='Greys',interpolation='none')\n",
    "    ax.set_ylim(yranges[plane][0],yranges[plane][1])\n",
    "    ax.set_xlim(xranges[plane][0],xranges[plane][1])\n",
    "    plt.show()\n",
    "    plane+=1\n"
   ]
  },
  {
   "cell_type": "markdown",
   "metadata": {},
   "source": [
    "Refine2DVertex works on CircleVertex's output.\n",
    "Let's first take a look at the output of CircleVertex in these images.\n",
    "Below we show:<br>\n",
    "0) Global PCA per contour (shown in blue color lines) <br> \n",
    "1) Crossing of all PCAs in 0) (shown in blue points) <br>\n",
    "2) Found rough vertex region in circle (shown in cyan) <br><br>\n"
   ]
  },
  {
   "cell_type": "code",
   "execution_count": null,
   "metadata": {
    "collapsed": false,
    "scrolled": false
   },
   "outputs": [],
   "source": [
    "dm = mgr.DataManager()\n",
    "\n",
    "import matplotlib.patches as patches\n",
    "xranges=((500,700),(500,700),(500,700))\n",
    "yranges=((900,1000),(750,900),(1400,1500))\n",
    "\n",
    "for plane in xrange(3):\n",
    "    print 'plane',plane\n",
    "    fig,ax=plt.subplots(figsize=(20,20))\n",
    "    shape_img=np.where(img_v[plane]>10.0,1.0,0.0).astype(np.uint8)\n",
    "    plt.imshow(shape_img,cmap='Greys',interpolation='none')\n",
    "    nz_pixels=np.where(shape_img>0.0)\n",
    "    ax.set_ylim(yranges[plane][0],yranges[plane][1])\n",
    "    ax.set_xlim(xranges[plane][0],xranges[plane][1])\n",
    "    ix=-1\n",
    "\n",
    "    cv_data=dm.Data(2)\n",
    "    \n",
    "    cv_inter_pts_v=cv_data._ipoints_v_v_v[plane]\n",
    "    cv_ctor_lines_v=cv_data._ctor_lines_v_v_v[plane]\n",
    "\n",
    "    for cv_ctor_lines in cv_ctor_lines_v:\n",
    "    \n",
    "        ix+=1\n",
    "        color=colormap[ix]\n",
    "        for line in cv_ctor_lines:\n",
    "            plt.plot([0,900],[line.y(0),line.y(900)],alpha=0.7,color=color)\n",
    "        \n",
    "        for inter_pt in cv_inter_pts_v[ix]:\n",
    "            plt.plot(inter_pt.x,inter_pt.y,'o',markersize=10,color=color,alpha=0.9)   \n",
    "        \n",
    "\n",
    "    cv=larbysimg.Manager().GetClusterAlg(3)\n",
    "    mgr=larbysimg.Manager()\n",
    "    dm=mgr.DataManager()\n",
    "    cv_data=dm.Data(3)\n",
    "    circle_v = cv_data._circledata_v_v[plane]\n",
    "    for circle in circle_v:\n",
    "        c=patches.Circle((circle.center.x,circle.center.y),10,ec='cyan',alpha=0.5,fc='none',lw=10)\n",
    "        ax.add_patch(c)\n",
    "        \n",
    "    ax=plt.gca()\n",
    "    ax.set_aspect(1.0)\n",
    "    plt.show()"
   ]
  },
  {
   "cell_type": "markdown",
   "metadata": {},
   "source": [
    "Rough estimate on vertex region looks OK.\n",
    "Next look at Refine2DVertex's search path for true vertex point."
   ]
  },
  {
   "cell_type": "code",
   "execution_count": null,
   "metadata": {
    "collapsed": false,
    "scrolled": false
   },
   "outputs": [],
   "source": [
    "import matplotlib.patches as patches\n",
    "xranges=((600,700),(575,675),(575,700))\n",
    "yranges=((900,1000),(775,875),(1375,1475))\n",
    "for plane in xrange(3):\n",
    "    fig,ax=plt.subplots(figsize=(20,20))\n",
    "    shape_img=np.where(img_v[plane]>10.0,1.0,0.0).astype(np.uint8)\n",
    "    #shape_img[:,::-1]=shape_img\n",
    "    plt.imshow(shape_img,cmap='Greys',interpolation='none')\n",
    "    nz_pixels=np.where(shape_img>0.0)\n",
    "    #ax.set_ylim(np.min(nz_pixels[0])+50,np.max(nz_pixels[0])-40)\n",
    "    #ax.set_xlim(np.min(nz_pixels[1])+250,np.max(nz_pixels[1])-90)\n",
    "    #ax.set_ylim(np.min(nz_pixels[0])-10,np.max(nz_pixels[0])+10)\n",
    "    #ax.set_xlim(np.min(nz_pixels[1])-10,np.max(nz_pixels[1])+10)\n",
    "    #ax.set_ylim(875,975)\n",
    "    #ax.set_xlim(600,700)\n",
    "    ax.set_ylim(yranges[plane][0],yranges[plane][1])\n",
    "    ax.set_xlim(xranges[plane][0],xranges[plane][1])\n",
    "    ix=-1\n",
    "\n",
    "\n",
    "    for cv_ctor_lines in cv_ctor_lines_v:\n",
    "    \n",
    "        ix+=1\n",
    "        color=colormap[ix]\n",
    "        for line in cv_ctor_lines:\n",
    "            pass#plt.plot([0,900],[line.y(0),line.y(900)],alpha=0.7,color=color)\n",
    "        \n",
    "        for inter_pt in cv_inter_pts_v[ix]:\n",
    "            pass#plt.plot(inter_pt.x,inter_pt.y,'o',markersize=10,color=color,alpha=0.9)   \n",
    "        \n",
    "\n",
    "    cv=larbysimg.Manager().GetClusterAlg(3)\n",
    "    mgr=larbysimg.Manager()\n",
    "    dm=mgr.DataManager()\n",
    "\n",
    "    ref_data = dm.Data(4)\n",
    "\n",
    "    for idx in xrange(ref_data._xs_vv[plane].size()):\n",
    "        pt = ref_data._xs_vv[plane][idx]\n",
    "        plt.plot([pt.x],[pt.y],color='r',marker='o',markersize=20)\n",
    "        print 'Crossing Pt.',idx,'...',pt.x,pt.y\n",
    "        #print ref_data._x_vv[0][idx],ref_data._y_vv[0][idx]\n",
    "    for l in ref_data._pca_vv[plane]:\n",
    "        plt.plot([0,900],[l.y(0),l.y(900)],'-',color='orange',linewidth=2)\n",
    "        #print l.pt.x,l.pt.y,l.dir.x,l.dir.y    \n",
    "\n",
    "    print ref_data._circle_trav_vv[plane].size()\n",
    "    for circle in ref_data._circle_trav_vv[plane]:\n",
    "        c=patches.Circle((circle.center.x,circle.center.y),circle.radius,ec='cyan',alpha=0.2,fc='none',lw=10)\n",
    "        ax.add_patch(c)\n",
    "   \n",
    "    # Show final circle\n",
    "    for idx in xrange(ref_data._cand_score_vv.size()):\n",
    "        score = ref_data._cand_score_vv[plane][idx]\n",
    "        cand_vtx = ref_data._cand_vtx_vv[plane][idx]\n",
    "        print 'Candidate vtx:',cand_vtx.x,cand_vtx.y,'... score:',score\n",
    "        plt.plot([cand_vtx.x],[cand_vtx.y],marker='o',color='blue',markersize=15)\n",
    "\n",
    "    ax=plt.gca()\n",
    "    ax.set_aspect(1.0)\n",
    "    plt.savefig\n",
    "    plt.show()"
   ]
  },
  {
   "cell_type": "markdown",
   "metadata": {},
   "source": [
    "What is shown in the above plots:\n",
    "\n",
    "0) Red points denote the crossing point between the rough vertex's circle and particle trajectories. A continuous pixels that consist by one crossing are merged into one point by taking the x/y average. <br><br>\n",
    "1) At each red point, using 5x5 square patch, local PCA is computed and shown by extending it to the image edge. <br><br>\n",
    "2) For each red point with an extended PCA (orange line), we create a circle with user configurable radius. Then we move this circle along the orange line within the region defined by a user. Each time we move a circle, we compute again crossing point of particles' trajectory and a circumference, and compute local PCA using 5x5 square patch. We then compare the angle between such local PCA and a line that connects circle's center to a subject crossing point. The sum of this angle is used to minimize. <br><br>\n",
    "3) After scanning along the orange line the algorithm suggests the point where angle diff of two lines are minimal = likely at the vertex. Overlapped cyan circles are from the steps taken by the algorithm <br><br>"
   ]
  },
  {
   "cell_type": "markdown",
   "metadata": {},
   "source": [
    "Below is a python implementation made by myself for code development."
   ]
  },
  {
   "cell_type": "code",
   "execution_count": null,
   "metadata": {
    "collapsed": false,
    "scrolled": false
   },
   "outputs": [],
   "source": [
    "import cv2\n",
    "\n",
    "# pick ones closest in time\n",
    "cx_v=[641.995788574,643.303588867,643.762451172 ]\n",
    "cy_v=[936.084777832,823.297058105,1424.29443359 ]\n",
    "#cx_v=[648.477050781,643.303588867,643.762451172 ]\n",
    "#cy_v=[940.827514648,823.297058105,1424.29443359 ]\n",
    "xranges=((600,700),(575,675),(575,700))\n",
    "yranges=((900,1000),(775,875),(1375,1475))\n",
    "\n",
    "#cx,cy = (641.995788574,936.084777832)\n",
    "#cx,cy = (648.477050781,940.827514648)\n",
    "#cx,cy = (642.,935.)\n",
    "for plane in xrange(3):\n",
    "\n",
    "    fig,ax = plt.subplots(figsize=(10,10))\n",
    "    cx = cx_v[plane]\n",
    "    cy = cy_v[plane]\n",
    "\n",
    "    shape_img=np.where(img_v[plane]>10.0,1.0,0.0).astype(np.uint8)\n",
    "    pimg=cv2.linearPolar(shape_img,(cx,cy),50,flags=cv2.WARP_FILL_OUTLIERS)\n",
    "    col = 10./20. * pimg.shape[1]\n",
    "    xv=[]\n",
    "    yv=[]\n",
    "\n",
    "    row_coll_v=[[]]\n",
    "    combine_last = False\n",
    "\n",
    "    for row in xrange(pimg.shape[0]):\n",
    "        if pimg[row][col] < 1: \n",
    "            if len(row_coll_v[-1]): row_coll_v.append([])\n",
    "            continue\n",
    "        row_coll_v[-1].append(row)\n",
    "    \n",
    "    for idx in xrange(len(row_coll_v)):\n",
    "        row_coll_v[idx] = np.array(row_coll_v[idx])\n",
    "\n",
    "    # Check if the last element should be merged or not\n",
    "    if len(row_coll_v) > 1:\n",
    "        if row_coll_v[0][0] == 0 and row_coll_v[-1][-1] == pimg.shape[0]-1:\n",
    "            row_coll_v[-1] -= (pimg.shape[0] - 1)\n",
    "            row_coll_v[0] = np.concatenate((row_coll_v[0],row_coll_v[-1]),axis=0)\n",
    "            row_coll_v.pop()\n",
    "        for row_coll in row_coll_v:\n",
    "\n",
    "            ar = np.array(row_coll)\n",
    "            if len(row_coll) < 1: continue\n",
    "            ave_row = ar.mean()\n",
    "            if ave_row < 0:\n",
    "                ave_row += (pimg.shape[0]-1)\n",
    "            xv.append(cx + 10 * np.cos(2 * 3.1415 * float(ave_row/pimg.shape[0])))\n",
    "            yv.append(cy + 10 * np.sin(2 * 3.1415 * float(ave_row/pimg.shape[0])))\n",
    "            plt.plot([col],[ave_row],marker='o',color='red',markersize=10)\n",
    "    \n",
    "    plt.imshow(pimg,cmap='Greys',interpolation='none')\n",
    "\n",
    "    fig,ax = plt.subplots(figsize=(20,20))\n",
    "    for idx in xrange(len(xv)):\n",
    "        plt.plot([xv[idx]],[yv[idx]],marker='o',color='yellow', markersize=10)\n",
    "        pt1 = Vector(DTYPE)(cx,cy)\n",
    "        pt2 = Vector(DTYPE)(xv[idx],yv[idx])\n",
    "        d = geo2d.dir(pt1,pt2)\n",
    "        l = geo2d.HalfLine(DTYPE)(pt1,d)\n",
    "        if d.x < 0:\n",
    "            plt.plot([cx,0],[cy,l.y(0.)],marker='o',color='red',linestyle='--',linewidth=2)\n",
    "        else:\n",
    "            plt.plot([cx,shape_img.shape[1]],[cy,l.y(shape_img.shape[1])],marker='o',color='red',linestyle='--',linewidth=2)\n",
    "    \n",
    "    c=patches.Circle((cx,cy),10,ec='cyan',fc='none',alpha=0.5,lw=10)\n",
    "    ax.add_patch(c)\n",
    "\n",
    "    plt.plot([cx],[cy],marker='o',color='red',markersize=10)\n",
    "    \n",
    "    nz_pixels=np.where(shape_img>0.0)\n",
    "    ax.set_ylim(yranges[plane][0],yranges[plane][1])\n",
    "    ax.set_xlim(xranges[plane][0],xranges[plane][1])\n",
    "    plt.imshow(shape_img,cmap='Greys',interpolation='none')\n"
   ]
  },
  {
   "cell_type": "code",
   "execution_count": null,
   "metadata": {
    "collapsed": true
   },
   "outputs": [],
   "source": []
  }
 ],
 "metadata": {
  "kernelspec": {
   "display_name": "Python 2",
   "language": "python",
   "name": "python2"
  },
  "language_info": {
   "codemirror_mode": {
    "name": "ipython",
    "version": 2
   },
   "file_extension": ".py",
   "mimetype": "text/x-python",
   "name": "python",
   "nbconvert_exporter": "python",
   "pygments_lexer": "ipython2",
   "version": "2.7.10"
  }
 },
 "nbformat": 4,
 "nbformat_minor": 0
}

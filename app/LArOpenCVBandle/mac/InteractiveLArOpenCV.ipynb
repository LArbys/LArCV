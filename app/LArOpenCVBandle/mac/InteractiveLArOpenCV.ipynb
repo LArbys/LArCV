{
 "cells": [
  {
   "cell_type": "code",
   "execution_count": null,
   "metadata": {
    "collapsed": true
   },
   "outputs": [],
   "source": [
    "import ROOT\n",
    "from ROOT import cv, geo2d\n",
    "geo2d.load_pyutil\n",
    "from larocv_debug import *\n",
    "\n",
    "%matplotlib inline\n",
    "#%pylab\n",
    "import matplotlib\n",
    "import matplotlib.pyplot as plt\n",
    "import matplotlib.colors as mpc\n",
    "from mpl_toolkits.mplot3d import Axes3D\n",
    "import numpy as np\n",
    "import matplotlib.patches as patches\n",
    "import scipy\n",
    "from scipy import interpolate\n",
    "import pandas as pd\n",
    "import itertools\n",
    "from root_numpy import root2array, root2rec, tree2rec, array2root\n",
    "\n",
    "from ROOT.cv import Point_ as Vector2D\n",
    "DTYPE='float'\n"
   ]
  },
  {
   "cell_type": "code",
   "execution_count": null,
   "metadata": {
    "collapsed": true
   },
   "outputs": [],
   "source": [
    "\n",
    "pygeo   = geo2d.PyDraw()\n",
    "proc    = create_process('test.fcl','mcc7_bnb_detsim_to_larcv_hires_v00_p00_out_0000.root')\n",
    "manager = proc.process_ptr(0).Manager()\n",
    "dataman = manager.DataManager()"
   ]
  },
  {
   "cell_type": "code",
   "execution_count": null,
   "metadata": {
    "collapsed": false
   },
   "outputs": [],
   "source": [
    "proc.process_entry()\n",
    "mat_v = manager.InputImages()\n"
   ]
  },
  {
   "cell_type": "code",
   "execution_count": null,
   "metadata": {
    "collapsed": false
   },
   "outputs": [],
   "source": [
    "img_v = []\n",
    "for mat in mat_v:\n",
    "    img_v.append(pygeo.image(mat).transpose())\n",
    "    fig,ax=plt.subplots(figsize=(12,12))\n",
    "    plt.imshow(img_v[-1])"
   ]
  },
  {
   "cell_type": "code",
   "execution_count": null,
   "metadata": {
    "collapsed": false
   },
   "outputs": [],
   "source": [
    "IMAGE_ID = 2\n",
    "ALGO_ID  = 1\n",
    "\n",
    "alg = manager.GetClusterAlg(ALGO_ID)\n",
    "alg_data = dataman.Data(ALGO_ID)\n",
    "in_clusters = ROOT.larocv.Cluster2DArray_t()\n",
    "if ALGO_ID > 0:\n",
    "    in_clusters = manager.Clusters(IMAGE_ID,ALGO_ID-1)\n",
    "out_clusters = manager.Clusters(IMAGE_ID,ALGO_ID)\n",
    "print 'Algorithm name: \"%s\"' % alg.Name()\n",
    "print 'Input cluster count:', in_clusters.size()\n",
    "print 'Output cluster count:', out_clusters.size()\n",
    "print 'Algorithm data:', alg_data"
   ]
  },
  {
   "cell_type": "code",
   "execution_count": null,
   "metadata": {
    "collapsed": true
   },
   "outputs": [],
   "source": []
  }
 ],
 "metadata": {
  "kernelspec": {
   "display_name": "Python 2",
   "language": "python",
   "name": "python2"
  },
  "language_info": {
   "codemirror_mode": {
    "name": "ipython",
    "version": 2
   },
   "file_extension": ".py",
   "mimetype": "text/x-python",
   "name": "python",
   "nbconvert_exporter": "python",
   "pygments_lexer": "ipython2",
   "version": "2.7.10"
  }
 },
 "nbformat": 4,
 "nbformat_minor": 0
}

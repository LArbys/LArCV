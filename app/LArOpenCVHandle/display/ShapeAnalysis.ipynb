{
 "cells": [
  {
   "cell_type": "code",
   "execution_count": null,
   "metadata": {},
   "outputs": [],
   "source": [
    "import os, sys\n",
    "from larcv import larcv\n",
    "larcv.load_pyutil\n",
    "larcv.load_cvutil\n",
    "import cv2\n",
    "import ROOT\n",
    "from ROOT import fcllite\n",
    "from ROOT import geo2d\n",
    "pygeo = geo2d.PyDraw()\n",
    "\n",
    "from ROOT import larocv\n",
    "from ROOT import std\n",
    "from ROOT import cv\n",
    "from ROOT.cv import Point_ as Vector\n",
    "import matplotlib\n",
    "import matplotlib.pyplot as plt\n",
    "import matplotlib.patches as patches\n",
    "matplotlib.rcParams['font.size']=20\n",
    "matplotlib.rcParams['font.family']='serif'\n",
    "%matplotlib inline\n",
    "import numpy as np\n",
    "import math\n",
    "\n",
    "colors = [\"blue\", \"green\", \"red\", \"cyan\", \"magenta\", \"yellow\"]\n",
    "vertex_type = [\"kUnknown\", \"kTime\", \"kWire\",   \"kShower\", \"kEndOfTrack\", \"kEdge\"]"
   ]
  },
  {
   "cell_type": "code",
   "execution_count": null,
   "metadata": {},
   "outputs": [],
   "source": [
    "proc = larcv.ProcessDriver('ProcessDriver')\n",
    "CFG=\"../cfg/prod_fullchain_ssnet_combined_test.cfg\"\n",
    "\n",
    "preprocessed=False\n",
    "\n",
    "print \"Loading config... \",CFG\n",
    "proc.configure(CFG)\n",
    "flist=ROOT.std.vector('std::string')()\n",
    "flist.push_back(\"/Users/dayajun/Desktop/input/intrinsic_nue/fcn_all.root\")\n",
    "proc.override_input_file(flist)\n",
    "proc.override_output_file(\"/tmp/cacca.root\")\n",
    "proc.override_ana_file(\"/tmp/test.root\")\n",
    "\n",
    "vinroi_id  = proc.process_id(\"VertexInROI\")\n",
    "reco_id    = proc.process_id(\"LArbysImage\")\n",
    "larbysimg  = proc.process_ptr(reco_id)\n",
    "\n",
    "proc.initialize()"
   ]
  },
  {
   "cell_type": "code",
   "execution_count": null,
   "metadata": {},
   "outputs": [],
   "source": [
    "event=0#0,5(fixed), 8(fixed),11,12,13,21(too hard),14(fxxk),16,17(have something to do with start radius)\n",
    "proc.batch_process(event,1)\n"
   ]
  },
  {
   "cell_type": "code",
   "execution_count": null,
   "metadata": {},
   "outputs": [],
   "source": [
    "mgr=larbysimg.Manager()  \n",
    "dm=mgr.DataManager()\n",
    "mid = 0\n",
    "for module in dm.Names():\n",
    "    print mid,\",\", module\n",
    "    mid+=1"
   ]
  },
  {
   "cell_type": "code",
   "execution_count": null,
   "metadata": {},
   "outputs": [],
   "source": [
    "img_v  = [None,None,None]\n",
    "oimg_v = [None,None,None]\n",
    "track_img_v  = [None,None,None]\n",
    "otrack_img_v = [None,None,None]\n",
    "shower_img_v  = [None,None,None]\n",
    "oshower_img_v = [None,None,None]\n",
    "\n",
    "for ix in xrange(3):\n",
    "    oimg_v[ix]        = pygeo.image(mgr.OriginalInputImages(0)[ix])\n",
    "    otrack_img_v[ix]  = pygeo.image(mgr.OriginalInputImages(1)[ix])\n",
    "    oshower_img_v[ix] = pygeo.image(mgr.OriginalInputImages(2)[ix])\n",
    "    img_v[ix]         = pygeo.image(mgr.InputImages(0)[ix])\n",
    "    track_img_v[ix]   = pygeo.image(mgr.InputImages(1)[ix])\n",
    "    shower_img_v[ix]  = pygeo.image(mgr.InputImages(2)[ix])"
   ]
  },
  {
   "cell_type": "markdown",
   "metadata": {},
   "source": [
    "# ShapeAnalysis"
   ]
  },
  {
   "cell_type": "code",
   "execution_count": null,
   "metadata": {},
   "outputs": [],
   "source": [
    "assman=dm.AssManager()\n",
    "algoid=dm.ID(\"combinevertex\")\n",
    "data=dm.Data(algoid,0)\n",
    "vtx_data=dm.Data(algoid,0).as_vector()\n",
    "\n",
    "print 'has # of vertices', vtx_data.size()\n",
    "for vtxid,vtx in enumerate(vtx_data):\n",
    "    print \"vertex type:\",vertex_type[vtx.type]\n",
    "    print \"<===================Start dQds on vertex_id \",vtxid,\" ==========================>\"\n",
    "    for plane in xrange(3):\n",
    "        print \"<===================plane \", plane,\"================================>\"\n",
    "        \n",
    "        shape_img1 = track_img_v[plane]\n",
    "        shape_img2 = shower_img_v[plane]\n",
    "        shape_img1=np.where(shape_img1>10.0,255.0,0.0).astype(np.uint8)\n",
    "        shape_img2=np.where(shape_img2>10.0,100.0,0.0).astype(np.uint8)\n",
    "        shape_img=shape_img1+shape_img2\n",
    "        nz_pixels=np.where(shape_img>0.0)\n",
    "\n",
    "        algoid=dm.ID(\"angleanalysis\")\n",
    "        par_data=dm.Data(algoid,plane)\n",
    "        \n",
    "        ass_t = np.array(assman.GetManyAss(vtx,par_data.ID()))# Get assciated particle\n",
    "        \n",
    "        if ass_t.size!=2:\n",
    "            print \"plane \",plane, \"has\",ass_t.size,\"particles coming out\"\n",
    "            continue\n",
    "        \n",
    "        fig,ax = plt.subplots(figsize=(8,8),facecolor='w')\n",
    "        ax.imshow(shape_img,cmap='Greys',interpolation='none')\n",
    "\n",
    "        par_data_v=par_data.as_vector()\n",
    "        x_2d = vtx.vtx2d_v[plane].pt.x\n",
    "        y_2d = vtx.vtx2d_v[plane].pt.y    \n",
    "        \n",
    "        cid = 0# color_idx\n",
    "        vtx_dqds = 0\n",
    "        \n",
    "        for id_ in ass_t:\n",
    "            ctor=[[pt.x,pt.y] for pt in par_data_v[id_]._ctor]\n",
    "            pca  = larocv.CalcPCA(par_data_v[id_]._ctor)\n",
    "            if len(ctor)==0: continue\n",
    "            ctor.append(ctor[0])\n",
    "            ctor=np.array(ctor)\n",
    "            ax.plot(ctor[:,0],ctor[:,1],'-',lw=4,alpha=0.8, color = colors[cid])\n",
    "            \n",
    "            cir = par_data_v[id_]._circle\n",
    "            cid += 1\n",
    "                    \n",
    "        ax.plot(x_2d, y_2d,'*',color=colors[-1],markersize=20)\n",
    "        ax.set_title(\"VertexID:%i, Vertex Type: %d on plane %i\"%(vtxid,vtx.type, plane))\n",
    "\n",
    "        ax.set_ylim(np.min(nz_pixels[0])-10,np.max(nz_pixels[0])+10)\n",
    "        ax.set_xlim(np.min(nz_pixels[1])-10,np.max(nz_pixels[1])+10)\n",
    "        plt.show()\n",
    "        print \"<=============================================================================>\"\n",
    "    print \"<===================End combined vertex \",vtxid,\" ==========================>\""
   ]
  },
  {
   "cell_type": "code",
   "execution_count": null,
   "metadata": {},
   "outputs": [],
   "source": []
  },
  {
   "cell_type": "code",
   "execution_count": null,
   "metadata": {},
   "outputs": [],
   "source": []
  },
  {
   "cell_type": "code",
   "execution_count": null,
   "metadata": {},
   "outputs": [],
   "source": []
  },
  {
   "cell_type": "code",
   "execution_count": null,
   "metadata": {},
   "outputs": [],
   "source": []
  },
  {
   "cell_type": "code",
   "execution_count": null,
   "metadata": {},
   "outputs": [],
   "source": []
  },
  {
   "cell_type": "code",
   "execution_count": null,
   "metadata": {},
   "outputs": [],
   "source": []
  }
 ],
 "metadata": {
  "kernelspec": {
   "display_name": "Python 2",
   "language": "python",
   "name": "python2"
  },
  "language_info": {
   "codemirror_mode": {
    "name": "ipython",
    "version": 2
   },
   "file_extension": ".py",
   "mimetype": "text/x-python",
   "name": "python",
   "nbconvert_exporter": "python",
   "pygments_lexer": "ipython2",
   "version": "2.7.10"
  }
 },
 "nbformat": 4,
 "nbformat_minor": 1
}

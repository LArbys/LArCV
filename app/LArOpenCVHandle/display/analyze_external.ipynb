{
 "cells": [
  {
   "cell_type": "markdown",
   "metadata": {},
   "source": [
    "### Analyze a single event without LArbysImage"
   ]
  },
  {
   "cell_type": "code",
   "execution_count": null,
   "metadata": {},
   "outputs": [],
   "source": [
    "import sys,os,tempfile\n",
    "\n",
    "from larcv import larcv\n",
    "import ROOT\n",
    "from ROOT import larocv\n",
    "\n",
    "import matplotlib\n",
    "matplotlib.rcParams['font.size']=20\n",
    "matplotlib.rcParams['font.family']='serif'\n",
    "from matplotlib import pyplot as plt\n",
    "import numpy as np\n",
    "\n",
    "from ROOT import geo2d\n",
    "pygeo = geo2d.PyDraw()\n",
    "\n",
    "%matplotlib inline"
   ]
  },
  {
   "cell_type": "markdown",
   "metadata": {},
   "source": [
    "### ProcessDriver configuration"
   ]
  },
  {
   "cell_type": "code",
   "execution_count": null,
   "metadata": {},
   "outputs": [],
   "source": [
    "INFILE = \"/tmp/one_event_test.root\"\n",
    "CFG  = os.path.join(os.environ['LARCV_BASEDIR'],\"app/LArOpenCVHandle/cfg/develop_external.cfg\")\n",
    "proc = larcv.ProcessDriver('ProcessDriver')\n",
    "\n",
    "proc.configure(CFG)\n",
    "proc.override_input_file(ROOT.std.vector(\"string\")(1,ROOT.std.string(INFILE)))\n",
    "proc.initialize()  \n",
    "iom      = proc.io()\n",
    "ext_id   = proc.process_id(\"LArbysImageExtract\")                                                                                                                          \n",
    "ext_proc = proc.process_ptr(ext_id) "
   ]
  },
  {
   "cell_type": "markdown",
   "metadata": {},
   "source": [
    "### Entry selection"
   ]
  },
  {
   "cell_type": "code",
   "execution_count": null,
   "metadata": {},
   "outputs": [],
   "source": [
    "event=0\n",
    "proc.process_entry(event)"
   ]
  },
  {
   "cell_type": "markdown",
   "metadata": {},
   "source": [
    "### Using LArbysImageExtract (ext_proc)\n",
    "LArbysImageExtract is a module which gives the ability to access the LArOpenCV cv::Mat image in the same way as fed to the algorithm.\n",
    "\n",
    "Call **ext_proc.FillcvMat()** to take the ADC, Track, Shower, ThruMu, StopMu larcv::Image2D data and convert to cv::Mat. Optionally you can call **ext_proc.FillcvMat(larcv::ROI)** to crop the images to the given ROI"
   ]
  },
  {
   "cell_type": "code",
   "execution_count": null,
   "metadata": {},
   "outputs": [],
   "source": [
    "ext_proc.FillcvMat()\n",
    "fig,ax=plt.subplots(figsize=(20,20))\n",
    "plane=2\n",
    "adc_mat=ext_proc.ADCImage(plane)\n",
    "adc_mat=larocv.Threshold(adc_mat,10,255)\n",
    "tmi = pygeo.image(adc_mat)\n",
    "plt.imshow(tmi.T,cmap='Greys',interpolation='none')\n",
    "plt.show()"
   ]
  },
  {
   "cell_type": "markdown",
   "metadata": {},
   "source": [
    "Here i'll get the first ROI by getting it from IOManager (**iom**), then call **FillcvMat(...)** again, this time specifying an ROI.\n",
    "\n",
    "The result is displayed"
   ]
  },
  {
   "cell_type": "code",
   "execution_count": null,
   "metadata": {},
   "outputs": [],
   "source": [
    "roi = iom.get_data(larcv.kProductROI,\"croimerge\").ROIArray()[0]\n",
    "ext_proc.FillcvMat(roi)\n",
    "print \"Cropping to\",roi"
   ]
  },
  {
   "cell_type": "code",
   "execution_count": null,
   "metadata": {},
   "outputs": [],
   "source": [
    "for plane in xrange(3):\n",
    "    fig,ax=plt.subplots(figsize=(20,20))\n",
    "    mat=ext_proc.ADCImage(plane)\n",
    "    mat = larocv.Threshold(mat,10,255)\n",
    "    #for contour in larocv.FindContours(mat):\n",
    "    #    ctor = np.array([[pt.x,pt.y] for pt in contour])\n",
    "    #    plt.plot(ctor[:,0],ctor[:,1],lw=5)\n",
    "    tmi = pygeo.image(mat)\n",
    "    ax.imshow(tmi,cmap='Greys',interpolation='none')\n",
    "    ax.grid()\n",
    "    ax.set_title(\"Plane: %d\"%plane,fontsize=30)\n",
    "    plt.show()"
   ]
  },
  {
   "cell_type": "markdown",
   "metadata": {},
   "source": [
    "## Side by side\n",
    "For fun I can put the track, shower, thrumu, stopmu images side by side"
   ]
  },
  {
   "cell_type": "code",
   "execution_count": null,
   "metadata": {},
   "outputs": [],
   "source": [
    "plane=1\n",
    "fig,ax = plt.subplots(figsize=(20,20))\n",
    "\n",
    "trk_mat = ext_proc.TrackImage(plane)\n",
    "trk_mat = larocv.Threshold(trk_mat,10,150)\n",
    "trk_img = pygeo.image(trk_mat)\n",
    "\n",
    "shr_mat = ext_proc.ShowerImage(plane)\n",
    "shr_mat = larocv.Threshold(shr_mat,10,80)\n",
    "shr_img = pygeo.image(shr_mat)\n",
    "\n",
    "tmu_mat = ext_proc.ThruMuImage(plane)\n",
    "tmu_img = pygeo.image(tmu_mat)\n",
    "\n",
    "smu_mat = ext_proc.StopMuImage(plane)\n",
    "smu_img = pygeo.image(smu_mat)\n",
    "\n",
    "tmu_img = np.where(tmu_img>0.0,0.0,1.0)\n",
    "smu_img = np.where(smu_img>0.0,0.0,1.0)\n",
    "\n",
    "comb_img = trk_img + shr_img\n",
    "comb_img *= tmu_img\n",
    "comb_img *= smu_img\n",
    "\n",
    "ax.imshow(comb_img,cmap='jet',interpolation='none',vmin=1,vmax=255)\n",
    "\n",
    "ax.grid()\n",
    "ax.set_title(\"Plane: %d\"%plane,fontsize=30)\n",
    "plt.show()"
   ]
  },
  {
   "cell_type": "code",
   "execution_count": null,
   "metadata": {},
   "outputs": [],
   "source": []
  }
 ],
 "metadata": {
  "kernelspec": {
   "display_name": "Python 2",
   "language": "python",
   "name": "python2"
  },
  "language_info": {
   "codemirror_mode": {
    "name": "ipython",
    "version": 2
   },
   "file_extension": ".py",
   "mimetype": "text/x-python",
   "name": "python",
   "nbconvert_exporter": "python",
   "pygments_lexer": "ipython2",
   "version": "2.7.10"
  }
 },
 "nbformat": 4,
 "nbformat_minor": 0
}

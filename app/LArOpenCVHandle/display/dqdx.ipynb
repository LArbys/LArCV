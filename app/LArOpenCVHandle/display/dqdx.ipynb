{
 "cells": [
  {
   "cell_type": "code",
   "execution_count": null,
   "metadata": {
    "collapsed": false
   },
   "outputs": [],
   "source": [
    "import sys,os\n",
    "\n",
    "from larcv import larcv\n",
    "import ROOT\n",
    "\n",
    "import matplotlib\n",
    "matplotlib.rcParams['font.size']=20\n",
    "matplotlib.rcParams['font.family']='serif'\n",
    "from matplotlib import pyplot as plt\n",
    "import numpy as np\n",
    "import pandas as pd\n",
    "from ROOT import geo2d\n",
    "pygeo = geo2d.PyDraw()\n",
    "\n",
    "%matplotlib inline"
   ]
  },
  {
   "cell_type": "code",
   "execution_count": null,
   "metadata": {
    "collapsed": false
   },
   "outputs": [],
   "source": [
    "iom=larcv.IOManager()\n",
    "#...nu_e...\n",
    "iom.add_in_file(\"/Users/vgenty/Desktop/intrinsic_nue/out_pyroi/larcv_fcn_out_0000_0099.root\")\n",
    "iom.initialize()\n",
    "tf=ROOT.TFile(\"/Users/vgenty/Desktop/intrinsic_nue/out_pyroi/c_ana_0000_0099.root\")\n",
    "#...nu_nc...\n",
    "recotree=tf.RecoTree"
   ]
  },
  {
   "cell_type": "code",
   "execution_count": null,
   "metadata": {
    "collapsed": false,
    "scrolled": false
   },
   "outputs": [],
   "source": [
    "#...nu_e...\n",
    "#entry 14 -- 1 plane good\n",
    "#entry 23 -- 2 plane good\n",
    "#entry 38 -- plane 2 trunk is classified as track, plane 0, none of it is, dead wire region @ vertex plane 1\n",
    "#entry 45 -- 2 plane good\n",
    "#entry 51 -- 2 plane good\n",
    "#...nu_nc...\n",
    "recotree.GetEntry(6) \n",
    "print \"Verticies: \", recotree.Vertex3D_v.size()\n",
    "run    = recotree.run\n",
    "subrun = recotree.subrun\n",
    "event  = recotree.event\n",
    "entry  = recotree.entry\n",
    "print \"RSEE: \",run,subrun,event,entry"
   ]
  },
  {
   "cell_type": "code",
   "execution_count": null,
   "metadata": {
    "collapsed": false,
    "scrolled": false
   },
   "outputs": [],
   "source": [
    "iom.read_entry(entry)\n",
    "evimg=iom.get_data(larcv.kProductImage2D,\"tpc\")\n",
    "img_v = [evimg.Image2DArray().at(i) for i in xrange(3)]\n",
    "\n",
    "for vtxid in xrange(recotree.Vertex3D_v.size()):\n",
    "    vertex=recotree.Vertex3D_v.at(vtxid)\n",
    "    print \"<==START======================>\"\n",
    "    print \"<=====Vertex %d===============>\"%vtxid\n",
    "    print \"<==============Type: %d=======>\"%vertex.type\n",
    "    pcluster_vv=recotree.ParticleCluster_vvv.at(vtxid)\n",
    "    tcluster_vv=recotree.TrackClusterCompound_vvv.at(vtxid)\n",
    "    meta_v = recotree.Meta_vv.at(vtxid)\n",
    "    print vertex.x,vertex.y,vertex.z\n",
    "    for plane in xrange(3):\n",
    "        print \"-----------Plane is %d------------\" % plane\n",
    "        meta=meta_v.at(plane)\n",
    "        \n",
    "        fig,ax=plt.subplots(figsize=(20,20))\n",
    "        img2d=img_v[plane]\n",
    "        img_crop=img2d.crop(meta)\n",
    "        img=larcv.as_ndarray(img_crop)\n",
    "        img[img>15]=255\n",
    "        img=img[:,::-1]\n",
    "        \n",
    "        \n",
    "        \n",
    "        pcluster_v=pcluster_vv.at(plane)\n",
    "        tcluster_v=tcluster_vv.at(plane)\n",
    "        xmin_=9e9\n",
    "        xmax_=0\n",
    "        ymin_=9e9\n",
    "        ymax_=0\n",
    "        \n",
    "        dqdx_pv=[]\n",
    "        pca_pv=[]\n",
    "        for parid,pcluster in enumerate(pcluster_v):\n",
    "            ctor=[[pt.x,pt.y] for pt in pcluster._ctor]\n",
    "            ctor.append(ctor[0])\n",
    "            ctor=np.array(ctor)\n",
    "            if xmin_ > np.min(ctor[:,0]): xmin_ = np.min(ctor[:,0])\n",
    "            if xmax_ < np.max(ctor[:,0]): xmax_ = np.max(ctor[:,0])\n",
    "            if ymin_ > np.min(ctor[:,1]): ymin_ = np.min(ctor[:,1])\n",
    "            if ymax_ < np.max(ctor[:,1]): ymax_ = np.max(ctor[:,1])\n",
    "                \n",
    "            ax.plot(ctor[:,0],ctor[:,1],'-',lw=2)\n",
    "            \n",
    "            if pcluster.type==1:\n",
    "                tcluster = tcluster_v[parid]\n",
    "                print \"On\",parid,\"got\",tcluster.size(),\"atomics\"\n",
    "                dqdx_v=[]\n",
    "                pca_v=[]\n",
    "                for atom in tcluster.get_ordered_atoms():\n",
    "                    dqdx_v_=list(np.array(atom.dqdx()))\n",
    "                    dqdx_v+=dqdx_v_\n",
    "                    pca_v.append(atom.pca())\n",
    "                dqdx_v=np.array(dqdx_v)\n",
    "                dqdx_pv.append(dqdx_v)\n",
    "                pca_pv.append(pca_v)\n",
    "                    \n",
    "        \n",
    "        ax.imshow(img,cmap='Greys',interpolation='none')\n",
    "        ax.set_aspect(1/3.0)\n",
    "        for pca_a in pca_pv:\n",
    "            for pca in pca_a:\n",
    "                ax.plot([xmin_,xmax_],[pca.y(xmin_),pca.y(xmax_)],'-',color='Grey')\n",
    "        \n",
    "        plt.show()\n",
    "        if len(dqdx_pv)>0:\n",
    "            fig,ax=plt.subplots(figsize=(10,5))\n",
    "            ctr=0\n",
    "            for dqdx in dqdx_pv:\n",
    "                x_=np.arange(ctr,ctr+dqdx.size,1)\n",
    "                ax.plot(x_,dqdx,'-o')\n",
    "                roll_=pd.rolling_mean(dqdx,5)\n",
    "                ax.plot(np.arange(ctr,ctr+roll_.size,1),roll_,'-',color='red',lw=2)\n",
    "                ctr+=dqdx.size\n",
    "            ax.grid()\n",
    "            plt.show()\n",
    "        \n",
    "    print \"<=============================>\"\n",
    "    print \"<=====Vertex %d ==============>\"%vtxid\n",
    "    print \"<=====================END=====>\""
   ]
  },
  {
   "cell_type": "code",
   "execution_count": null,
   "metadata": {
    "collapsed": false
   },
   "outputs": [],
   "source": []
  }
 ],
 "metadata": {
  "kernelspec": {
   "display_name": "Python 2",
   "language": "python",
   "name": "python2"
  },
  "language_info": {
   "codemirror_mode": {
    "name": "ipython",
    "version": 2
   },
   "file_extension": ".py",
   "mimetype": "text/x-python",
   "name": "python",
   "nbconvert_exporter": "python",
   "pygments_lexer": "ipython2",
   "version": "2.7.10"
  }
 },
 "nbformat": 4,
 "nbformat_minor": 0
}

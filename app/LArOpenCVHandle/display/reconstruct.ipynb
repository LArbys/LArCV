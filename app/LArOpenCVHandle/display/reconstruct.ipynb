{
 "cells": [
  {
   "cell_type": "markdown",
   "metadata": {},
   "source": [
    "### Setup Usual Packages\n",
    "These are the usual python packages we use for retrieving, analyzing, manipulating, and visualizing data in the notebook. For retrieving data, we will use larcv, specifically IOManager and ProcessDriver. For manipulating and analyzing data we use a combination of custom ROOT packages -- geo2d, larocv -- and some external packages like numpy (np) and opencv (cv2)"
   ]
  },
  {
   "cell_type": "code",
   "execution_count": null,
   "metadata": {
    "collapsed": false
   },
   "outputs": [],
   "source": [
    "import os, sys\n",
    "import ROOT\n",
    "from ROOT import geo2d\n",
    "from larcv import larcv\n",
    "import cv2\n",
    "pygeo = geo2d.PyDraw()\n",
    "from ROOT import larocv\n",
    "from ROOT import cv\n",
    "import matplotlib\n",
    "import matplotlib.pyplot as plt\n",
    "import matplotlib.patches as patches\n",
    "matplotlib.rcParams['font.size']=20\n",
    "matplotlib.rcParams['font.family']='serif'\n",
    "%matplotlib inline\n",
    "import numpy as np"
   ]
  },
  {
   "cell_type": "markdown",
   "metadata": {},
   "source": [
    "### Prepare ProcessDriver to execute the reconstruction chain\n",
    "We will get a process driver instance, and pass it our configuration file. Since this framework is factory based, ProcessDriver is going to chain together a set of LArCV modules together to run sequentially. We will pass a single input file to run the reconstruction on."
   ]
  },
  {
   "cell_type": "code",
   "execution_count": null,
   "metadata": {
    "collapsed": false
   },
   "outputs": [],
   "source": [
    "proc = larcv.ProcessDriver('ProcessDriver')\n",
    "CFG=\"../cfg/prod_fullchain_truth_test.cfg\"\n",
    "\n",
    "print \"Loading config... \",CFG\n",
    "proc.configure(CFG)\n",
    "flist=ROOT.std.vector('std::string')()\n",
    "\n",
    "flist.push_back(\"/Users/vgenty/Desktop/larcv_mc_20170531_155952_249724.root\")\n",
    "\n",
    "proc.override_input_file(flist)\n",
    "proc.override_output_file(\"/tmp/cacca0.root\")\n",
    "proc.override_ana_file(\"/tmp/cacca1.root\")\n",
    "\n",
    "proc.initialize()"
   ]
  },
  {
   "cell_type": "markdown",
   "metadata": {},
   "source": [
    "### ImageManager Instance\n",
    "We will access algorithm data via the LArbysImage Manager instance, for which LArbysImage has a pointer to. Here we get a pointer to the LArbysImage instance (the guy that is executing our algorithms on the cv::Mat images). Its name is larbysimg. The LArbysImage class has a function called Manager() which allows you to return the ImageManager which holds the cv::Mat images for adc/track/shower & has an access to per-algorithm data"
   ]
  },
  {
   "cell_type": "code",
   "execution_count": null,
   "metadata": {
    "collapsed": false
   },
   "outputs": [],
   "source": [
    "reco_id    = proc.process_id(\"LArbysImage\")# This returns the algorithm ID of the module\n",
    "print \"process of 'LArbysImage' is, \", reco_id\n",
    "larbysimg  = proc.process_ptr(reco_id)# This returns the pointer of the LArCV module\n",
    "mgr = larbysimg.Manager()# LArbysImage Manager Instance which has a data manager to data fo LArOpenCV modules\n",
    "dm  = mgr.DataManager()# DataManager to access LArOpenCV data\n",
    "idx = 0\n",
    "for module in dm.Names():# Name function to show all LArOpenCV modules\n",
    "    print idx, module\n",
    "    idx+=1"
   ]
  },
  {
   "cell_type": "markdown",
   "metadata": {},
   "source": [
    "### Event selection\n",
    "Select the event you want to reconstruct, there is only 1 event in this example file, so lets use the first one. "
   ]
  },
  {
   "cell_type": "code",
   "execution_count": null,
   "metadata": {
    "collapsed": false
   },
   "outputs": [],
   "source": [
    "event = 1\n",
    "proc.batch_process(event,1)"
   ]
  },
  {
   "cell_type": "markdown",
   "metadata": {},
   "source": [
    "### SSNet Output\n",
    "Here we display for the given ROI the SSNet label image (yellow is track, cyan is shower). How are we doing this?\n",
    "We are asking the ImageManager for the adc (imageid=0), track (imageid=1), and shower (imageid=2) images by calling mgr.InputImages(...). This returns a cv::Mat -- now, to visualize a cv::Mat inside this notebook, we have to convert it to a numpy array. We do that with pygeo.img(cv::Mat). The PyGeo package (see in the first cell) has a function to convert cv::Mat to a usual numpy array. Below you see I loop over 3 planes, get the cv::Mat for each image type, the put them into a list"
   ]
  },
  {
   "cell_type": "code",
   "execution_count": null,
   "metadata": {
    "collapsed": false
   },
   "outputs": [],
   "source": [
    "img_v  = [None,None,None]\n",
    "track_img_v  = [None,None,None]\n",
    "shower_img_v  = [None,None,None]\n",
    "\n",
    "for plane in xrange(3):\n",
    "    img_v[plane]         = pygeo.image(mgr.InputImages(0)[plane])# 0->ADC Image\n",
    "    track_img_v[plane]   = pygeo.image(mgr.InputImages(1)[plane])# 1->Track Image\n",
    "    shower_img_v[plane]  = pygeo.image(mgr.InputImages(2)[plane])# 2->Shower Image"
   ]
  },
  {
   "cell_type": "code",
   "execution_count": null,
   "metadata": {
    "collapsed": false,
    "scrolled": false
   },
   "outputs": [],
   "source": [
    "for plane in xrange(len(track_img_v)):\n",
    "    shower_img  = np.where(shower_img_v[plane] >10.0,85.0 ,0.0).astype(np.uint8)# Threshold shower image\n",
    "    track_img   = np.where(track_img_v[plane]  >10.0,160.0,0.0).astype(np.uint8)# Threshold track  image\n",
    "    fig,ax = plt.subplots(figsize=(10,10))\n",
    "    img  = shower_img  + track_img\n",
    "    ax.set_xlabel('Time [6 ticks]',fontsize=20)\n",
    "    ax.set_ylabel('Wire',fontsize=20)\n",
    "    ax.imshow(img,cmap='jet',interpolation='none',vmin=0.,vmax=255.)# Plot track&shower image in 'jet' colormap\n",
    "    ax.tick_params(labelsize=20)\n",
    "    ax.set_title(\"Plane=%d\"%plane,fontsize=20,fontweight='bold')\n",
    "    plt.tight_layout()\n",
    "    plt.show()"
   ]
  },
  {
   "cell_type": "markdown",
   "metadata": {},
   "source": [
    "### LArOpenCV AlgoModule data printout\n",
    "Now, per algorithm in the chain, we will go one by one and printout the data that exists in AlgoData"
   ]
  },
  {
   "cell_type": "markdown",
   "metadata": {},
   "source": [
    "### Track Vertex Seeds\n",
    "On track image, find the Defect point and PCA crossing point locations, they will be marked with a yellow star"
   ]
  },
  {
   "cell_type": "code",
   "execution_count": null,
   "metadata": {
    "collapsed": false,
    "scrolled": false
   },
   "outputs": [],
   "source": [
    "colors=['red','green','blue','orange','magenta','cyan','pink']\n",
    "colors*=10\n",
    "mgr = larbysimg.Manager()# LArbysImage Manager Pointer\n",
    "dm  = mgr.DataManager() # LArOpenCV Data Manager\n",
    "algoid = dm.ID(\"trackvertexseeds\")# Function to return the Algorithm ID \n",
    "print \"Algorithm ID:\",algoid\n",
    "for plane in xrange(3):\n",
    "    # =>Draw track and shower images\n",
    "    print \"====> Start Plane\",plane\n",
    "    fig,ax=plt.subplots(figsize=(12,12),facecolor='w')\n",
    "    shape_img1 = track_img_v[plane]\n",
    "    shape_img2 = shower_img_v[plane]\n",
    "    shape_img1=np.where(shape_img1>10.0,255.0,0.0).astype(np.uint8)\n",
    "    shape_img2=np.where(shape_img2>10.0,100.0,0.0).astype(np.uint8)\n",
    "    shape_img=shape_img1+shape_img2\n",
    "    ax.imshow(shape_img,cmap='Greys',interpolation='none')\n",
    "    nz_pixels=np.where(shape_img>0.0)\n",
    "    \n",
    "    ix=0\n",
    "        \n",
    "    vertex_seeds_v = dm.Data(algoid,plane).as_vector() # Retrieve Vertex Seeds data\n",
    "    cluscomp_v     = dm.Data(algoid,3+plane).as_vector() # Retrieve ClusterCompound data. First Three are containers for \n",
    "                                                    # vertex_seeds on 3 planes\n",
    "\n",
    "    # =>Draw contours\n",
    "    # Loop over ClusterCompound data\n",
    "    for cluscomp_id in xrange(cluscomp_v.size()):\n",
    "        cluscomp = cluscomp_v[cluscomp_id]\n",
    "        # Loop over atomic contour\n",
    "        for atomic_id in xrange(cluscomp.size()):\n",
    "            atomic = cluscomp[atomic_id]\n",
    "            # Get all points in a contour\n",
    "            pts=[[atomic[p_id].x,atomic[p_id].y] for p_id in xrange(atomic.size())]\n",
    "            if len(pts)==0: continue\n",
    "            pts.append(pts[0])\n",
    "            pts=np.array(pts)\n",
    "            # Draw contours\n",
    "            plt.plot(pts[:,0],pts[:,1],'-',lw=3,color=colors[ix],alpha = 0.8)\n",
    "            ix+=1\n",
    "    \n",
    "    # =>Draw Seeds\n",
    "    pts_v = np.array([[vertex_seeds_v[i].x,\n",
    "                       vertex_seeds_v[i].y] for i in xrange(vertex_seeds_v.size())])\n",
    "    if pts_v.size>0:\n",
    "        plt.plot(pts_v[:,0],pts_v[:,1],'*',markersize=20,color='yellow')\n",
    "\n",
    "    plt.tight_layout()\n",
    "\n",
    "    try:\n",
    "        ax.set_ylim(np.min(nz_pixels[0])-10,np.max(nz_pixels[0])+10)\n",
    "        ax.set_xlim(np.min(nz_pixels[1])-10,np.max(nz_pixels[1])+10)\n",
    "    except ValueError:\n",
    "        pass\n",
    "\n",
    "    plt.xlabel('Time [6 ticks]',fontsize=20)\n",
    "    plt.ylabel('Wire',fontsize=20)\n",
    "    plt.tick_params(labelsize=20)\n",
    "    ax.set_aspect(0.8)\n",
    "    ax.grid()\n",
    "    ax.set_title(\"Plane=%d\"%plane,fontsize=30,fontweight='bold')\n",
    "    plt.show()\n",
    "    print \"====> End Plane\",plane"
   ]
  },
  {
   "cell_type": "markdown",
   "metadata": {},
   "source": [
    "### Track Vertex Estimate\n",
    "Use the circle scanning procedure to estimate a 3D location where vertex might exists, marked by the cyan star. The track contours are show on the image as well"
   ]
  },
  {
   "cell_type": "code",
   "execution_count": null,
   "metadata": {
    "collapsed": false,
    "scrolled": false
   },
   "outputs": [],
   "source": [
    "colors=['red','green','blue','orange','magenta','cyan','pink']\n",
    "colors*=10\n",
    "dm=mgr.DataManager() # LArbysImage Manager Pointer\n",
    "algoid=dm.ID(\"trackvertexestimate\") # Get the algorithm ID\n",
    "print \"Algorithm ID:\",algoid\n",
    "vertex_vv = dm.Data(algoid,0).as_vector()\n",
    "print \"There are '\", vertex_vv.size(),\"' Track Vertex \"\n",
    "for plane in xrange(3):\n",
    "    # => Draw Shower and Track pictures\n",
    "    fig,ax=plt.subplots(figsize=(12,12),facecolor='w')\n",
    "    shape_img1 = track_img_v[plane]\n",
    "    shape_img2 = shower_img_v[plane]\n",
    "    shape_img1=np.where(shape_img1>10.0,255.0,0.0).astype(np.uint8)\n",
    "    shape_img2=np.where(shape_img2>10.0,100.0,0.0).astype(np.uint8)\n",
    "    shape_img=shape_img1+shape_img2\n",
    "    ax.imshow(shape_img,cmap='Greys',interpolation='none')\n",
    "    nz_pixels=np.where(shape_img>0.0)\n",
    "    \n",
    "    # =>Draw Contours and estimated Vertex\n",
    "    ix=0\n",
    "    cluscomp_v = dm.Data(algoid-1,3+plane).as_vector()\n",
    "    for cluscomp_id in xrange(cluscomp_v.size()):\n",
    "        cluscomp = cluscomp_v[cluscomp_id]\n",
    "        for atomic_id in xrange(cluscomp.size()):\n",
    "            atomic = cluscomp[atomic_id]\n",
    "            pts=[[atomic[p_id].x,atomic[p_id].y] for p_id in xrange(atomic.size())]\n",
    "            if len(pts)==0: continue\n",
    "            pts.append(pts[0])\n",
    "            pts=np.array(pts)\n",
    "            plt.plot(pts[:,0],pts[:,1],'-o',lw=3,color=colors[ix], alpha = 0.5)\n",
    "            ix+=1\n",
    "    # Get estimated vertes\n",
    "    pts_v = np.array([[vertex_vv[i].cvtx2d_v[plane].center.x,\n",
    "                       vertex_vv[i].cvtx2d_v[plane].center.y] for i in xrange(vertex_vv.size())])\n",
    "    if pts_v.size>0:\n",
    "        print \"\\t<=== Track Vertex Candidates @ ===>\\n\",pts_v\n",
    "        ax.plot(pts_v[:,0],pts_v[:,1],'*',markersize=30,color='cyan')\n",
    "    \n",
    "    plt.tight_layout()\n",
    "    try:\n",
    "        ax.set_ylim(np.min(nz_pixels[0])-10,np.max(nz_pixels[0])+10)\n",
    "        ax.set_xlim(np.min(nz_pixels[1])-10,np.max(nz_pixels[1])+10)\n",
    "    except ValueError:\n",
    "        pass\n",
    "\n",
    "    plt.xlabel('Time [6 ticks]',fontsize=20)\n",
    "    plt.ylabel('Wire',fontsize=20)\n",
    "    plt.tick_params(labelsize=20)\n",
    "    ax.set_aspect(0.8)\n",
    "    ax.grid()\n",
    "    ax.set_title(\"Plane=%d\"%plane,fontsize=30,fontweight='bold')\n",
    "    plt.show()"
   ]
  },
  {
   "cell_type": "markdown",
   "metadata": {},
   "source": [
    "### AngularMetric\n",
    "Angular metric via scan projected on wire and time axis"
   ]
  },
  {
   "cell_type": "code",
   "execution_count": null,
   "metadata": {
    "collapsed": false
   },
   "outputs": [],
   "source": [
    "algoid=dm.ID(\"trackvertexestimate\") # Get the Algorithm ID\n",
    "alg=mgr.GetClusterAlg(algoid).Algo() # Get the \"TrackVertexScan2D\"(the class that does the angle Metric) Instance\n",
    "\n",
    "tickscore0_y=[] # 0 refers to tick where at least two plane has One valid Δ(θ-Φ)\n",
    "tickscore0_x=[] \n",
    "\n",
    "score0_v = alg.TimeBinnedScore0Mean()\n",
    "for idx in xrange(score0_v.size()):\n",
    "    v = score0_v[idx]\n",
    "    tickscore0_y.append(v)\n",
    "    tickscore0_x.append(idx*1 + alg.TimeBinMin())\n",
    "\n",
    "tickscore1_y=[]# 1 refers to tick where at least two plane has Two valid Δ(θ-Φ)\n",
    "tickscore1_x=[]\n",
    "\n",
    "score1_v = alg.TimeBinnedScore1Mean()\n",
    "for idx in xrange(score1_v.size()):\n",
    "    v = score1_v[idx]\n",
    "    tickscore1_y.append(v)\n",
    "    tickscore1_x.append(idx*1 + alg.TimeBinMin())\n",
    "\n",
    "tickscore0_x = np.array(tickscore0_x)\n",
    "tickscore0_y = np.array(tickscore0_y)\n",
    "tickscore1_x = np.array(tickscore1_x)\n",
    "tickscore1_y = np.array(tickscore1_y)\n",
    "ymin = tickscore0_y.min()\n",
    "ymax = tickscore0_y.max()\n",
    "if ymin > tickscore1_y.min(): ymin = tickscore1_y.min()\n",
    "if ymax < tickscore1_y.max(): ymax = tickscore1_y.max()\n",
    "\n",
    "fig,ax = plt.subplots(figsize=(16,8),facecolor='w')\n",
    "ax.plot(tickscore0_x,tickscore0_y,marker='o',linestyle='-',color='red',markersize=10)\n",
    "ax.plot(tickscore1_x,tickscore1_y,marker='o',linestyle='--',\n",
    "         markeredgewidth=1,markeredgecolor='blue',markerfacecolor='None',markersize=10)\n",
    "\n",
    "\n",
    "minimum_v  = alg.TimeBinnedScoreMinIndex()\n",
    "minrange_v = alg.TimeBinnedScoreMinRange()\n",
    "for idx in xrange(minimum_v.size()):\n",
    "    xval = tickscore0_x[minimum_v[idx]]\n",
    "    ax.plot([xval,xval],[0,360],marker='',linestyle='--',color='black',linewidth=2)\n",
    "    xstart = tickscore0_x[minrange_v[idx].first]\n",
    "    xend   = tickscore0_x[minrange_v[idx].second]\n",
    "    ax.axvspan(xstart,xend, alpha=0.3, color='orange')\n",
    "\n",
    "ax.set_xlabel('Time [6 ticks]',fontsize=20,fontweight='bold')\n",
    "ax.set_ylabel('Summed Angle Difference [deg.]',fontsize=20,fontweight='bold')\n",
    "ax.tick_params(labelsize=20)\n",
    "plt.tight_layout()\n",
    "ax.set_ylim(-1,ymax*1.1)\n",
    "ax.set_xlim(tickscore0_x.min(),tickscore0_x.max())\n",
    "ax.grid()\n",
    "plt.show()\n"
   ]
  },
  {
   "cell_type": "markdown",
   "metadata": {},
   "source": [
    "### TrackVertexScan\n",
    "Estimate a 3D vertex by scanning 3D space by minimizing the angular metric."
   ]
  },
  {
   "cell_type": "code",
   "execution_count": null,
   "metadata": {
    "collapsed": false,
    "scrolled": false
   },
   "outputs": [],
   "source": [
    "dm=mgr.DataManager()# LArOpenCV Data Manager\n",
    "colors=['red','green','blue','orange','magenta','cyan','pink']\n",
    "colors*=10\n",
    "\n",
    "dm=mgr.DataManager()\n",
    "algoid=dm.ID(\"trackvertexscan\") # Retrive the module ID\n",
    "print \"Module ID is\", algoid\n",
    "data=dm.Data(algoid,0) # Retrive Vertex 3D data\n",
    "vtx3d_v=data.as_vector()\n",
    "print \"There are '\", vtx3d_v.size(), \"' 3D vertices\"\n",
    "\n",
    "for vtxid,vtx in enumerate(vtx3d_v):\n",
    "    print \"<=============================================================================>\"\n",
    "    print \"<===================Start combined vertex \",vtxid,\" ==========================>\"\n",
    "    for plane in xrange(3):\n",
    "        fig,ax = plt.subplots(figsize=(12,12),facecolor='w')\n",
    "        # Plot track and shower image\n",
    "        shape_img1 = track_img_v[plane]\n",
    "        shape_img2 = shower_img_v[plane]\n",
    "        shape_img1=np.where(shape_img1>10.0,255.0,0.0).astype(np.uint8)\n",
    "        shape_img2=np.where(shape_img2>10.0,100.0,0.0).astype(np.uint8)\n",
    "        shape_img=shape_img1+shape_img2\n",
    "        ax.imshow(shape_img,cmap='Greys',interpolation='none')\n",
    "        nz_pixels=np.where(shape_img>0.0)\n",
    "        print \"There are ' \",vtx.vtx2d_v.size(),\" ' 2D vertices\"\n",
    "        # Plot vertex 3D data\n",
    "        ax.plot(vtx.vtx2d_v[plane].pt.x,vtx.vtx2d_v[plane].pt.y,'*',color='cyan',markersize=20,alpha = 1.0)\n",
    "        ax.set_ylim(np.min(nz_pixels[0])-10,np.max(nz_pixels[0])+10)\n",
    "        ax.set_xlim(np.min(nz_pixels[1])-10,np.max(nz_pixels[1])+10)\n",
    "        ax.set_xticklabels([])\n",
    "        ax.set_yticklabels([])\n",
    "        #ax.set_title(\"Vertex Type: %d\"%vtx.type)\n",
    "        ax.grid()\n",
    "        plt.show()\n",
    "    print \"<=============================================================================>\"\n",
    "    print \"<===================End combined vertex \",vtxid,\" ==========================>\"\n",
    "\n"
   ]
  },
  {
   "cell_type": "markdown",
   "metadata": {},
   "source": [
    "### ShowerPlaneSeeds\n",
    "Find 2D edge points of clusters in the track image, display as colored circles."
   ]
  },
  {
   "cell_type": "code",
   "execution_count": null,
   "metadata": {
    "collapsed": false,
    "scrolled": false
   },
   "outputs": [],
   "source": [
    "colors=['red','green','blue','orange','magenta','cyan','pink']\n",
    "colors*=10\n",
    "\n",
    "dm=mgr.DataManager() # LArOpenCV data manager\n",
    "algoid=dm.ID(\"showerplaneseeds\") # Get the Algorithm ID\n",
    "print \"Module ID is \", algoid\n",
    "\n",
    "for plane in xrange(3):\n",
    "    vtxseed2d_v=dm.Data(algoid,plane).as_vector()# Get the ShowerPlane Seeds which are stored per plane\n",
    "    # Plot Track and Shower images\n",
    "    fig,ax = plt.subplots(figsize=(12,12),facecolor='w')\n",
    "    shape_img1 = track_img_v[plane]\n",
    "    shape_img2 = shower_img_v[plane]\n",
    "    shape_img1=np.where(shape_img1>10.0,255.0,0.0).astype(np.uint8)\n",
    "    shape_img2=np.where(shape_img2>10.0,100.0,0.0).astype(np.uint8)\n",
    "    shape_img=shape_img1+shape_img2\n",
    "    ax.imshow(shape_img,cmap='Greys',interpolation='none')\n",
    "    nz_pixels=np.where(shape_img>0.0)\n",
    "    \n",
    "    # Plost 2D vertex seeds\n",
    "    for vtxseed2d in vtxseed2d_v:\n",
    "        ax.plot(vtxseed2d.x,vtxseed2d.y,'o',markersize=25,alpha=0.75)\n",
    "        print \"2D vertex postions\",\"(\",vtxseed2d.x,\",\",vtxseed2d.y,\")\"\n",
    "\n",
    "    ax.set_ylim(np.min(nz_pixels[0])-10,np.max(nz_pixels[0])+10)\n",
    "    ax.set_xlim(np.min(nz_pixels[1])-10,np.max(nz_pixels[1])+10)\n",
    "\n",
    "    ax.grid()\n",
    "    plt.show()\n"
   ]
  },
  {
   "cell_type": "markdown",
   "metadata": {},
   "source": [
    "### ShowerVertexScan\n",
    "Scan the 3D region around 2D edge points from last step(ShowerVertexSeeds), find 3D vertex"
   ]
  },
  {
   "cell_type": "code",
   "execution_count": null,
   "metadata": {
    "collapsed": false,
    "scrolled": false
   },
   "outputs": [],
   "source": [
    "dm=mgr.DataManager()\n",
    "colors=['red','green','blue','orange','magenta','cyan','pink']\n",
    "colors*=10\n",
    "\n",
    "dm=mgr.DataManager()\n",
    "algoid=dm.ID(\"showervertexscan\")\n",
    "vtxseed3d_v=dm.Data(algoid,0).as_vector()# Get 3D ShowerVertexScan data\n",
    "print \"There are '\", vtxseed3d_v.size(),\"' 3D shower vertex after ShowerVertexScan\"\n",
    "\n",
    "for vtxid,vtx in enumerate(vtxseed3d_v):\n",
    "    print \"<=============================================================================>\"\n",
    "    print \"<===================Start vertex \",vtxid,\" ==========================>\"\n",
    "    for plane in xrange(3):\n",
    "        # Plot Track and Shower images\n",
    "        fig,ax = plt.subplots(figsize=(12,12),facecolor='w')\n",
    "        shape_img1 = track_img_v[plane]\n",
    "        shape_img2 = shower_img_v[plane]\n",
    "        shape_img1=np.where(shape_img1>10.0,255.0,0.0).astype(np.uint8)\n",
    "        shape_img2=np.where(shape_img2>10.0,100.0,0.0).astype(np.uint8)\n",
    "        shape_img=shape_img1+shape_img2\n",
    "        ax.imshow(shape_img,cmap='Greys',interpolation='none')\n",
    "        nz_pixels=np.where(shape_img>0.0)\n",
    "        print vtx.vtx2d_v.size()\n",
    "        \n",
    "        # Plot Vertices from ShowerVertexscan\n",
    "        ax.plot(vtx.vtx2d_v[plane].pt.x,vtx.vtx2d_v[plane].pt.y,'*',color='cyan',markersize=20)\n",
    "        \n",
    "        ax.set_ylim(np.min(nz_pixels[0])-10,np.max(nz_pixels[0])+10)\n",
    "        ax.set_xlim(np.min(nz_pixels[1])-10,np.max(nz_pixels[1])+10)\n",
    "        ax.set_xticklabels([])\n",
    "        ax.set_yticklabels([])\n",
    "        ax.set_title(\"Vertex ID: %d @ plane %d\"%(vtxid,plane),fontsize=30,fontweight='bold')\n",
    "        ax.grid()\n",
    "        plt.show()\n",
    "    print \"<=============================================================================>\"\n",
    "    print \"<===================End vertex \",vtxid,\" ==========================>\"\n",
    "\n"
   ]
  },
  {
   "cell_type": "markdown",
   "metadata": {},
   "source": [
    "### Combined Vertices\n",
    "Consolidate wire/time/shower vertices and their ParticleClusters into one AlgoModule"
   ]
  },
  {
   "cell_type": "code",
   "execution_count": null,
   "metadata": {
    "collapsed": false,
    "scrolled": false
   },
   "outputs": [],
   "source": [
    "algoid=dm.ID(\"combinevertex\")\n",
    "vtx_data=dm.Data(algoid,0).as_vector()# Get the 3D Vertex data from CombinedVertexAnalysis\n",
    "print \"There are '\", vtx_data.size(),\"' 3D vertices\"\n",
    "assman=dm.AssManager() # Get the Association Manager which returns the asscioations of vertex and particles\n",
    "for vtxid,vtx in enumerate(vtx_data):\n",
    "    print \"<=============================================================================>\"\n",
    "    print \"<===================Start combined vertex \",vtxid,\" ==========================>\"\n",
    "    for plane in xrange(3):\n",
    "        \n",
    "        par_data=dm.Data(algoid,plane+1)\n",
    "        print \"Par data sz @ plane\",plane,\"is\",par_data.as_vector().size()\n",
    "        ass_t = np.array(assman.GetManyAss(vtx,par_data.ID())) # Get the associations of this vertex and the particles\n",
    "        print \"...\",ass_t\n",
    "        if ass_t.size==0:\n",
    "            print \"SKIP\"\n",
    "            continue\n",
    "        \n",
    "        # Plot Shower and Track pixels\n",
    "        print \"@ plane\",plane\n",
    "        plt.cla()\n",
    "        plt.clf()\n",
    "        fig,ax = plt.subplots(figsize=(12,12),facecolor='w')\n",
    "        shape_img1 = track_img_v[plane]\n",
    "        shape_img2 = shower_img_v[plane]\n",
    "        shape_img1=np.where(shape_img1>10.0,255.0,0.0).astype(np.uint8)\n",
    "        shape_img2=np.where(shape_img2>10.0,100.0,0.0).astype(np.uint8)\n",
    "        shape_img=shape_img1+shape_img2\n",
    "        ax.imshow(shape_img,cmap='Greys',interpolation='none')\n",
    "        nz_pixels=np.where(shape_img>0.0)\n",
    "        \n",
    "\n",
    "        # Plot 2D vertices\n",
    "        ax.plot(vtx.vtx2d_v[plane].pt.x,\n",
    "                vtx.vtx2d_v[plane].pt.y,\n",
    "                '*',color='cyan',markersize=20)\n",
    "            \n",
    "        # Plot the contour of the 2 assocaited particles\n",
    "        par_data_v=par_data.as_vector()\n",
    "        for id_ in ass_t:\n",
    "            ctor=[[pt.x,pt.y] for pt in par_data_v[id_]._ctor]\n",
    "            if len(ctor)==0: continue\n",
    "            ctor.append(ctor[0])\n",
    "            ctor=np.array(ctor)\n",
    "            ax.plot(ctor[:,0],ctor[:,1],'-',lw=2,alpha=0.8)\n",
    "\n",
    "\n",
    "        ax.set_ylim(np.min(nz_pixels[0])-10,np.max(nz_pixels[0])+10)\n",
    "        ax.set_xlim(np.min(nz_pixels[1])-10,np.max(nz_pixels[1])+10)\n",
    "        ax.set_title(\"Vertex Type: %d & Plane: %d & ID: %d\"%(vtx.type,plane,vtxid),fontweight='bold',fontsize=20)\n",
    "        plt.show()\n",
    "    print \"<=============================================================================>\"\n",
    "    print \"<===================End combined vertex \",vtxid,\" ==========================>\"\n",
    "\n"
   ]
  },
  {
   "cell_type": "code",
   "execution_count": null,
   "metadata": {
    "collapsed": false,
    "scrolled": false
   },
   "outputs": [],
   "source": [
    "algoid=dm.ID(\"matchoverlap\")\n",
    "par_data=dm.Data(algoid,0)\n",
    "print \"There are '\", par_data.as_vector().size(),\" matched particles\"\n",
    "assman = dm.AssManager() # Get the Association Manager which returns the asscioations of vertex and particles\n",
    "\n",
    "algoid=dm.ID(\"combinevertex\")\n",
    "vtx_data=dm.Data(algoid,0).as_vector()# Get the vertex particles\n",
    "\n",
    "for vtxid,vtx in enumerate(vtx_data):\n",
    "    print \"<=============================================================================>\"\n",
    "    print \"<===================Start combined vertex \",vtxid,\" ==========================>\"\n",
    "    par_id_v = assman.GetManyAss(vtx,par_data.ID())\n",
    "    par_v = [par_data.as_vector().at(id_) for id_ in par_id_v]\n",
    "    for par in par_v:\n",
    "        for plane in xrange(3):\n",
    "            pcluster = par._par_v.at(plane)\n",
    "            pctor = pcluster._ctor\n",
    "\n",
    "            if pctor.empty(): continue\n",
    "          \n",
    "            # Plot Shower and Track pixels\n",
    "            print \"@ plane\",plane\n",
    "            plt.cla()\n",
    "            plt.clf()\n",
    "            fig,ax = plt.subplots(figsize=(12,12),facecolor='w')\n",
    "            shape_img1 = track_img_v[plane]\n",
    "            shape_img2 = shower_img_v[plane]\n",
    "            shape_img1=np.where(shape_img1>10.0,255.0,0.0).astype(np.uint8)\n",
    "            shape_img2=np.where(shape_img2>10.0,100.0,0.0).astype(np.uint8)\n",
    "            shape_img=shape_img1+shape_img2\n",
    "            ax.imshow(shape_img,cmap='Greys',interpolation='none')\n",
    "            nz_pixels=np.where(shape_img>0.0)\n",
    "\n",
    "\n",
    "            # Plot 2D vertex\n",
    "            ax.plot(vtx.vtx2d_v[plane].pt.x,\n",
    "                    vtx.vtx2d_v[plane].pt.y,\n",
    "                    '*',color='cyan',markersize=10)\n",
    "\n",
    "            # Plot the contour of the 2 associated particles\n",
    "            ctor=[[pt.x,pt.y] for pt in pctor]\n",
    "            if len(ctor)==0: continue\n",
    "            ctor.append(ctor[0])\n",
    "            ctor=np.array(ctor)\n",
    "            ax.plot(ctor[:,0],ctor[:,1],'-',lw=2,alpha=0.8)\n",
    "\n",
    "\n",
    "            ax.set_ylim(np.min(nz_pixels[0])-10,np.max(nz_pixels[0])+10)\n",
    "            ax.set_xlim(np.min(nz_pixels[1])-10,np.max(nz_pixels[1])+10)\n",
    "            ax.set_title(\"Vertex Type: %d & Plane: %d & ID: %d\"%(vtx.type,plane,vtxid),fontweight='bold',fontsize=20)\n",
    "            plt.show()\n",
    "    print \"<=============================================================================>\"\n",
    "    print \"<===================End combined vertex \",vtxid,\" ==========================>\"\n",
    "\n"
   ]
  },
  {
   "cell_type": "code",
   "execution_count": null,
   "metadata": {
    "collapsed": false
   },
   "outputs": [],
   "source": []
  }
 ],
 "metadata": {
  "kernelspec": {
   "display_name": "Python 2",
   "language": "python",
   "name": "python2"
  },
  "language_info": {
   "codemirror_mode": {
    "name": "ipython",
    "version": 2
   },
   "file_extension": ".py",
   "mimetype": "text/x-python",
   "name": "python",
   "nbconvert_exporter": "python",
   "pygments_lexer": "ipython2",
   "version": "2.7.10"
  }
 },
 "nbformat": 4,
 "nbformat_minor": 0
}

{
 "cells": [
  {
   "cell_type": "markdown",
   "metadata": {},
   "source": [
    "### Setup usual packags\n",
    "These are the usual python packages we use for retrieving, analyzing, manipulating, and visualizing data in the notebook. For retrieving data, we will use larcv, specifically IOManager and ProcessDriver. For manipulating and analyzing data we use a combination of custom ROOT packages -- geo2d, larocv -- and some external packages like numpy (np) and opencv (cv2)"
   ]
  },
  {
   "cell_type": "code",
   "execution_count": null,
   "metadata": {
    "collapsed": false
   },
   "outputs": [],
   "source": [
    "import os, sys\n",
    "import ROOT\n",
    "from ROOT import fcllite\n",
    "from ROOT import geo2d\n",
    "from larcv import larcv\n",
    "import cv2\n",
    "pygeo = geo2d.PyDraw()\n",
    "from ROOT import larocv\n",
    "from ROOT import std\n",
    "from ROOT import cv\n",
    "import matplotlib\n",
    "import matplotlib.pyplot as plt\n",
    "import matplotlib.patches as patches\n",
    "matplotlib.rcParams['font.size']=20\n",
    "matplotlib.rcParams['font.family']='serif'\n",
    "%matplotlib inline\n",
    "import numpy as np"
   ]
  },
  {
   "cell_type": "markdown",
   "metadata": {},
   "source": [
    "### Prepare ProcessDriver to execute the reconstruction chain\n",
    "We will get a process driver instance, and pass it our configuration file. Since this framework is factory based, ProcessDriver is going to chain together a set of LArCV modules together to run sequentially. We will pass a single input file to run the reconstruction on."
   ]
  },
  {
   "cell_type": "code",
   "execution_count": null,
   "metadata": {
    "collapsed": false
   },
   "outputs": [],
   "source": [
    "proc = larcv.ProcessDriver('ProcessDriver')\n",
    "CFG=\"../cfg/prod_fullchain_ssnet_combined_test.cfg\"\n",
    "\n",
    "print \"Loading config... \",CFG\n",
    "proc.configure(CFG)\n",
    "flist=ROOT.std.vector('std::string')()\n",
    "#https://www.nevis.columbia.edu/~vgenty/public/one_event_test.root\n",
    "flist.push_back(\"/tmp/one_event_test.root\")\n",
    "proc.override_input_file(flist)\n",
    "proc.override_output_file(\"/tmp/cacca0.root\")\n",
    "proc.override_ana_file(\"/tmp/cacca1.root\")\n",
    "\n",
    "vinroi_id  = proc.process_id(\"VertexInROI\")\n",
    "reco_id    = proc.process_id(\"LArbysImage\")\n",
    "larbysimg  = proc.process_ptr(reco_id)\n",
    "\n",
    "proc.initialize()"
   ]
  },
  {
   "cell_type": "markdown",
   "metadata": {},
   "source": [
    "### Event selection\n",
    "Select which event you want to reconstruct, there is only 1 event in this example file, so lets use the first one. "
   ]
  },
  {
   "cell_type": "code",
   "execution_count": null,
   "metadata": {
    "collapsed": false
   },
   "outputs": [],
   "source": [
    "event = 0\n",
    "proc.batch_process(event,1)"
   ]
  },
  {
   "cell_type": "markdown",
   "metadata": {},
   "source": [
    "### ImageManager Instance\n",
    "We will access algorithm data via the ImageManager instance, for which LArbysImage has a pointer to. A few cells ago we got a pointer to the LArbysImage instance (the guy that is executing our algorithms on the cv::Mat images) it's name is larbysimg. The LArbysImage class has a function called Manager() which allows you to return the ImageManager which holds the cv::Mat images for adc/track/shower & has an access to per-algorithm data"
   ]
  },
  {
   "cell_type": "code",
   "execution_count": null,
   "metadata": {
    "collapsed": false
   },
   "outputs": [],
   "source": [
    "mgr = larbysimg.Manager()  "
   ]
  },
  {
   "cell_type": "markdown",
   "metadata": {},
   "source": [
    "### SSNet Output\n",
    "Here we display for the given ROI the SSNet label image (yellow is track, cyan is shower). How are we doing this?\n",
    "We are asking the ImageManager for the adc (imageid=0), track (imageid=1), and shower (imageid=2) images by calling mgr.InputImages(...). This returns a cv::Mat -- now, to visualize a cv::Mat inside this notebook, we have to convert it to a numpy array. We do that with pygeo.img(cv::Mat). The PyGeo package (see in the first cell) has a function to convert cv::Mat to a usual numpy array. Below you see I loop over 3 planes, get the cv::Mat for each image type, the put them into a list"
   ]
  },
  {
   "cell_type": "code",
   "execution_count": null,
   "metadata": {
    "collapsed": false
   },
   "outputs": [],
   "source": [
    "img_v  = [None,None,None]\n",
    "track_img_v  = [None,None,None]\n",
    "shower_img_v  = [None,None,None]\n",
    "\n",
    "for plane in xrange(3):\n",
    "    img_v[plane]         = pygeo.image(mgr.InputImages(0)[plane])\n",
    "    track_img_v[plane]   = pygeo.image(mgr.InputImages(1)[plane])\n",
    "    shower_img_v[plane]  = pygeo.image(mgr.InputImages(2)[plane])"
   ]
  },
  {
   "cell_type": "code",
   "execution_count": null,
   "metadata": {
    "collapsed": false,
    "scrolled": false
   },
   "outputs": [],
   "source": [
    "for plane in xrange(len(track_img_v)):\n",
    "    shower_img  = np.where(shower_img_v[plane] >10.0,85.0 ,0.0).astype(np.uint8)\n",
    "    track_img   = np.where(track_img_v[plane]  >10.0,160.0,0.0).astype(np.uint8)\n",
    "    fig,ax = plt.subplots(figsize=(10,10))\n",
    "    img  = shower_img  + track_img\n",
    "    ax.set_xlabel('Time [6 ticks]',fontsize=20)\n",
    "    ax.set_ylabel('Wire',fontsize=20)\n",
    "    ax.imshow(img,cmap='jet',interpolation='none',vmin=0.,vmax=255.)\n",
    "    ax.tick_params(labelsize=20)\n",
    "    ax.set_title(\"Plane=%d\"%plane,fontsize=20,fontweight='bold')\n",
    "    plt.tight_layout()\n",
    "    plt.show()"
   ]
  },
  {
   "cell_type": "markdown",
   "metadata": {},
   "source": [
    "### LArOpenCV AlgoModule data printout\n",
    "Now, per algorithm in the chain, we will go one by one and printout the data that exists in AlgoData"
   ]
  },
  {
   "cell_type": "markdown",
   "metadata": {},
   "source": [
    "### Track Vertex Seeds\n",
    "Find the Defect and PCA crossing point locations, they will be marked with a yellow star"
   ]
  },
  {
   "cell_type": "code",
   "execution_count": null,
   "metadata": {
    "collapsed": false,
    "scrolled": false
   },
   "outputs": [],
   "source": [
    "colors=['red','green','blue','orange','magenta','cyan','pink']\n",
    "colors*=10\n",
    "mgr = larbysimg.Manager()  \n",
    "dm  = mgr.DataManager()\n",
    "algoid = dm.ID(\"trackvertexseeds\")\n",
    "print \"Algorithm ID:\",algoid\n",
    "for plane in xrange(3):\n",
    "    print \"====> Start Plane\",plane\n",
    "    fig,ax=plt.subplots(figsize=(12,12),facecolor='w')\n",
    "    shape_img1 = track_img_v[plane]\n",
    "    shape_img2 = shower_img_v[plane]\n",
    "    shape_img1=np.where(shape_img1>10.0,255.0,0.0).astype(np.uint8)\n",
    "    shape_img2=np.where(shape_img2>10.0,100.0,0.0).astype(np.uint8)\n",
    "    shape_img=shape_img1+shape_img2\n",
    "    ax.imshow(shape_img,cmap='Greys',interpolation='none')\n",
    "    nz_pixels=np.where(shape_img>0.0)\n",
    "    ix=0\n",
    "\n",
    "    vertex_seeds_v = dm.Data(1,plane).as_vector()\n",
    "    cluscomp_v     = dm.Data(1,3+plane).as_vector()\n",
    "\n",
    "    #plot the atomics\n",
    "    for cluscomp_id in xrange(cluscomp_v.size()):\n",
    "        cluscomp = cluscomp_v[cluscomp_id]\n",
    "        for atomic_id in xrange(cluscomp.size()):\n",
    "            atomic = cluscomp[atomic_id]\n",
    "            pts=[[atomic[p_id].x,atomic[p_id].y] for p_id in xrange(atomic.size())]\n",
    "            if len(pts)==0: continue\n",
    "            pts.append(pts[0])\n",
    "            pts=np.array(pts)\n",
    "            plt.plot(pts[:,0],pts[:,1],'-',lw=3,color=colors[ix],alpha = 0.8)\n",
    "            ix+=1\n",
    "\n",
    "    pts_v = np.array([[vertex_seeds_v[i].x,\n",
    "                       vertex_seeds_v[i].y] for i in xrange(vertex_seeds_v.size())])\n",
    "    if pts_v.size>0:\n",
    "        plt.plot(pts_v[:,0],pts_v[:,1],'*',markersize=20,color='yellow')\n",
    "\n",
    "    plt.tight_layout()\n",
    "    try:\n",
    "        ax.set_ylim(np.min(nz_pixels[0])-10,np.max(nz_pixels[0])+10)\n",
    "        ax.set_xlim(np.min(nz_pixels[1])-10,np.max(nz_pixels[1])+10)\n",
    "    except ValueError:\n",
    "        pass\n",
    "\n",
    "    plt.xlabel('Time [6 ticks]',fontsize=20)\n",
    "    plt.ylabel('Wire',fontsize=20)\n",
    "    plt.tick_params(labelsize=20)\n",
    "    ax.set_aspect(0.8)\n",
    "    ax.grid()\n",
    "    ax.set_title(\"Plane=%d\"%plane,fontsize=30,fontweight='bold')\n",
    "    plt.show()\n",
    "    print \"====> End Plane\",plane"
   ]
  },
  {
   "cell_type": "markdown",
   "metadata": {},
   "source": [
    "### Track Vertex Estimate\n",
    "Use the circle scanning procedure to estimate a 3D location where vertex might exists, marked by the cyan start. The track contours are show on the image as well"
   ]
  },
  {
   "cell_type": "code",
   "execution_count": null,
   "metadata": {
    "collapsed": false,
    "scrolled": false
   },
   "outputs": [],
   "source": [
    "colors=['red','green','blue','orange','magenta','cyan','pink']\n",
    "colors*=10\n",
    "dm=mgr.DataManager()\n",
    "algoid=dm.ID(\"trackvertexestimate\")\n",
    "print \"Algorithm ID:\",algoid\n",
    "for plane in xrange(3):\n",
    "    fig,ax=plt.subplots(figsize=(12,12),facecolor='w')\n",
    "    shape_img1 = track_img_v[plane]\n",
    "    shape_img2 = shower_img_v[plane]\n",
    "    shape_img1=np.where(shape_img1>10.0,255.0,0.0).astype(np.uint8)\n",
    "    shape_img2=np.where(shape_img2>10.0,100.0,0.0).astype(np.uint8)\n",
    "    shape_img=shape_img1+shape_img2\n",
    "    ax.imshow(shape_img,cmap='Greys',interpolation='none')\n",
    "    nz_pixels=np.where(shape_img>0.0)\n",
    "    ix=0\n",
    "    \n",
    "    ####################################\n",
    "    vertex_vv  = dm.Data(algoid,0).as_vector()\n",
    "    cluscomp_v = dm.Data(algoid-1,3+plane).as_vector()\n",
    "    for cluscomp_id in xrange(cluscomp_v.size()):\n",
    "        cluscomp = cluscomp_v[cluscomp_id]\n",
    "        for atomic_id in xrange(cluscomp.size()):\n",
    "            atomic = cluscomp[atomic_id]\n",
    "            pts=[[atomic[p_id].x,atomic[p_id].y] for p_id in xrange(atomic.size())]\n",
    "            if len(pts)==0: continue\n",
    "            pts.append(pts[0])\n",
    "            pts=np.array(pts)\n",
    "            plt.plot(pts[:,0],pts[:,1],'-o',lw=3,color=colors[ix], alpha = 0.5)\n",
    "            ix+=1\n",
    "\n",
    "    pts_v = np.array([[vertex_vv[i].cvtx2d_v[plane].center.x,\n",
    "                       vertex_vv[i].cvtx2d_v[plane].center.y] for i in xrange(vertex_vv.size())])\n",
    "    if pts_v.size>0:\n",
    "        print \"\\t<=== Track Vertex Candidates @ ===>\\n\",pts_v\n",
    "        ax.plot(pts_v[:,0],pts_v[:,1],'*',markersize=30,color='cyan')\n",
    "    ####################################\n",
    "    \n",
    "    plt.tight_layout()\n",
    "    try:\n",
    "        ax.set_ylim(np.min(nz_pixels[0])-10,np.max(nz_pixels[0])+10)\n",
    "        ax.set_xlim(np.min(nz_pixels[1])-10,np.max(nz_pixels[1])+10)\n",
    "    except ValueError:\n",
    "        pass\n",
    "\n",
    "    plt.xlabel('Time [6 ticks]',fontsize=20)\n",
    "    plt.ylabel('Wire',fontsize=20)\n",
    "    plt.tick_params(labelsize=20)\n",
    "    ax.set_aspect(0.8)\n",
    "    ax.grid()\n",
    "    ax.set_title(\"Plane=%d\"%plane,fontsize=30,fontweight='bold')\n",
    "    plt.show()"
   ]
  },
  {
   "cell_type": "markdown",
   "metadata": {},
   "source": [
    "### AngularMetric\n",
    "Angular metric via scan projected on wire and time axis"
   ]
  },
  {
   "cell_type": "code",
   "execution_count": null,
   "metadata": {
    "collapsed": false
   },
   "outputs": [],
   "source": [
    "algoid=dm.ID(\"trackvertexestimate\")\n",
    "alg=mgr.GetClusterAlg(algoid).Algo()\n",
    "\n",
    "tickscore0_y=[]\n",
    "tickscore0_x=[]\n",
    "\n",
    "score0_v = alg.TimeBinnedScore0Mean()\n",
    "for idx in xrange(score0_v.size()):\n",
    "    v = score0_v[idx]\n",
    "    tickscore0_y.append(v)\n",
    "    tickscore0_x.append(idx*1 + alg.TimeBinMin())\n",
    "\n",
    "tickscore1_y=[]\n",
    "tickscore1_x=[]\n",
    "score1_v = alg.TimeBinnedScore1Mean()\n",
    "for idx in xrange(score1_v.size()):\n",
    "    v = score1_v[idx]\n",
    "    tickscore1_y.append(v)\n",
    "    tickscore1_x.append(idx*1 + alg.TimeBinMin())\n",
    "\n",
    "tickscore0_x = np.array(tickscore0_x)\n",
    "tickscore0_y = np.array(tickscore0_y)\n",
    "tickscore1_x = np.array(tickscore1_x)\n",
    "tickscore1_y = np.array(tickscore1_y)\n",
    "ymin = tickscore0_y.min()\n",
    "ymax = tickscore0_y.max()\n",
    "if ymin > tickscore1_y.min(): ymin = tickscore1_y.min()\n",
    "if ymax < tickscore1_y.max(): ymax = tickscore1_y.max()\n",
    "\n",
    "fig,ax = plt.subplots(figsize=(16,8),facecolor='w')\n",
    "ax.plot(tickscore0_x,tickscore0_y,marker='o',linestyle='-',color='red',markersize=10)\n",
    "ax.plot(tickscore1_x,tickscore1_y,marker='o',linestyle='--',\n",
    "         markeredgewidth=1,markeredgecolor='blue',markerfacecolor='None',markersize=10)\n",
    "\n",
    "\n",
    "minimum_v  = alg.TimeBinnedScoreMinIndex()\n",
    "minrange_v = alg.TimeBinnedScoreMinRange()\n",
    "for idx in xrange(minimum_v.size()):\n",
    "    xval = tickscore0_x[minimum_v[idx]]\n",
    "    ax.plot([xval,xval],[0,360],marker='',linestyle='--',color='black',linewidth=2)\n",
    "    xstart = tickscore0_x[minrange_v[idx].first]\n",
    "    xend   = tickscore0_x[minrange_v[idx].second]\n",
    "    ax.axvspan(xstart,xend, alpha=0.3, color='orange')\n",
    "\n",
    "ax.set_xlabel('Time [6 ticks]',fontsize=20,fontweight='bold')\n",
    "ax.set_ylabel('Summed Angle Difference [deg.]',fontsize=20,fontweight='bold')\n",
    "ax.tick_params(labelsize=20)\n",
    "plt.tight_layout()\n",
    "ax.set_ylim(-1,ymax*1.1)\n",
    "ax.set_xlim(tickscore0_x.min(),tickscore0_x.max())\n",
    "ax.grid()\n",
    "plt.show()\n"
   ]
  },
  {
   "cell_type": "markdown",
   "metadata": {},
   "source": [
    "### TrackVertexScan\n",
    "After scanning 3D space around vertices from the previous module, show the resulting new vertices"
   ]
  },
  {
   "cell_type": "code",
   "execution_count": null,
   "metadata": {
    "collapsed": false,
    "scrolled": false
   },
   "outputs": [],
   "source": [
    "dm=mgr.DataManager()\n",
    "colors=['red','green','blue','orange','magenta','cyan','pink']\n",
    "colors*=10\n",
    "\n",
    "dm=mgr.DataManager()\n",
    "algoid=dm.ID(\"trackvertexscan\")\n",
    "print algoid\n",
    "data=dm.Data(algoid,0)\n",
    "vtx3d_v=data.as_vector()\n",
    "print vtx3d_v.size()\n",
    "\n",
    "for vtxid,vtx in enumerate(vtx3d_v):\n",
    "    print \"<=============================================================================>\"\n",
    "    print \"<===================Start combined vertex \",vtxid,\" ==========================>\"\n",
    "    for plane in xrange(3):\n",
    "        fig,ax = plt.subplots(figsize=(12,12),facecolor='w')\n",
    "        shape_img1 = track_img_v[plane]\n",
    "        shape_img2 = shower_img_v[plane]\n",
    "        shape_img1=np.where(shape_img1>10.0,255.0,0.0).astype(np.uint8)\n",
    "        shape_img2=np.where(shape_img2>10.0,100.0,0.0).astype(np.uint8)\n",
    "        shape_img=shape_img1+shape_img2\n",
    "        ax.imshow(shape_img,cmap='Greys',interpolation='none')\n",
    "        nz_pixels=np.where(shape_img>0.0)\n",
    "        print vtx.vtx2d_v.size()\n",
    "        ax.plot(vtx.vtx2d_v[plane].pt.x,vtx.vtx2d_v[plane].pt.y,'*',color='cyan',markersize=20,alpha = 1.0)\n",
    "        \n",
    "        ax.set_ylim(np.min(nz_pixels[0])-10,np.max(nz_pixels[0])+10)\n",
    "        ax.set_xlim(np.min(nz_pixels[1])-10,np.max(nz_pixels[1])+10)\n",
    "        ax.set_xticklabels([])\n",
    "        ax.set_yticklabels([])\n",
    "        #ax.set_title(\"Vertex Type: %d\"%vtx.type)\n",
    "        ax.grid()\n",
    "        plt.show()\n",
    "    print \"<=============================================================================>\"\n",
    "    print \"<===================End combined vertex \",vtxid,\" ==========================>\"\n",
    "\n"
   ]
  },
  {
   "cell_type": "markdown",
   "metadata": {},
   "source": [
    "### ShowerPlaneSeeds\n",
    "Find 2D edge points of clusters in the track image, display as colored circles"
   ]
  },
  {
   "cell_type": "code",
   "execution_count": null,
   "metadata": {
    "collapsed": false,
    "scrolled": false
   },
   "outputs": [],
   "source": [
    "dm=mgr.DataManager()\n",
    "colors=['red','green','blue','orange','magenta','cyan','pink']\n",
    "colors*=10\n",
    "\n",
    "dm=mgr.DataManager()\n",
    "algoid=dm.ID(\"showerplaneseeds\")\n",
    "\n",
    "\n",
    "for plane in xrange(3):\n",
    "    data=dm.Data(algoid,plane)\n",
    "    vtxseed2d_v=data.as_vector()\n",
    "    \n",
    "    fig,ax = plt.subplots(figsize=(12,12),facecolor='w')\n",
    "    shape_img1 = track_img_v[plane]\n",
    "    shape_img2 = shower_img_v[plane]\n",
    "    shape_img1=np.where(shape_img1>10.0,255.0,0.0).astype(np.uint8)\n",
    "    shape_img2=np.where(shape_img2>10.0,100.0,0.0).astype(np.uint8)\n",
    "    shape_img=shape_img1+shape_img2\n",
    "    ax.imshow(shape_img,cmap='Greys',interpolation='none')\n",
    "    nz_pixels=np.where(shape_img>0.0)\n",
    "\n",
    "    for vtxseed2d in vtxseed2d_v:\n",
    "        ax.plot(vtxseed2d.x,vtxseed2d.y,'o',markersize=25,alpha=0.75)\n",
    "        print \"(\",vtxseed2d.x,\",\",vtxseed2d.y,\")\"\n",
    "\n",
    "    ax.set_ylim(np.min(nz_pixels[0])-10,np.max(nz_pixels[0])+10)\n",
    "    ax.set_xlim(np.min(nz_pixels[1])-10,np.max(nz_pixels[1])+10)\n",
    "\n",
    "    ax.grid()\n",
    "    plt.show()\n"
   ]
  },
  {
   "cell_type": "markdown",
   "metadata": {},
   "source": [
    "### ShowerVertexScan\n",
    "Scan the 3D region around pairs of 2D edge points, find a 3D vertex"
   ]
  },
  {
   "cell_type": "code",
   "execution_count": null,
   "metadata": {
    "collapsed": false,
    "scrolled": false
   },
   "outputs": [],
   "source": [
    "dm=mgr.DataManager()\n",
    "colors=['red','green','blue','orange','magenta','cyan','pink']\n",
    "colors*=10\n",
    "\n",
    "dm=mgr.DataManager()\n",
    "algoid=dm.ID(\"showervertexscan\")\n",
    "data=dm.Data(algoid,0)\n",
    "vtxseed3d_v=data.as_vector()\n",
    "print vtxseed3d_v.size()\n",
    "\n",
    "for vtxid,vtx in enumerate(vtxseed3d_v):\n",
    "    print \"<=============================================================================>\"\n",
    "    print \"<===================Start combined vertex \",vtxid,\" ==========================>\"\n",
    "    for plane in xrange(3):\n",
    "        fig,ax = plt.subplots(figsize=(12,12),facecolor='w')\n",
    "        shape_img1 = track_img_v[plane]\n",
    "        shape_img2 = shower_img_v[plane]\n",
    "        shape_img1=np.where(shape_img1>10.0,255.0,0.0).astype(np.uint8)\n",
    "        shape_img2=np.where(shape_img2>10.0,100.0,0.0).astype(np.uint8)\n",
    "        shape_img=shape_img1+shape_img2\n",
    "        ax.imshow(shape_img,cmap='Greys',interpolation='none')\n",
    "        nz_pixels=np.where(shape_img>0.0)\n",
    "        print vtx.vtx2d_v.size()\n",
    "        ax.plot(vtx.vtx2d_v[plane].pt.x,vtx.vtx2d_v[plane].pt.y,'*',color='cyan',markersize=20)\n",
    "        \n",
    "        ax.set_ylim(np.min(nz_pixels[0])-10,np.max(nz_pixels[0])+10)\n",
    "        ax.set_xlim(np.min(nz_pixels[1])-10,np.max(nz_pixels[1])+10)\n",
    "        ax.set_xticklabels([])\n",
    "        ax.set_yticklabels([])\n",
    "        ax.set_title(\"Vertex ID: %d @ plane %d\"%(vtxid,plane),fontsize=30,fontweight='bold')\n",
    "        ax.grid()\n",
    "        plt.show()\n",
    "    print \"<=============================================================================>\"\n",
    "    print \"<===================End combined vertex \",vtxid,\" ==========================>\"\n",
    "\n"
   ]
  },
  {
   "cell_type": "markdown",
   "metadata": {},
   "source": [
    "### Combined Vertices\n",
    "Consolidate wire/time/shower vertices and their ParticleClusters into one AlgoModule"
   ]
  },
  {
   "cell_type": "code",
   "execution_count": null,
   "metadata": {
    "collapsed": false,
    "scrolled": false
   },
   "outputs": [],
   "source": [
    "#New VertexCluster\n",
    "algoid=dm.ID(\"combinedvertexanalysis\")\n",
    "vtx_data=dm.Data(algoid,0).as_vector()\n",
    "assman=dm.AssManager()\n",
    "for vtxid,vtx in enumerate(vtx_data):\n",
    "    print \"<=============================================================================>\"\n",
    "    print \"<===================Start combined vertex \",vtxid,\" ==========================>\"\n",
    "    for plane in xrange(3):\n",
    "        fig,ax = plt.subplots(figsize=(12,12),facecolor='w')\n",
    "        shape_img1 = track_img_v[plane]\n",
    "        shape_img2 = shower_img_v[plane]\n",
    "        shape_img1=np.where(shape_img1>10.0,255.0,0.0).astype(np.uint8)\n",
    "        shape_img2=np.where(shape_img2>10.0,100.0,0.0).astype(np.uint8)\n",
    "        shape_img=shape_img1+shape_img2\n",
    "        ax.imshow(shape_img,cmap='Greys',interpolation='none')\n",
    "        nz_pixels=np.where(shape_img>0.0)\n",
    "        \n",
    "        ax.plot(vtx.vtx2d_v[plane].pt.x,\n",
    "                vtx.vtx2d_v[plane].pt.y,\n",
    "                '*',color='cyan',markersize=20)\n",
    "        \n",
    "        par_data=dm.Data(algoid,plane+1)\n",
    "        print \"Par data sz @ plane\",plane,\"is\",par_data.as_vector().size()\n",
    "        ass_t = np.array(assman.GetManyAss(vtx,par_data.ID()))\n",
    "        if ass_t.size==0:\n",
    "            continue\n",
    "\n",
    "        par_data_v=par_data.as_vector()\n",
    "        for id_ in ass_t:\n",
    "            ctor=[[pt.x,pt.y] for pt in par_data_v[id_]._ctor]\n",
    "            if len(ctor)==0: continue\n",
    "            ctor.append(ctor[0])\n",
    "            ctor=np.array(ctor)\n",
    "            ax.plot(ctor[:,0],ctor[:,1],'-',lw=2,alpha=0.8)\n",
    "\n",
    "\n",
    "        ax.set_ylim(np.min(nz_pixels[0])-10,np.max(nz_pixels[0])+10)\n",
    "        ax.set_xlim(np.min(nz_pixels[1])-10,np.max(nz_pixels[1])+10)\n",
    "        ax.set_title(\"Vertex Type: %d\"%vtx.type)\n",
    "        plt.show()\n",
    "    print \"<=============================================================================>\"\n",
    "    print \"<===================End combined vertex \",vtxid,\" ==========================>\"\n",
    "\n"
   ]
  },
  {
   "cell_type": "code",
   "execution_count": null,
   "metadata": {
    "collapsed": false
   },
   "outputs": [],
   "source": []
  }
 ],
 "metadata": {
  "kernelspec": {
   "display_name": "Python 2",
   "language": "python",
   "name": "python2"
  },
  "language_info": {
   "codemirror_mode": {
    "name": "ipython",
    "version": 2
   },
   "file_extension": ".py",
   "mimetype": "text/x-python",
   "name": "python",
   "nbconvert_exporter": "python",
   "pygments_lexer": "ipython2",
   "version": "2.7.10"
  }
 },
 "nbformat": 4,
 "nbformat_minor": 0
}

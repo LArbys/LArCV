{
 "cells": [
  {
   "cell_type": "markdown",
   "metadata": {},
   "source": [
    "### Analyze a single event using LArbysImage"
   ]
  },
  {
   "cell_type": "code",
   "execution_count": null,
   "metadata": {},
   "outputs": [],
   "source": [
    "import os, sys\n",
    "import ROOT\n",
    "from ROOT import fcllite\n",
    "from ROOT import geo2d\n",
    "from larcv import larcv\n",
    "import cv2\n",
    "pygeo = geo2d.PyDraw()\n",
    "from ROOT import larocv\n",
    "from ROOT import std\n",
    "from ROOT import cv\n",
    "import matplotlib\n",
    "import matplotlib.pyplot as plt\n",
    "import matplotlib.patches as patches\n",
    "matplotlib.rcParams['font.size']=20\n",
    "matplotlib.rcParams['font.family']='serif'\n",
    "%matplotlib inline\n",
    "import numpy as np"
   ]
  },
  {
   "cell_type": "markdown",
   "metadata": {},
   "source": [
    "### Prepare ProcessDriver"
   ]
  },
  {
   "cell_type": "code",
   "execution_count": null,
   "metadata": {},
   "outputs": [],
   "source": [
    "proc = larcv.ProcessDriver('ProcessDriver')\n",
    "CFG = os.path.join(os.environ['LARCV_BASEDIR'],\"app/LArOpenCVHandle/cfg/develop_larbysimage.cfg\")\n",
    "\n",
    "print \"Loading config... \",CFG\n",
    "proc.configure(CFG)\n",
    "flist=ROOT.std.vector('std::string')()\n",
    "#https://www.nevis.columbia.edu/~vgenty/public/one_event_test.root\n",
    "flist.push_back(\"/tmp/one_event_test.root\")\n",
    "proc.override_input_file(flist)\n",
    "proc.override_output_file(\"/tmp/c0.root\")\n",
    "proc.override_ana_file(\"/tmp/c1.root\")\n",
    "\n",
    "vinroi_id  = proc.process_id(\"VertexInROI\")\n",
    "reco_id    = proc.process_id(\"LArbysImage\")\n",
    "larbysimg  = proc.process_ptr(reco_id)\n",
    "vinroi     = proc.process_ptr(vinroi_id)\n",
    "\n",
    "\n",
    "proc.initialize()\n",
    "\n",
    "# Set the ROI index you want to take a look at, if none specified, use the neutrino ROI\n",
    "# vinroi.SetROIIndex(0)"
   ]
  },
  {
   "cell_type": "markdown",
   "metadata": {},
   "source": [
    "### Event selection"
   ]
  },
  {
   "cell_type": "code",
   "execution_count": null,
   "metadata": {},
   "outputs": [],
   "source": [
    "event = 0\n",
    "proc.batch_process(event,1)"
   ]
  },
  {
   "cell_type": "markdown",
   "metadata": {},
   "source": [
    "### ImageManager Instance"
   ]
  },
  {
   "cell_type": "code",
   "execution_count": null,
   "metadata": {},
   "outputs": [],
   "source": [
    "mgr = larbysimg.Manager()  \n",
    "dm  = mgr.DataManager()\n",
    "print \"Where are my images?\"\n",
    "print \".... ImageClusterManager is here (mgr): \",mgr\n",
    "print\n",
    "print \"Where is my per algoritm data?\"\n",
    "print \".... AlgoDataManger is here (dm): \",dm"
   ]
  },
  {
   "cell_type": "markdown",
   "metadata": {},
   "source": [
    "### Do something!"
   ]
  },
  {
   "cell_type": "code",
   "execution_count": null,
   "metadata": {},
   "outputs": [],
   "source": [
    "adc_mat_v = mgr.InputImages(0)\n",
    "print \"adc cv::Mat...\",adc_mat_v\n",
    "trk_mat_v = mgr.InputImages(1)\n",
    "print \"trk cv::Mat...\",adc_mat_v\n",
    "shr_mat_v = mgr.InputImages(2)\n",
    "print \"shr cv::Mat...\",adc_mat_v"
   ]
  },
  {
   "cell_type": "code",
   "execution_count": null,
   "metadata": {},
   "outputs": [],
   "source": []
  }
 ],
 "metadata": {
  "kernelspec": {
   "display_name": "Python 2",
   "language": "python",
   "name": "python2"
  },
  "language_info": {
   "codemirror_mode": {
    "name": "ipython",
    "version": 2
   },
   "file_extension": ".py",
   "mimetype": "text/x-python",
   "name": "python",
   "nbconvert_exporter": "python",
   "pygments_lexer": "ipython2",
   "version": "2.7.10"
  }
 },
 "nbformat": 4,
 "nbformat_minor": 0
}

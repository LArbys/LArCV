{
 "cells": [
  {
   "cell_type": "code",
   "execution_count": null,
   "metadata": {
    "collapsed": false
   },
   "outputs": [],
   "source": [
    "from larcv import larcv\n",
    "import ROOT\n",
    "\n",
    "import matplotlib\n",
    "matplotlib.rcParams['font.size']=20\n",
    "matplotlib.rcParams['font.family']='serif'\n",
    "from matplotlib import pyplot as plt\n",
    "import numpy as np\n",
    "\n",
    "from ROOT import geo2d\n",
    "pygeo = geo2d.PyDraw()\n",
    "\n",
    "%matplotlib inline"
   ]
  },
  {
   "cell_type": "code",
   "execution_count": null,
   "metadata": {
    "collapsed": false
   },
   "outputs": [],
   "source": [
    "INFILE=\"/Users/vgenty/Desktop/intrinsic_nue/out_pid_merge_mask3/larcv_pid_0000_0099.root\""
   ]
  },
  {
   "cell_type": "code",
   "execution_count": null,
   "metadata": {
    "collapsed": false
   },
   "outputs": [],
   "source": [
    "cfg=\"\"\"\n",
    "ProcessDriver:{\n",
    "  Verbosity: 0\n",
    "  EnableFilter: false\n",
    "  RandomAccess: false\n",
    "  ProcessType: [\"ChannelMax\",\"ChannelMax\",\"ChannelMax\",\"CombineImages\",\"SegmentMask\",\"SegmentMask\",\"MaskImage\",\"MaskImage\",\"LArbysImageExtract\"]\n",
    "  ProcessName: [\"ChannelMaxPlane0\",\"ChannelMaxPlane1\",\"ChannelMaxPlane2\",\"CombineImages\",\"ShowerSegment\",\"TrackSegment\",\"ShowerImage\",\"TrackImage\",\"LArbysImageExtract\"]\n",
    "  AnaFile: \"/tmp/_.root\"\n",
    "  IOManager: {\n",
    "    Verbosity: 0\n",
    "    Name:         \"IOManager\"\n",
    "    IOMode:        2\n",
    "    OutFileName:   \"/tmp/__.root\"\n",
    "    StoreOnlyType: [0]\n",
    "    StoreOnlyName: [\"_\"]\n",
    "  }\n",
    "  ProcessList: {\n",
    "  ChannelMaxPlane0: {\n",
    "      Verbosity: 2\n",
    "      InProducer: \"uburn_plane0\"\n",
    "      NPlanes: 2\n",
    "      OutputProducer: \"uburn_max_plane0\"\n",
    "      ChannelWeights: [1,1]\n",
    "      RelevantChannels: [0,1]\n",
    "      ChannelMask: [1,2]\n",
    "   }\n",
    "   ChannelMaxPlane1: {\n",
    "      Verbosity: 2\n",
    "      InProducer: \"uburn_plane1\"\n",
    "      NPlanes: 2\n",
    "      OutputProducer: \"uburn_max_plane1\"\n",
    "      ChannelWeights: [1,1]\n",
    "      RelevantChannels: [0,1]\n",
    "      ChannelMask: [1,2]\n",
    "   }\n",
    "  ChannelMaxPlane2: {\n",
    "      Verbosity: 2\n",
    "      InProducer: \"uburn_plane2\"\n",
    "      NPlanes: 2\n",
    "      OutputProducer: \"uburn_max_plane2\"\n",
    "      ChannelWeights: [1,1]\n",
    "      RelevantChannels: [0,1]\n",
    "      ChannelMask: [1,2]\n",
    "   }                                                                                                                     \n",
    "   CombineImages: {\n",
    "      Verbosity: 2\n",
    "      ImageProducers: [\"uburn_max_plane0\",\"uburn_max_plane1\",\"uburn_max_plane2\"]\n",
    "      NPlanes: 1\n",
    "      OutputProducer: \"uburn\"\n",
    "    }\n",
    "    ShowerSegment: {\n",
    "      Verbosity: 2\n",
    "      ROIProducer: \"\"\n",
    "      ImageProducer:  \"uburn\"\n",
    "      OutputProducer: \"shower_segment\"\n",
    "      ValidROI: [\"Cosmic\"]  \n",
    "      MaskValue: 0\n",
    "      PlaneID: [0,1,2]\n",
    "    }\n",
    "  TrackSegment: {\n",
    "      Verbosity: 2\n",
    "      ROIProducer: \"\"\n",
    "      ImageProducer:  \"uburn\"\n",
    "      OutputProducer: \"track_segment\"\n",
    "      ValidROI: [\"BNB\"]\n",
    "      MaskValue: 0\n",
    "      PlaneID: [0,1,2]\n",
    "    }\n",
    "    ShowerImage: {\n",
    "      Verbosity: 2\n",
    "      MinPIThreshold: 1\n",
    "      MaskValue: 0\n",
    "      OutputProducer: \"shower_tpc\"\n",
    "      ReferenceProducer: \"shower_segment\"\n",
    "      TargetProducer: \"tpc\"\n",
    "    }\n",
    "    TrackImage: {\n",
    "      Verbosity: 2\n",
    "      MinPIThreshold: 1\n",
    "      MaskValue: 0\n",
    "      OutputProducer: \"track_tpc\"\n",
    "      ReferenceProducer: \"track_segment\"\n",
    "      TargetProducer: \"tpc\"\n",
    "    }\n",
    "    LArbysImageExtract: {\n",
    "      ADCImageProducer: \"tpc\"\n",
    "      TrackImageProducer: \"track_tpc\"\n",
    "      ShowerImageProducer: \"shower_tpc\"\n",
    "      LArbysImageMaker: {\n",
    "        Q2Gray: 2\n",
    "        QMax: 500\n",
    "        QMin: 0\n",
    "      }\n",
    "    }\n",
    "  }\n",
    "}\n",
    "\"\"\"\n",
    "with open(\"/tmp/cfg.txt\",'w+') as f: f.write(cfg)"
   ]
  },
  {
   "cell_type": "code",
   "execution_count": null,
   "metadata": {
    "collapsed": false
   },
   "outputs": [],
   "source": [
    "proc=larcv.ProcessDriver('ProcessDriver')\n",
    "proc.configure('/tmp/cfg.txt')\n",
    "proc.override_input_file(ROOT.std.vector(\"string\")(1,ROOT.std.string(INFILE)))\n",
    "proc.initialize()  \n",
    "iom=proc.io()\n",
    "ext_id  = proc.process_id(\"LArbysImageExtract\")                                                                                                                          \n",
    "ext_proc = proc.process_ptr(ext_id) "
   ]
  },
  {
   "cell_type": "code",
   "execution_count": null,
   "metadata": {
    "collapsed": false
   },
   "outputs": [],
   "source": [
    "event=0\n",
    "if iom.current_entry()==event:\n",
    "    proc.process_entry(event+1)\n",
    "proc.process_entry(event)"
   ]
  },
  {
   "cell_type": "code",
   "execution_count": null,
   "metadata": {
    "collapsed": false
   },
   "outputs": [],
   "source": [
    "def segment_image(meta_v):\n",
    "    img_v=[None,None,None]\n",
    "    \n",
    "    for plane in xrange(3):\n",
    "        trackimg2d  = ext_proc._ev_trk.Image2DArray()[plane]                                                                                                           \n",
    "        showerimg2d = ext_proc._ev_shr.Image2DArray()[plane]  \n",
    "\n",
    "        trackimg2d=trackimg2d.crop(meta_v[plane])\n",
    "        showerimg2d=showerimg2d.crop(meta_v[plane])\n",
    "\n",
    "        trackimg = ext_proc.maker().ExtractMat(trackimg2d)\n",
    "        showerimg = ext_proc.maker().ExtractMat(showerimg2d)\n",
    "\n",
    "        timg=pygeo.image(trackimg)                                                                                                                                   \n",
    "        simg=pygeo.image(showerimg)                                                                                                                                  \n",
    "\n",
    "        timg=np.where(timg>10,200,0.0)                                                                                                                               \n",
    "        simg=np.where(simg>10,100,0.0)                                                                                                                               \n",
    "        img_v[plane]=simg.copy()+timg.copy()\n",
    "        img_v[plane]=img_v[plane].T[::-1,:]\n",
    "    return img_v"
   ]
  },
  {
   "cell_type": "code",
   "execution_count": null,
   "metadata": {
    "collapsed": false,
    "scrolled": false
   },
   "outputs": [],
   "source": [
    "\n",
    "evroi=iom.get_data(larcv.kProductROI,\"croimerge\").ROIArray()\n",
    "evpix=iom.get_data(larcv.kProductPixel2D,\"test_ctor\")\n",
    "\n",
    "for roi_id,roi in enumerate(evroi):\n",
    "    print roi_id,\")\",roi\n",
    "    \n",
    "    img_v=segment_image(roi.BB())       \n",
    "    \n",
    "    for plane in xrange(3):\n",
    "        fig,ax=plt.subplots(figsize=(10,12))\n",
    "        ax.imshow(img_v[plane],cmap='jet',vmin=0,vmax=255,interpolation='none')\n",
    "        ax.set_title(\"Plane {}\".format(plane),fontsize=30)\n",
    "        plt.show()\n",
    "    print \"<===================================================>\""
   ]
  },
  {
   "cell_type": "code",
   "execution_count": null,
   "metadata": {
    "collapsed": false,
    "scrolled": false
   },
   "outputs": [],
   "source": [
    "colors=['magenta','white','yellow']\n",
    "\n",
    "\n",
    "evpgraph = iom.get_data(larcv.kProductPGraph,\"test\")\n",
    "evctor   = iom.get_data(larcv.kProductPixel2D,\"test_ctor\")\n",
    "\n",
    "for vertex_id, pgraph in enumerate(evpgraph.PGraphArray()):\n",
    "    print vertex_id,pgraph\n",
    "    pararray=pgraph.ParticleArray()\n",
    "    \n",
    "    img_v = segment_image(pararray.back().BB())\n",
    "    ctor_v=[]\n",
    "    for parid,id_ in enumerate(np.array(pgraph.ClusterIndexArray())):\n",
    "        pix2d_vv=[]\n",
    "        for plane in xrange(3):\n",
    "            pix2d_v=evctor.Pixel2DClusterArray()[plane][id_]\n",
    "            pix2d_v=[[pix2d_v[i_].X(),pix2d_v[i_].Y()] for i_ in xrange(pix2d_v.size())]\n",
    "            pix2d_vv.append(np.array(pix2d_v))\n",
    "        ctor_v.append(pix2d_vv)\n",
    "        \n",
    "    for plane in xrange(3):\n",
    "        fig,ax=plt.subplots(figsize=(20,22))\n",
    "        ax.imshow(img_v[plane],cmap='jet',vmin=0,vmax=255,interpolation='none')\n",
    "        for ix,ctor in enumerate(ctor_v):\n",
    "            ctor=ctor[plane]\n",
    "            ax.plot(ctor[:,0],ctor[:,1],'-o',lw=3,color=colors[ix],alpha=1.0)\n",
    "\n",
    "\n",
    "\n",
    "        ax.set_title(\"Plane {}\".format(plane),fontsize=30)\n",
    "        plt.show()"
   ]
  },
  {
   "cell_type": "code",
   "execution_count": null,
   "metadata": {
    "collapsed": false
   },
   "outputs": [],
   "source": []
  }
 ],
 "metadata": {
  "kernelspec": {
   "display_name": "Python 2",
   "language": "python",
   "name": "python2"
  },
  "language_info": {
   "codemirror_mode": {
    "name": "ipython",
    "version": 2
   },
   "file_extension": ".py",
   "mimetype": "text/x-python",
   "name": "python",
   "nbconvert_exporter": "python",
   "pygments_lexer": "ipython2",
   "version": "2.7.10"
  }
 },
 "nbformat": 4,
 "nbformat_minor": 0
}

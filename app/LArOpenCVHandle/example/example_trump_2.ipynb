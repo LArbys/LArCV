{
 "cells": [
  {
   "cell_type": "markdown",
   "metadata": {},
   "source": [
    "### Analyze a Trump using LArbysImage"
   ]
  },
  {
   "cell_type": "code",
   "execution_count": null,
   "metadata": {
    "collapsed": false
   },
   "outputs": [],
   "source": [
    "import os, sys\n",
    "import ROOT\n",
    "from ROOT import fcllite\n",
    "from ROOT import geo2d\n",
    "from larcv import larcv\n",
    "import cv2\n",
    "pygeo = geo2d.PyDraw()\n",
    "from ROOT import larocv\n",
    "from ROOT import std\n",
    "from ROOT import cv\n",
    "import matplotlib\n",
    "import matplotlib.pyplot as plt\n",
    "import matplotlib.patches as patches\n",
    "matplotlib.rcParams['font.size']=20\n",
    "matplotlib.rcParams['font.family']='serif'\n",
    "%matplotlib inline\n",
    "import numpy as np"
   ]
  },
  {
   "cell_type": "markdown",
   "metadata": {},
   "source": [
    "### Prepare ProcessDriver"
   ]
  },
  {
   "cell_type": "code",
   "execution_count": null,
   "metadata": {
    "collapsed": false
   },
   "outputs": [],
   "source": [
    "proc = larcv.ProcessDriver('ProcessDriver')\n",
    "CFG = os.path.join(\"trump_example_2.cfg\")\n",
    "\n",
    "print \"Loading config... \",CFG\n",
    "proc.configure(CFG)\n",
    "flist=ROOT.std.vector('std::string')()\n",
    "# https://www.nevis.columbia.edu/~vgenty/public/trump_test.root\n",
    "flist.push_back(\"trump_test.root\")\n",
    "proc.override_input_file(flist)\n",
    "proc.override_output_file(\"/tmp/c0.root\")\n",
    "proc.override_ana_file(\"/tmp/c1.root\")\n",
    "\n",
    "reco_id    = proc.process_id(\"LArbysImage\")\n",
    "larbysimg  = proc.process_ptr(reco_id)\n",
    "\n",
    "proc.initialize()\n"
   ]
  },
  {
   "cell_type": "markdown",
   "metadata": {},
   "source": [
    "### Event selection"
   ]
  },
  {
   "cell_type": "code",
   "execution_count": null,
   "metadata": {
    "collapsed": false
   },
   "outputs": [],
   "source": [
    "event = 0\n",
    "proc.batch_process(event,1)"
   ]
  },
  {
   "cell_type": "markdown",
   "metadata": {},
   "source": [
    "### ImageManager Instance"
   ]
  },
  {
   "cell_type": "code",
   "execution_count": null,
   "metadata": {
    "collapsed": false
   },
   "outputs": [],
   "source": [
    "mgr = larbysimg.Manager()  \n",
    "dm  = mgr.DataManager()\n",
    "print \"Where are my images?\"\n",
    "print \".... ImageClusterManager is here (mgr): \",mgr\n",
    "print\n",
    "print \"Where is my per algoritm data?\"\n",
    "print \".... AlgoDataManger is here (dm): \",dm"
   ]
  },
  {
   "cell_type": "markdown",
   "metadata": {
    "collapsed": false
   },
   "source": [
    "### Grab the ADC image"
   ]
  },
  {
   "cell_type": "code",
   "execution_count": null,
   "metadata": {
    "collapsed": false
   },
   "outputs": [],
   "source": [
    "adc_mat_v = mgr.InputImages(0)"
   ]
  },
  {
   "cell_type": "markdown",
   "metadata": {},
   "source": [
    "### Get the algo data for the TrumpExample module"
   ]
  },
  {
   "cell_type": "code",
   "execution_count": null,
   "metadata": {
    "collapsed": false
   },
   "outputs": [],
   "source": [
    "print \"The list of modules...\"\n",
    "print\n",
    "for ix,name in enumerate(dm.Names()):\n",
    "    print ix,\")\",name"
   ]
  },
  {
   "cell_type": "code",
   "execution_count": null,
   "metadata": {
    "collapsed": false
   },
   "outputs": [],
   "source": [
    "trump_algo_id = mgr.GetClusterAlgID(\"trumpexample\")\n",
    "print \"Got TrumpExample algorithm ID --\",trump_algo_id\n",
    "print\n",
    "\n",
    "\n",
    "\n",
    "for plane in xrange(3):\n",
    "    par_data = dm.Data(trump_algo_id,plane).as_vector()\n",
    "    \n",
    "    print \"Got\",par_data.size(),\"particles on plane\",plane\n",
    "    \n",
    "    # I know there is only one particle so lets get the first one\n",
    "    par=par_data.front()\n",
    "    \n",
    "    # Convert it to a numpy array\n",
    "    hair_ctor = [[pt.x,pt.y] for pt in par._ctor]\n",
    "    hair_ctor = np.array(hair_ctor)\n",
    "    \n",
    "    fig,ax=plt.subplots(figsize=(10,6))\n",
    "    img = pygeo.image(adc_mat_v.at(plane))\n",
    "    ax.imshow(img,cmap='Greys',interpolation='none')\n",
    "    \n",
    "    # Draw the contour on the image\n",
    "    ax.plot(hair_ctor[:,0],hair_ctor[:,1],lw=2)\n",
    "    \n",
    "    ax.set_title(\"Trump @ Plane %d\"%plane,fontsize=20)\n",
    "    ax.grid()\n",
    "    plt.show()\n",
    "    print"
   ]
  },
  {
   "cell_type": "code",
   "execution_count": null,
   "metadata": {
    "collapsed": false
   },
   "outputs": [],
   "source": []
  }
 ],
 "metadata": {
  "kernelspec": {
   "display_name": "Python 2",
   "language": "python",
   "name": "python2"
  },
  "language_info": {
   "codemirror_mode": {
    "name": "ipython",
    "version": 2
   },
   "file_extension": ".py",
   "mimetype": "text/x-python",
   "name": "python",
   "nbconvert_exporter": "python",
   "pygments_lexer": "ipython2",
   "version": "2.7.10"
  }
 },
 "nbformat": 4,
 "nbformat_minor": 0
}

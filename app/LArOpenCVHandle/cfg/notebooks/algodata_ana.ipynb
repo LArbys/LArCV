{
 "cells": [
  {
   "cell_type": "code",
   "execution_count": null,
   "metadata": {
    "collapsed": false
   },
   "outputs": [],
   "source": [
    "import numpy as np\n",
    "import pandas as pd\n",
    "import matplotlib\n",
    "import matplotlib.pyplot as plt\n",
    "%matplotlib inline\n",
    "matplotlib.rcParams['font.size']=25\n",
    "matplotlib.rcParams['font.family']='serif'\n",
    "\n",
    "import root_numpy as rn"
   ]
  },
  {
   "cell_type": "code",
   "execution_count": null,
   "metadata": {
    "collapsed": false
   },
   "outputs": [],
   "source": [
    "rse   =['run','subrun','event']\n",
    "index_=['run','subrun','event']\n",
    "FILE_1=\"/Users/vgenty/sw/larcv/app/LArOpenCVHandle/test/ana_apr17.root\"\n",
    "FILE_2=\"/Users/vgenty/sw/larcv/app/LArOpenCVHandle/test/ana_apr24.root\"\n",
    "\n",
    "ana_df1  = pd.DataFrame(rn.root2array(FILE_1,treename='tree'))\n",
    "ana_df2  = pd.DataFrame(rn.root2array(FILE_2,treename='tree'))\n",
    "\n",
    "eana_df1 = pd.DataFrame(rn.root2array(FILE_1,treename='event_tree'))\n",
    "eana_df2 = pd.DataFrame(rn.root2array(FILE_2,treename='event_tree'))\n",
    "\n",
    "eana_df1 = eana_df1.drop_duplicates(index_)\n",
    "eana_df2 = eana_df2.drop_duplicates(index_)\n",
    "\n",
    "eana_good_df1 = eana_df1.query(\"good_croi_ctr>0\") \n",
    "eana_good_df2 = eana_df2.query(\"good_croi_ctr>0\") \n",
    "\n",
    "eana_bad_df1  = eana_df1.query(\"good_croi_ctr==0\") \n",
    "eana_bad_df2  = eana_df2.query(\"good_croi_ctr==0\") \n",
    "\n",
    "algodata_df1 = pd.DataFrame(rn.root2array(FILE_1,treename='OutTree'))\n",
    "algodata_df2 = pd.DataFrame(rn.root2array(FILE_2,treename='OutTree'))\n",
    "\n"
   ]
  },
  {
   "cell_type": "code",
   "execution_count": null,
   "metadata": {
    "collapsed": false
   },
   "outputs": [],
   "source": [
    "rse_to_entry = eana_df1.reset_index().set_index(rse).entry\n"
   ]
  },
  {
   "cell_type": "code",
   "execution_count": null,
   "metadata": {
    "collapsed": false
   },
   "outputs": [],
   "source": [
    "good_df1 = ana_df1.query(\"scedr<5\")\n",
    "good_df2 = ana_df2.query(\"scedr<5\")\n",
    "\n",
    "bad_df1  = ana_df1.query(\"scedr>=5\")\n",
    "bad_df2  = ana_df2.query(\"scedr>=5\")\n"
   ]
  },
  {
   "cell_type": "code",
   "execution_count": null,
   "metadata": {
    "collapsed": false,
    "scrolled": false
   },
   "outputs": [],
   "source": [
    "good_dfs={}\n",
    "for example_df in [(\"before\",good_df1),(\"after\",good_df2)]:\n",
    "    (name,ana_df) = example_df \n",
    "    good_entries=[]\n",
    "    for index, group in ana_df.groupby(rse):\n",
    "        run,subrun,event=index\n",
    "        try:\n",
    "            entry_ = rse_to_entry.ix[(run,subrun,event)]\n",
    "        except:\n",
    "            print run,subrun,event\n",
    "            break\n",
    "        good_entries.append(entry_)\n",
    "    good_dfs[name] = good_entries\n",
    "\n",
    "good_df1_l = good_dfs['before']\n",
    "good_df2_l = good_dfs['after']\n",
    "\n",
    "print \"Good DF\"\n",
    "print \"In 1 not 2\"\n",
    "a = np.unique(np.array([entry for entry in good_df1_l if entry not in good_df2_l]))\n",
    "print a \n",
    "print \"sz...\",a.size\n",
    "print \n",
    "print \"In 2 not 1\"\n",
    "a = np.unique(np.array([entry for entry in good_df2_l if entry not in good_df1_l]))\n",
    "print a\n",
    "print \"sz...\",a.size\n",
    "print\n"
   ]
  },
  {
   "cell_type": "code",
   "execution_count": null,
   "metadata": {
    "collapsed": false
   },
   "outputs": [],
   "source": [
    "res={}\n",
    "for example_df in [(\"before\",eana_df1,algodata_df1),(\"after\",eana_df2,algodata_df2)]:\n",
    "    (name,event_df,reco_df) = example_df \n",
    "    \n",
    "    all_entries_v = np.array([i for i in xrange(event_df.index.size)])\n",
    "    good_croi_entries_v = event_df.query(\"good_croi_ctr>0\").entry.values\n",
    "    bad_croi_entries_v  = event_df.query(\"good_croi_ctr==0\").entry.values\n",
    "    good_reco_entries_v = []\n",
    "    bad_reco_entries_v  = []\n",
    "\n",
    "    for index, group in event_df.groupby(rse):\n",
    "        run,subrun,event=index\n",
    "        xyz_v = reco_df.query(\"run==@run&subrun==@subrun&event==@event\")[['x','y','z']].values\n",
    "        if xyz_v.shape[0]==0: \n",
    "            bad_reco_entries_v.append(group.entry.values[0])\n",
    "            continue\n",
    "        sce_v = group[['scex','scey','scez']].values\n",
    "        try:\n",
    "            entry_ = rse_to_entry.ix[(run,subrun,event)]\n",
    "        except:\n",
    "            print run,subrun,event\n",
    "            break\n",
    "        \n",
    "        if np.where(np.sqrt(np.power(xyz_v-sce_v,2).sum(axis=1))<5)[0].size > 0:\n",
    "            good_reco_entries_v.append(entry_)\n",
    "        else:\n",
    "            bad_reco_entries_v.append(entry_)\n",
    "\n",
    "    good_reco_entries_v = np.array(good_reco_entries_v)\n",
    "    good_reco_entries_v.sort()\n",
    "    \n",
    "    print \"Type:\",name\n",
    "    print \"N events...........\",all_entries_v.size\n",
    "    print \"N good coi events..\",good_croi_entries_v.size\n",
    "    print \"N good reco events.\",good_reco_entries_v.size\n",
    "    print\n",
    "    res[name]=good_reco_entries_v.copy()\n",
    "    "
   ]
  },
  {
   "cell_type": "code",
   "execution_count": null,
   "metadata": {
    "collapsed": false
   },
   "outputs": [],
   "source": [
    "print \"before not in after\"\n",
    "print np.array([e for e in res['before'] if e not in res['after']])\n",
    "print\n",
    "print \"after not in before\"\n",
    "print np.array([e for e in res['after'] if e not in res['before']])\n",
    "print"
   ]
  }
 ],
 "metadata": {
  "kernelspec": {
   "display_name": "Python 2",
   "language": "python",
   "name": "python2"
  },
  "language_info": {
   "codemirror_mode": {
    "name": "ipython",
    "version": 2
   },
   "file_extension": ".py",
   "mimetype": "text/x-python",
   "name": "python",
   "nbconvert_exporter": "python",
   "pygments_lexer": "ipython2",
   "version": "2.7.10"
  }
 },
 "nbformat": 4,
 "nbformat_minor": 0
}

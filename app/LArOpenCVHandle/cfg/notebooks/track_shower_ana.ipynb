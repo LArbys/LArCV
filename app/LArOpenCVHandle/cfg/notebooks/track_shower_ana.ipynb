{
 "cells": [
  {
   "cell_type": "code",
   "execution_count": null,
   "metadata": {
    "collapsed": false
   },
   "outputs": [],
   "source": [
    "import ROOT\n",
    "import root_numpy\n",
    "import matplotlib\n",
    "import matplotlib.pyplot as plt\n",
    "import numpy as np\n",
    "import pandas as pd\n",
    "%matplotlib inline\n",
    "\n",
    "matplotlib.rcParams[\"font.size\"]=20\n",
    "matplotlib.rcParams[\"font.family\"]='serif'"
   ]
  },
  {
   "cell_type": "code",
   "execution_count": null,
   "metadata": {
    "collapsed": false
   },
   "outputs": [],
   "source": [
    "ssnet_track = pd.DataFrame(root_numpy.root2array(\"../mac/track_shower.root\",treename=\"true_track\"))\n",
    "ssnet_shower = pd.DataFrame(root_numpy.root2array(\"../mac/track_shower.root\",treename=\"true_shower\"))"
   ]
  },
  {
   "cell_type": "code",
   "execution_count": null,
   "metadata": {
    "collapsed": false
   },
   "outputs": [],
   "source": [
    "track_v = ssnet_track.area.values/ssnet_track.perimeter.values\n",
    "shower_v = ssnet_shower.area.values/ssnet_shower.perimeter.values\n",
    "bins=np.arange(0,10+0.1,0.1)\n",
    "plt.hist(track_v,bins=bins,alpha=0.5,normed=True,color='red')\n",
    "plt.hist(shower_v,bins=bins,alpha=0.5,normed=True,color='blue')\n",
    "fig=plt.gcf()\n",
    "fig.set_size_inches((10,6))\n",
    "plt.grid()\n",
    "plt.show()"
   ]
  },
  {
   "cell_type": "code",
   "execution_count": null,
   "metadata": {
    "collapsed": false
   },
   "outputs": [],
   "source": [
    "track_v = ssnet_track.n_pixel.values\n",
    "shower_v = ssnet_shower.n_pixel.values\n",
    "bins=np.arange(0,300+5,5)\n",
    "plt.hist(track_v,bins=bins,alpha=0.5,normed=True,color='red',label='track')\n",
    "plt.hist(shower_v,bins=bins,alpha=0.5,normed=True,color='blue',label='shower')\n",
    "fig=plt.gcf()\n",
    "fig.set_size_inches((10,6))\n",
    "plt.legend(loc='best')\n",
    "plt.grid()\n",
    "plt.show()"
   ]
  },
  {
   "cell_type": "code",
   "execution_count": null,
   "metadata": {
    "collapsed": false
   },
   "outputs": [],
   "source": [
    "track_v = ssnet_track.weighted_angle.values\n",
    "shower_v = ssnet_shower.weighted_angle.values\n",
    "bins=np.arange(0,180+1,1)\n",
    "plt.hist(track_v,bins=bins,alpha=0.5,normed=True,color='red',label='track')\n",
    "plt.hist(shower_v,bins=bins,alpha=0.5,normed=True,color='blue',label='shower')\n",
    "fig=plt.gcf()\n",
    "fig.set_size_inches((10,6))\n",
    "plt.legend(loc='best')\n",
    "plt.grid()\n",
    "plt.show()"
   ]
  },
  {
   "cell_type": "code",
   "execution_count": null,
   "metadata": {
    "collapsed": false
   },
   "outputs": [],
   "source": []
  }
 ],
 "metadata": {
  "kernelspec": {
   "display_name": "Python 2",
   "language": "python",
   "name": "python2"
  },
  "language_info": {
   "codemirror_mode": {
    "name": "ipython",
    "version": 2
   },
   "file_extension": ".py",
   "mimetype": "text/x-python",
   "name": "python",
   "nbconvert_exporter": "python",
   "pygments_lexer": "ipython2",
   "version": "2.7.10"
  }
 },
 "nbformat": 4,
 "nbformat_minor": 0
}

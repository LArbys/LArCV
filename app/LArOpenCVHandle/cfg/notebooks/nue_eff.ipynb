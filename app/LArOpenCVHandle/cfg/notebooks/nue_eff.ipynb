{
 "cells": [
  {
   "cell_type": "code",
   "execution_count": null,
   "metadata": {
    "collapsed": true
   },
   "outputs": [],
   "source": [
    "%matplotlib inline\n",
    "\n",
    "import ROOT, sys, os\n",
    "from ROOT import std\n",
    "\n",
    "from larcv import larcv\n",
    "from larlite import larlite as ll\n",
    "from larlite import larutil as lu\n",
    "\n",
    "import numpy as np\n",
    "\n",
    "import scipy\n",
    "from scipy import stats\n",
    "\n",
    "import matplotlib\n",
    "import matplotlib.pyplot as plt\n",
    "import matplotlib.path as path\n",
    "import matplotlib.patches as patches\n",
    "\n",
    "from ROOT import geo2d,cv\n",
    "from ROOT.cv import Point_ as Vector\n",
    "DTYPE='float'\n",
    "\n",
    "import root_numpy as rn\n",
    "import pandas as pd\n",
    "\n",
    "geoh=lu.GeometryHelper.GetME()\n",
    "geo=lu.Geometry.GetME()\n",
    "larp=lu.LArProperties.GetME()\n",
    "pygeo = geo2d.PyDraw()\n",
    "\n",
    "matplotlib.rcParams['font.size']=20\n",
    "matplotlib.rcParams['font.family']='serif'"
   ]
  },
  {
   "cell_type": "code",
   "execution_count": null,
   "metadata": {
    "collapsed": false,
    "scrolled": false
   },
   "outputs": [],
   "source": [
    "INFILE=\"out.root\"\n",
    "\n",
    "base_index = ['run','subrun','event']\n",
    "\n",
    "trees_m = { \n",
    "            'mctree' : base_index,\n",
    "            'EventTree' : base_index,\n",
    "            'Vtx3DTree' : base_index + ['vtx3d_id'],\n",
    "          }\n",
    "\n",
    "           \n",
    "df_m = {}\n",
    "signal_df_m = {}\n",
    "back_df_m = {}\n",
    "signal_reco_df_m = {}\n",
    "back_reco_df_m = {}\n",
    "\n",
    "# drop duplicates\n",
    "for tree_name_, index_ in trees_m.iteritems():\n",
    "    df = pd.DataFrame(rn.root2array(INFILE,treename=tree_name_))\n",
    "    df = df.drop_duplicates(subset=index_)\n",
    "    df_m[tree_name_] = df.set_index(base_index)\n",
    "    \n",
    "signal_mc_idx = df_m['mctree'].query('signal==1').index\n",
    "back_mc_idx   = df_m['mctree'].query('signal==1').index\n",
    "\n",
    "# select signal v. background, \n",
    "# reindex\n",
    "for tree_name_, index_ in trees_m.iteritems():\n",
    "    signal_df = df_m[tree_name_].ix[signal_mc_idx]\n",
    "    back_df   = df_m[tree_name_].ix[back_mc_idx]\n",
    "    \n",
    "    #sometimes IX clobbers index name, reset the name\n",
    "    signal_df.index.names = base_index\n",
    "    back_df.index.names = base_index\n",
    "    \n",
    "    signal_df_m[tree_name_] = signal_df.copy()\n",
    "    back_df_m[tree_name_]   = back_df.copy()\n",
    "\n",
    "\n",
    "#select only events which are reconstructed\n",
    "#signal_reco_rse_idx = signal_df_m['Vtx3DEventTree'].query(\"n_vtx3d>0\").index\n",
    "#back_reco_rse_idx   = back_df_m['Vtx3DEventTree'].query(\"n_vtx3d>0\").index\n",
    "\n",
    "for tree_name_, index_ in trees_m.iteritems():\n",
    "    signal_reco_df_m[tree_name_] = signal_df_m[tree_name_]#.ix[signal_reco_rse_idx].copy()\n",
    "    back_reco_df_m[tree_name_]   = back_df_m[tree_name_]#.ix[back_reco_rse_idx].copy()\n",
    "\n",
    "#set desired index\n",
    "for tree_name_, index_ in trees_m.iteritems():\n",
    "    signal_reco_df_m[tree_name_] = signal_reco_df_m[tree_name_].reset_index()\n",
    "    back_reco_df_m[tree_name_]   = back_reco_df_m[tree_name_].reset_index()\n",
    "\n",
    "    signal_reco_df_m[tree_name_] = signal_reco_df_m[tree_name_].set_index(index_)\n",
    "    back_reco_df_m[tree_name_]   = back_reco_df_m[tree_name_].set_index(index_)"
   ]
  },
  {
   "cell_type": "markdown",
   "metadata": {},
   "source": [
    "# Choose good vertex candidates"
   ]
  },
  {
   "cell_type": "code",
   "execution_count": null,
   "metadata": {
    "collapsed": false
   },
   "outputs": [],
   "source": [
    "s_vtx_tree = signal_reco_df_m['Vtx3DTree'].reset_index().set_index(base_index)\n",
    "s_mc_tree  = signal_reco_df_m['mctree'].reset_index().set_index(base_index)\n",
    "\n",
    "b_vtx_tree = back_reco_df_m['Vtx3DTree'].reset_index().set_index(base_index)\n",
    "b_mc_tree  = back_reco_df_m['mctree'].reset_index().set_index(base_index)\n",
    "\n",
    "def pick_good_vertex(sb_mc_tree,sb_vtx_tree):\n",
    "    \n",
    "    good_vtx_sb_v={}\n",
    "    good_vtx_id_v={}\n",
    "    \n",
    "    for index, row in sb_mc_tree.iterrows():\n",
    "\n",
    "        vtx_entry = sb_vtx_tree.ix[index]\n",
    "\n",
    "        if type(vtx_entry) != pd.core.frame.DataFrame: \n",
    "            good_vtx_sb_v[index]  = False\n",
    "            good_vtx_id_v[index] = -1\n",
    "            continue\n",
    "\n",
    "        vtx_x_vv= np.row_stack(vtx_entry.vtx2d_x_v.values)\n",
    "        vtx_y_vv= np.row_stack(vtx_entry.vtx2d_y_v.values)\n",
    "\n",
    "        dx = vtx_x_vv - row.vtx2d_t\n",
    "        dy = vtx_y_vv - row.vtx2d_w\n",
    "\n",
    "        dt = np.sqrt(dx*dx + dy*dy)            # compute the distance from true to all candidates\n",
    "        min_idx=dt.mean(axis=1).argmin()       # get the smallest mean distance from candidates\n",
    "        dt_b = (dt <= 7).sum(axis=1)           # vtx must be less than 7 pixels away\n",
    "        n_close_vtx = len(np.where(dt_b>1)[0]) # event has >0 close verticies\n",
    "\n",
    "        good_vtx_sb_v[index]  = n_close_vtx>0\n",
    "        good_vtx_id_v[index]  = vtx_entry.vtx3d_id.values[min_idx]\n",
    "\n",
    "    good_vtx_sb_v  = pd.Series(good_vtx_sb_v)\n",
    "    good_vtx_id_v  = pd.Series(good_vtx_id_v) \n",
    "\n",
    "    sb_vtx_df=pd.DataFrame([good_vtx_sb_v,good_vtx_id_v]).T\n",
    "    sb_vtx_df.columns=['good','idx']\n",
    "\n",
    "    return sb_vtx_df\n",
    "\n",
    "s_vtx_df = pick_good_vertex(s_mc_tree,s_vtx_tree)\n",
    "s_vtx_df.index.names = base_index\n",
    "b_vtx_df = pick_good_vertex(b_mc_tree,b_vtx_tree)\n",
    "b_vtx_df.index.names = base_index"
   ]
  },
  {
   "cell_type": "markdown",
   "metadata": {},
   "source": [
    "# Good selected vertex dataframe"
   ]
  },
  {
   "cell_type": "code",
   "execution_count": null,
   "metadata": {
    "collapsed": false
   },
   "outputs": [],
   "source": [
    "#get the signal dataframe\n",
    "sig_vtx3d=signal_df_m[\"Vtx3DTree\"].reset_index().set_index(base_index + [\"vtx3d_id\"])\n",
    "#get the background dataframe\n",
    "back_vtx3d=back_df_m[\"Vtx3DTree\"].reset_index().set_index(base_index + [\"vtx3d_id\"])\n",
    "\n",
    "#......signal........\n",
    "#get the good vertex dataframe\n",
    "good_vtx_tmp=s_vtx_df.copy()\n",
    "good_vtx_tmp=good_vtx_tmp.reset_index()\n",
    "good_vtx_tmp.columns=base_index+['good','vtx3d_id']\n",
    "good_vtx_tmp=good_vtx_tmp.set_index(base_index + ['vtx3d_id'])\n",
    "good_vtx_tmp=good_vtx_tmp.query(\"good==1.0\")\n",
    "sig_good_vtx_df=sig_vtx3d.ix[good_vtx_tmp.index]\n",
    "del good_vtx_tmp\n",
    "\n",
    "#......background........\n",
    "#get the good vertex dataframe\n",
    "good_vtx_tmp=b_vtx_df.copy()\n",
    "good_vtx_tmp=good_vtx_tmp.reset_index()\n",
    "good_vtx_tmp.columns=base_index+['good','vtx3d_id']\n",
    "good_vtx_tmp=good_vtx_tmp.set_index(base_index + ['vtx3d_id'])\n",
    "good_vtx_tmp=good_vtx_tmp.query(\"good==1.0\")\n",
    "back_good_vtx_df=back_vtx3d.ix[good_vtx_tmp.index]\n",
    "del good_vtx_tmp"
   ]
  },
  {
   "cell_type": "code",
   "execution_count": null,
   "metadata": {
    "collapsed": false
   },
   "outputs": [],
   "source": [
    "print signal_df_m['mctree'].index.size\n",
    "print len(signal_df_m['Vtx3DTree'].reset_index().groupby(base_index))\n",
    "print sig_good_vtx_df.index.size"
   ]
  }
 ],
 "metadata": {
  "kernelspec": {
   "display_name": "Python 2",
   "language": "python",
   "name": "python2"
  },
  "language_info": {
   "codemirror_mode": {
    "name": "ipython",
    "version": 2
   },
   "file_extension": ".py",
   "mimetype": "text/x-python",
   "name": "python",
   "nbconvert_exporter": "python",
   "pygments_lexer": "ipython2",
   "version": "2.7.10"
  }
 },
 "nbformat": 4,
 "nbformat_minor": 0
}

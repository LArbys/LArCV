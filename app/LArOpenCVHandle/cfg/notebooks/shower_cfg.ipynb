{
 "cells": [
  {
   "cell_type": "code",
   "execution_count": null,
   "metadata": {
    "collapsed": false
   },
   "outputs": [],
   "source": [
    "from larcv import larcv\n",
    "larcv.load_pyutil\n",
    "larcv.load_cvutil\n",
    "\n",
    "import cv2\n",
    "import ROOT\n",
    "from ROOT import fcllite\n",
    "from ROOT import geo2d\n",
    "from ROOT import larocv\n",
    "from ROOT import std\n",
    "\n",
    "%matplotlib inline\n",
    "import matplotlib\n",
    "import matplotlib.pyplot as plt\n",
    "import numpy as np"
   ]
  },
  {
   "cell_type": "code",
   "execution_count": null,
   "metadata": {
    "collapsed": false
   },
   "outputs": [],
   "source": [
    "proc = larcv.ProcessDriver('ProcessDriver')\n",
    "\n",
    "CFG=\"../reco_combined.cfg\"\n",
    "print \"Loading config... \",CFG\n",
    "proc.configure(CFG)\n",
    "\n",
    "flist=ROOT.std.vector('std::string')()\n",
    "flist.push_back(\"/Users/vgenty/Desktop/numu_8000.root\")\n",
    "proc.override_input_file(flist)\n",
    "\n",
    "filter_id = proc.process_id(\"NuFilter\")\n",
    "mcinfo_id = proc.process_id(\"LArbysImageMC\")\n",
    "reco_id   = proc.process_id(\"LArbysImage\")\n",
    "ana_id    = proc.process_id(\"LArbysImageAna\")\n",
    "\n",
    "filter_proc   = proc.process_ptr(filter_id)\n",
    "mcinfo_proc   = proc.process_ptr(mcinfo_id)\n",
    "mcinfo_proc.SetFilter(filter_proc)\n",
    "\n",
    "larbysimg     = proc.process_ptr(reco_id)\n",
    "larbysimg_ana = proc.process_ptr(ana_id)\n",
    "larbysimg_ana.SetManager(larbysimg.Manager())\n",
    "\n",
    "proc.override_ana_file(\"/tmp/test.root\")\n",
    "\n",
    "proc.initialize()\n",
    "\n",
    "\n",
    "# ix=17#9\n",
    "# iy=-1\n",
    "# for event in xrange(2000):\n",
    "#     proc.batch_process(event,1)\n",
    "#     if (filter_proc.selected()==False): continue\n",
    "#     iy+=1\n",
    "#     if iy==ix:\n",
    "#         print event\n",
    "#         break\n",
    "proc.batch_process(1375,1)"
   ]
  },
  {
   "cell_type": "code",
   "execution_count": null,
   "metadata": {
    "collapsed": false
   },
   "outputs": [],
   "source": [
    "mgr=larbysimg.Manager()\n",
    "img_v = []\n",
    "track_img_v=[]\n",
    "shower_img_v=[]\n",
    "pygeo = geo2d.PyDraw()\n",
    "for mat in mgr.InputImages(0):\n",
    "    img_v.append(pygeo.image(mat))\n",
    "for mat in mgr.InputImages(1):\n",
    "    track_img_v.append(pygeo.image(mat))\n",
    "for mat in mgr.InputImages(2):\n",
    "    shower_img_v.append(pygeo.image(mat))"
   ]
  },
  {
   "cell_type": "code",
   "execution_count": null,
   "metadata": {
    "collapsed": false
   },
   "outputs": [],
   "source": [
    "for plane in xrange(len(track_img_v)):                                                                                                    \n",
    "        shower_img=np.where(shower_img_v[plane]>10.0,85.0,0.0).astype(np.uint8)                                                                 \n",
    "        track_img=np.where(track_img_v[plane]>10.0,160.0,0.0).astype(np.uint8)                                                                  \n",
    "        fig,ax=plt.subplots(figsize=(12,12),facecolor='w')                                                                                      \n",
    "        plt.imshow(shower_img+track_img,cmap='jet',interpolation='none',vmin=0.,vmax=255.)                                                      \n",
    "        plt.xlabel('Time [6 ticks]',fontsize=20)                                                                                                \n",
    "        plt.ylabel('Wire',fontsize=20)                                                                                                          \n",
    "        plt.tick_params(labelsize=20)                                                                                                           \n",
    "        ax.set_aspect(0.8)                                                                                                                      \n",
    "        plt.tight_layout()        \n",
    "        plt.show()"
   ]
  },
  {
   "cell_type": "code",
   "execution_count": null,
   "metadata": {
    "collapsed": false,
    "scrolled": false
   },
   "outputs": [],
   "source": [
    "dm=mgr.DataManager()\n",
    "data=dm.Data(0,0)\n",
    "lintrk_v=data.as_vector()\n",
    "print \"Found \",lintrk_v.size(),\" linear track clusters\"\n",
    "strack_n=-1\n",
    "for strack in lintrk_v:\n",
    "    strack_n+=1\n",
    "    print \"<===========START: LinearTrack number \",strack_n,\"===========>\"\n",
    "    e13d=strack.edge1\n",
    "    e23d=strack.edge2\n",
    "    for plane in xrange(3):\n",
    "        strack2d = strack.get_cluster(plane)\n",
    "        fig,ax=plt.subplots(figsize=(12,12),facecolor='w')\n",
    "        shape_img = img_v[plane]\n",
    "        shape_img=np.where(img_v[plane]>0.0,1.0,0.0).astype(np.uint8)\n",
    "        plt.imshow(shape_img,cmap='Greys',interpolation='none')\n",
    "        nz_pixels=np.where(shape_img>0.0)\n",
    "        if strack2d.ctor.size()>0:\n",
    "            ctor = [[pt.x,pt.y] for pt in strack2d.ctor]\n",
    "            ctor.append(ctor[0])\n",
    "            ctor=np.array(ctor)\n",
    "\n",
    "            plt.plot(ctor[:,0],ctor[:,1],'-o',lw=3)\n",
    "\n",
    "            e1=strack2d.edge1\n",
    "            e2=strack2d.edge2\n",
    "\n",
    "            plt.plot(e1.x,e1.y,'*',color='orange',markersize=20)\n",
    "            plt.plot(e2.x,e2.y,'*',color='yellow',markersize=20)\n",
    "\n",
    "            try:\n",
    "                vtx2d=e13d.vtx2d_v[plane]\n",
    "                pt=vtx2d.pt\n",
    "                plt.plot(pt.x,pt.y,'o',color='green',markersize=40,alpha=0.7)\n",
    "            except:\n",
    "                pass\n",
    "\n",
    "            try:\n",
    "                vtx2d=e23d.vtx2d_v[plane]\n",
    "                pt=vtx2d.pt\n",
    "                plt.plot(pt.x,pt.y,'o',color='green',markersize=40,alpha=0.7)\n",
    "            except:\n",
    "                pass\n",
    "\n",
    "        ax.set_aspect(1.0)\n",
    "        ax.set_ylim(np.min(nz_pixels[0])-10,np.max(nz_pixels[0])+10)\n",
    "        ax.set_xlim(np.min(nz_pixels[1])-10,np.max(nz_pixels[1])+10)\n",
    "        plt.xlabel('Time [6 ticks]',fontsize=20)\n",
    "        plt.ylabel('Wire [2 wires]',fontsize=20)\n",
    "        plt.tick_params(labelsize=20)\n",
    "        ax.set_aspect(0.8)\n",
    "\n",
    "        plt.show()\n",
    "    print \"<===========END  : LinearTrack number \",strack_n,\"===========>\""
   ]
  },
  {
   "cell_type": "code",
   "execution_count": null,
   "metadata": {
    "collapsed": false,
    "scrolled": false
   },
   "outputs": [],
   "source": [
    "dm=mgr.DataManager()                                                                                                \n",
    "data=dm.Data(3,0)                                                                                                   \n",
    "print data;print data.as_vector().size()                                                                                                      \n",
    "if data.as_vector().size() == 0:\n",
    "    print \"NO VTX FOUND!\"\n",
    "for vtx3d in data.as_vector():\n",
    "    for plane in xrange(3):                                                                                         \n",
    "        fig,ax=plt.subplots(figsize=(12,12),facecolor='w')                                                          \n",
    "        shape_img = img_v[plane]                                                                                    \n",
    "        shape_img=np.where(shape_img>0.0,1.0,0.0).astype(np.uint8)                                                  \n",
    "        plt.imshow(shape_img,cmap='Greys',interpolation='none')                                                     \n",
    "        nz_pixels=np.where(shape_img>0.0)                                                                           \n",
    "\n",
    "        cvtx=vtx3d.cvtx2d_v[plane]                                                                                  \n",
    "        plt.plot(cvtx.center.x,cvtx.center.y,'o',color='red',markersize=10)                                         \n",
    "        circl=matplotlib.patches.Circle((cvtx.center.x,cvtx.center.y),                                              \n",
    "                                  cvtx.radius,fc='none',ec='cyan',lw=5)                                             \n",
    "        for xs in cvtx.xs_v:                                                                                        \n",
    "            plt.plot(xs.pt.x,xs.pt.y,'o',color='orange',markersize=10)                                              \n",
    "\n",
    "        ax.add_patch(circl)                                                                                         \n",
    "        ax.set_aspect(1.0)                                                                                          \n",
    "        ax.set_ylim(np.min(nz_pixels[0])-10,np.max(nz_pixels[0])+10)                                                \n",
    "        ax.set_xlim(np.min(nz_pixels[1])-10,np.max(nz_pixels[1])+10)                                                \n",
    "        plt.xlabel('Time [6 ticks]',fontsize=20)                                                                    \n",
    "        plt.ylabel('Wire [2 wires]',fontsize=20)                                                                    \n",
    "        plt.tick_params(labelsize=20)                                                                               \n",
    "        ax.set_aspect(0.8)       "
   ]
  },
  {
   "cell_type": "code",
   "execution_count": null,
   "metadata": {
    "collapsed": false,
    "scrolled": false
   },
   "outputs": [],
   "source": [
    "assman=dm.AssManager() \n",
    "vtx_data=dm.Data(3,0).as_vector()                                                                                   \n",
    "\n",
    "for vtx in vtx_data:                                                                                                \n",
    "    for plane in xrange(3):                                                                                         \n",
    "        fig,ax = plt.subplots(figsize=(12,12),facecolor='w')                                                        \n",
    "        shape_img = track_img_v[plane]+shower_img_v[plane]                                                               \n",
    "        shape_img=np.where(shape_img>0.0,1.0,0.0).astype(np.uint8)                                                  \n",
    "        plt.imshow(shape_img,cmap='Greys',interpolation='none')                                                     \n",
    "        nz_pixels=np.where(shape_img>0.0)                                                                           \n",
    "\n",
    "        par_data=dm.Data(4,plane)                                                                                   \n",
    "\n",
    "        ass_t = np.array(assman.GetManyAss(vtx,par_data.ID()))                                                      \n",
    "        if ass_t.size==0:continue                                                                                   \n",
    "\n",
    "        par_data_v=par_data.as_vector()                                                                             \n",
    "        for id_ in ass_t:                                                                                           \n",
    "            ctor=np.array([[pt.x,pt.y] for pt in par_data_v[id_]._ctor])                                            \n",
    "            plt.plot(ctor[:,0],ctor[:,1],'-o',lw=2)                                                                 \n",
    "\n",
    "        ax.set_ylim(np.min(nz_pixels[0])-10,np.max(nz_pixels[0])+10)                                                \n",
    "        ax.set_xlim(np.min(nz_pixels[1])-10,np.max(nz_pixels[1])+10)                                                \n",
    "        plt.show()"
   ]
  },
  {
   "cell_type": "code",
   "execution_count": null,
   "metadata": {
    "collapsed": false
   },
   "outputs": [],
   "source": []
  }
 ],
 "metadata": {
  "kernelspec": {
   "display_name": "Python 2",
   "language": "python",
   "name": "python2"
  },
  "language_info": {
   "codemirror_mode": {
    "name": "ipython",
    "version": 2
   },
   "file_extension": ".py",
   "mimetype": "text/x-python",
   "name": "python",
   "nbconvert_exporter": "python",
   "pygments_lexer": "ipython2",
   "version": "2.7.10"
  }
 },
 "nbformat": 4,
 "nbformat_minor": 0
}

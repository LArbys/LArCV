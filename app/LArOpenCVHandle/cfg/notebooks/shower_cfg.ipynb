{
 "cells": [
  {
   "cell_type": "code",
   "execution_count": null,
   "metadata": {
    "collapsed": true
   },
   "outputs": [],
   "source": [
    "from larcv import larcv\n",
    "larcv.load_pyutil\n",
    "larcv.load_cvutil\n",
    "\n",
    "import cv2\n",
    "import ROOT\n",
    "from ROOT import fcllite\n",
    "from ROOT import geo2d\n",
    "from ROOT import larocv\n",
    "from ROOT import std\n",
    "\n",
    "%matplotlib inline\n",
    "import matplotlib\n",
    "import matplotlib.pyplot as plt\n",
    "import numpy as np"
   ]
  },
  {
   "cell_type": "code",
   "execution_count": null,
   "metadata": {
    "collapsed": false
   },
   "outputs": [],
   "source": [
    "proc = larcv.ProcessDriver('ProcessDriver')\n",
    "\n",
    "CFG=\"../reco_shower.cfg\"\n",
    "print \"Loading config... \",CFG\n",
    "proc.configure(CFG)\n",
    "\n",
    "flist=ROOT.std.vector('std::string')()\n",
    "flist.push_back(\"/Users/vgenty/Desktop/nue_8000.root\")\n",
    "proc.override_input_file(flist)\n",
    "\n",
    "filter_id = proc.process_id(\"NuFilter\")\n",
    "mcinfo_id = proc.process_id(\"LArbysImageMC\")\n",
    "reco_id   = proc.process_id(\"LArbysImage\")\n",
    "ana_id    = proc.process_id(\"LArbysImageAna\")\n",
    "\n",
    "filter_proc   = proc.process_ptr(filter_id)\n",
    "mcinfo_proc   = proc.process_ptr(mcinfo_id)\n",
    "mcinfo_proc.SetFilter(filter_proc)\n",
    "\n",
    "larbysimg     = proc.process_ptr(reco_id)\n",
    "larbysimg_ana = proc.process_ptr(ana_id)\n",
    "larbysimg_ana.SetManager(larbysimg.Manager())\n",
    "\n",
    "proc.override_ana_file(\"/tmp/test.root\")\n",
    "\n",
    "proc.initialize()\n",
    "\n",
    "for event in xrange(10):\n",
    "    proc.batch_process(event,1)\n",
    "    if (filter_proc.selected()==False): continue\n",
    "    print event\n",
    "    break\n"
   ]
  },
  {
   "cell_type": "code",
   "execution_count": null,
   "metadata": {
    "collapsed": false
   },
   "outputs": [],
   "source": [
    "mgr=larbysimg.Manager()\n",
    "img_v = []\n",
    "track_img_v=[]\n",
    "shower_img_v=[]\n",
    "pygeo = geo2d.PyDraw()\n",
    "for mat in mgr.InputImages(0):\n",
    "    img_v.append(pygeo.image(mat))\n",
    "for mat in mgr.InputImages(1):\n",
    "    track_img_v.append(pygeo.image(mat))\n",
    "for mat in mgr.InputImages(2):\n",
    "    shower_img_v.append(pygeo.image(mat))"
   ]
  },
  {
   "cell_type": "code",
   "execution_count": null,
   "metadata": {
    "collapsed": false
   },
   "outputs": [],
   "source": [
    "for plane in xrange(len(track_img_v)):                                                                                                    \n",
    "        shower_img=np.where(shower_img_v[plane]>10.0,85.0,0.0).astype(np.uint8)                                                                 \n",
    "        track_img=np.where(track_img_v[plane]>10.0,160.0,0.0).astype(np.uint8)                                                                  \n",
    "        fig,ax=plt.subplots(figsize=(12,12),facecolor='w')                                                                                      \n",
    "        plt.imshow(shower_img+track_img,cmap='jet',interpolation='none',vmin=0.,vmax=255.)                                                      \n",
    "        plt.xlabel('Time [6 ticks]',fontsize=20)                                                                                                \n",
    "        plt.ylabel('Wire',fontsize=20)                                                                                                          \n",
    "        plt.tick_params(labelsize=20)                                                                                                           \n",
    "        ax.set_aspect(0.8)                                                                                                                      \n",
    "        plt.tight_layout()        \n",
    "        plt.show()"
   ]
  }
 ],
 "metadata": {
  "kernelspec": {
   "display_name": "Python 2",
   "language": "python",
   "name": "python2"
  },
  "language_info": {
   "codemirror_mode": {
    "name": "ipython",
    "version": 2
   },
   "file_extension": ".py",
   "mimetype": "text/x-python",
   "name": "python",
   "nbconvert_exporter": "python",
   "pygments_lexer": "ipython2",
   "version": "2.7.10"
  }
 },
 "nbformat": 4,
 "nbformat_minor": 0
}

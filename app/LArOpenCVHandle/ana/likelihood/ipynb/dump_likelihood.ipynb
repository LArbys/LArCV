{
 "cells": [
  {
   "cell_type": "code",
   "execution_count": null,
   "metadata": {},
   "outputs": [],
   "source": [
    "import os, sys\n",
    "import matplotlib\n",
    "import matplotlib.pyplot as plt\n",
    "%matplotlib inline\n",
    "\n",
    "import numpy as np\n",
    "import pandas as pd\n",
    "\n",
    "import ROOT\n",
    "import root_numpy as rn\n",
    "from larocv import larocv\n",
    "\n",
    "rse    = ['run','subrun','event']\n",
    "rsev   = ['run','subrun','event','vtxid']\n",
    "rserv  = ['run','subrun','event','roid','vtxid']"
   ]
  },
  {
   "cell_type": "code",
   "execution_count": null,
   "metadata": {},
   "outputs": [],
   "source": [
    "name='ncpizero'\n",
    "LLCUT=-14.625\n",
    "all_df = pd.read_pickle(os.path.join(\"..\",\"ll_bin\",\"{}_post_LL.pkl\".format(name)))\n",
    "\n",
    "if name == 'cosmic' or name == 'cosmic2':\n",
    "    print \"GOT\",all_df.query(\"LL>@LLCUT\").index.size,\"@ LL \"\n",
    "    pass_df = all_df.query(\"LL>@LLCUT\")\n",
    "    FILE=\"/data/vgenty/extbnb/out_week082817/vertex/analysis/rse/comb_ana.root\"\n",
    "    \n",
    "if name == 'nue':\n",
    "    print \"GOT\",all_df.query(\"LL>@LLCUT & scedr>5\").index.size,\"@ LL \"\n",
    "    pass_df = all_df.query(\"LL>@LLCUT & scedr>5\")\n",
    "    FILE=\"/data/vgenty/1e1p/out_week080717/vertex/analysis/rse/comb_ana.root\"\n",
    "    \n",
    "if name == 'ncpizero':\n",
    "    print \"GOT\",all_df.query(\"LL>@LLCUT & scedr<5\").index.size,\"@ LL \"\n",
    "    pass_df = all_df.query(\"LL>@LLCUT & scedr<5\")\n",
    "    FILE=\"/data/vgenty/ncpizero/out_week080717/vertex/analysis/rse/comb_ana.root\"\n",
    "    \n",
    "if name == 'numu':\n",
    "    print \"GOT\",all_df.query(\"LL>@LLCUT & scedr<5\").index.size,\"@ LL \"\n",
    "    pass_df = all_df.query(\"LL>@LLCUT & scedr<5\")\n",
    "    FILE=\"/data/vgenty/1mu1p/out_week080717/vertex/analysis/rse/comb_ana.root\"\n",
    "   \n",
    "if name == 'inclusive_muon':\n",
    "    print \"GOT\",all_df.query(\"LL>@LLCUT & scedr<5\").index.size,\"@ LL \"\n",
    "    pass_df = all_df.query(\"LL>@LLCUT & scedr<5\")\n",
    "    FILE=\"/data/vgenty/inclusive_muon/out_week080717/vertex/analysis/rse/comb_ana.root\"\n",
    "        \n",
    "rse_df = pd.DataFrame(rn.root2array(FILE,treename='RSEFilter'))\n",
    "print \"GOT\",len(rse_df.groupby('fname')),\"unique files\""
   ]
  },
  {
   "cell_type": "code",
   "execution_count": null,
   "metadata": {},
   "outputs": [],
   "source": [
    "def print_full(x):\n",
    "    pd.set_option('display.max_rows', len(x))\n",
    "    print(x)\n",
    "    pd.reset_option('display.max_rows')"
   ]
  },
  {
   "cell_type": "code",
   "execution_count": null,
   "metadata": {},
   "outputs": [],
   "source": [
    "fout = open(\"these_{}_pass.sh\".format(name),\"w+\")\n",
    "ix=-1\n",
    "for run,subrun,event in pass_df[['run','subrun','event']].values:\n",
    "    ix+=1\n",
    "    print \"@ix=\",ix\n",
    "    trse = (run,subrun,event)\n",
    "    fout.write(\"python dump_img.py\")\n",
    "    fout.write(\" \")\n",
    "    f=os.path.basename(rse_df.set_index(['run','subrun','event']).loc[trse].fname)\n",
    "    fout.write(os.path.join(\"{}_in\".format(name),f))\n",
    "    fout.write(\" \")\n",
    "    num = int(f.split(\".\")[0].split(\"_\")[-1])\n",
    "    \n",
    "    if name in ['ncpizero','numu','inclusive_muon']:\n",
    "        PREFIX=\"vertexout_larcv_\"\n",
    "    else:\n",
    "        PREFIX=\"out_\"\n",
    "        \n",
    "    fout.write(os.path.join(\"{}_out\".format(name),\"{}{}.root\".format(PREFIX,num)))\n",
    "    fout.write(\" \")\n",
    "    erv = pass_df.set_index(['run','subrun','event']).loc[trse][['entry','cvtxid']].values\n",
    "    fout.write(\"%d %d %s &\" %(erv[0],erv[1],name))\n",
    "    fout.write(\"\\n\")\n",
    "    print trse,\"\\t\",f,\"%d %d %s &\" %(erv[0],erv[1],name)\n",
    "    print\n",
    "    \n",
    "fout.close()"
   ]
  },
  {
   "cell_type": "code",
   "execution_count": null,
   "metadata": {},
   "outputs": [],
   "source": [
    "print_full(pass_df.set_index(rse).loc[(1, 14, 20004)])"
   ]
  },
  {
   "cell_type": "code",
   "execution_count": null,
   "metadata": {},
   "outputs": [],
   "source": []
  }
 ],
 "metadata": {
  "kernelspec": {
   "display_name": "Python 2",
   "language": "python",
   "name": "python2"
  },
  "language_info": {
   "codemirror_mode": {
    "name": "ipython",
    "version": 2
   },
   "file_extension": ".py",
   "mimetype": "text/x-python",
   "name": "python",
   "nbconvert_exporter": "python",
   "pygments_lexer": "ipython2",
   "version": "2.7.6"
  }
 },
 "nbformat": 4,
 "nbformat_minor": 2
}

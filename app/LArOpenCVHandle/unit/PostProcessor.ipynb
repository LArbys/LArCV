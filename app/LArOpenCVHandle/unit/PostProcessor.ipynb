{
 "cells": [
  {
   "cell_type": "code",
   "execution_count": null,
   "metadata": {
    "collapsed": false
   },
   "outputs": [],
   "source": [
    "from larcv import larcv\n",
    "from IPython.core.display import display, HTML\n",
    "display(HTML(\"<style>.container { width:100% !important; }</style>\"))\n",
    "larcv.load_pyutil\n",
    "larcv.load_cvutil\n",
    "import cv2\n",
    "import ROOT\n",
    "from ROOT import fcllite\n",
    "from ROOT import geo2d\n",
    "pdraw = geo2d.PyDraw()\n",
    "\n",
    "%matplotlib inline\n",
    "import matplotlib\n",
    "import matplotlib.pyplot as plt\n",
    "import numpy as np"
   ]
  },
  {
   "cell_type": "code",
   "execution_count": null,
   "metadata": {
    "collapsed": false
   },
   "outputs": [],
   "source": [
    "pprocessor = larcv.PreProcessor()\n",
    "print pprocessor"
   ]
  },
  {
   "cell_type": "code",
   "execution_count": null,
   "metadata": {
    "collapsed": false
   },
   "outputs": [],
   "source": [
    "ctor = ROOT.std.vector(ROOT.cv.Point_('int'))()"
   ]
  },
  {
   "cell_type": "code",
   "execution_count": null,
   "metadata": {
    "collapsed": false
   },
   "outputs": [],
   "source": [
    "# make a fake TRACK image...\n",
    "a=np.zeros((485,485))\n",
    "\n",
    "trk_ctor = ROOT.std.vector(ROOT.cv.Point_('int'))()\n",
    "\n",
    "trk_ctor.clear()\n",
    "    \n",
    "pt_x=[]\n",
    "pt_y=[]\n",
    "\n",
    "trk_ctor.push_back(ROOT.cv.Point_(\"int\")(25,225))\n",
    "trk_ctor.push_back(ROOT.cv.Point_(\"int\")(50,225))\n",
    "trk_ctor.push_back(ROOT.cv.Point_(\"int\")(50,229))\n",
    "trk_ctor.push_back(ROOT.cv.Point_(\"int\")(29,229))\n",
    "\n",
    "trk_ctor.push_back(trk_ctor[0])\n",
    "for pt in trk_ctor:\n",
    "    pt_x.append(pt.x)\n",
    "    pt_y.append(pt.y)\n",
    "    plt.plot(pt_x,pt_y,'o-',color='black',lw=1)\n",
    "\n",
    "ax=plt.gca()\n",
    "#ax.set_xlim(0,450)\n",
    "#ax.set_ylim(0,450)\n",
    "plt.grid()\n",
    "plt.show()\n",
    "\n",
    "# make a path representing this contour\n",
    "path_list1 = []\n",
    "for pt in trk_ctor:\n",
    "    path_list1.append((pt.x,pt.y)) \n",
    "    \n",
    "# make a fake shower image...\n",
    "b=np.zeros((485,485))\n",
    "\n",
    "shr_ctor = ROOT.std.vector(ROOT.cv.Point_('int'))()\n",
    "\n",
    "shr_ctor.clear()\n",
    "    \n",
    "pt_x=[]\n",
    "pt_y=[]\n",
    "\n",
    "shr_ctor.push_back(ROOT.cv.Point_(\"int\")(25,225))\n",
    "shr_ctor.push_back(ROOT.cv.Point_(\"int\")(50,225))\n",
    "shr_ctor.push_back(ROOT.cv.Point_(\"int\")(50,229))\n",
    "shr_ctor.push_back(ROOT.cv.Point_(\"int\")(29,229))\n",
    "\n",
    "shr_ctor.push_back(shr_ctor[0])\n",
    "for pt in shr_ctor:\n",
    "    pt_x.append(pt.x)\n",
    "    pt_y.append(pt.y)\n",
    "    plt.plot(pt_x,pt_y,'o-',color='black',lw=1)\n",
    "\n",
    "ax=plt.gca()\n",
    "#ax.set_xlim(0,450)\n",
    "#ax.set_ylim(0,450)\n",
    "plt.grid()\n",
    "plt.show()\n",
    "\n",
    "# make a path representing this contour\n",
    "path_list2 = []\n",
    "for pt in shr_ctor:\n",
    "    path_list2.append((pt.x,pt.y)) \n"
   ]
  },
  {
   "cell_type": "code",
   "execution_count": null,
   "metadata": {
    "collapsed": false
   },
   "outputs": [],
   "source": [
    "path1 = matplotlib.path.Path(path_list1)\n",
    "path2 = matplotlib.path.Path(path_list2)\n",
    "\n",
    "img1 = path1.contains_points(np.row_stack(np.where(a==0)).T).reshape(485,485).astype(np.uint8)\n",
    "img4 = path2.contains_points(np.row_stack(np.where(b==0)).T).reshape(485,485).astype(np.uint8)\n",
    "\n",
    "###################TRACK IMAGE\n",
    "img1=np.where(img1>0,img1+80,0)\n",
    "img2 = img1.copy()\n",
    "img3 = img1.copy()\n",
    "\n",
    "M = cv2.getRotationMatrix2D((485/2,485/2),20,1)\n",
    "#rotate 1\n",
    "img1 = cv2.warpAffine(img1,M,(485,485))\n",
    "\n",
    "#get nonzero for 1, and move it...\n",
    "nzero=np.row_stack(np.where(img1>0)).T\n",
    "img1[nzero[:,0],nzero[:,1]]=0\n",
    "img1[nzero[:,0]+20,nzero[:,1]+75]=80\n",
    "\n",
    "M = cv2.getRotationMatrix2D((485/2,485/2),45,1)\n",
    "#rotate 2\n",
    "img2 = cv2.warpAffine(img2,M,(485,485))\n",
    "\n",
    "#flip 2\n",
    "img2 = img2[:,::-1]\n",
    "\n",
    "#get nonzero for 2, and move it...\n",
    "nzero=np.row_stack(np.where(img2>0)).T\n",
    "img2[nzero[:,0],nzero[:,1]]=0\n",
    "img2[nzero[:,0]+10,nzero[:,1]-160]=80\n",
    "\n",
    "#rotate 3\n",
    "M = cv2.getRotationMatrix2D((485/2,485/2),45,1)\n",
    "img3 = cv2.warpAffine(img3,M,(485,485))\n",
    "\n",
    "#get nonzero for 3, and move it...\n",
    "nzero=np.row_stack(np.where(img3>0)).T\n",
    "img3[nzero[:,0],nzero[:,1]]=0\n",
    "img3[nzero[:,0]+42,nzero[:,1]+168]=80\n",
    "\n",
    "###################SHOWER IMAGE\n",
    "img4=np.where(img4>0,img4+80,0)\n",
    "img5 = img4.copy()\n",
    "img6 = img4.copy()\n",
    "\n",
    "#move 4\n",
    "nzero=np.row_stack(np.where(img4>0)).T\n",
    "img4[nzero[:,0],nzero[:,1]]=0\n",
    "img4[nzero[:,0]+13,nzero[:,1]+3]=200\n",
    "\n",
    "\n",
    "#rotate 5\n",
    "M = cv2.getRotationMatrix2D((485/2,485/2),20,1)\n",
    "img5 = cv2.warpAffine(img5,M,(485,485))\n",
    "#move 5\n",
    "nzero=np.row_stack(np.where(img5>0)).T\n",
    "img5[nzero[:,0],nzero[:,1]]=0\n",
    "img5[nzero[:,0]+43,nzero[:,1]+87]=200\n",
    "\n",
    "#rotate 6\n",
    "M = cv2.getRotationMatrix2D((485/2,485/2),45,1)\n",
    "img6 = cv2.warpAffine(img6,M,(485,485))\n",
    "#move 6\n",
    "nzero=np.row_stack(np.where(img6>0)).T\n",
    "img6[nzero[:,0],nzero[:,1]]=0\n",
    "img6[nzero[:,0]+23,nzero[:,1]+150]=200\n",
    "\n",
    "#add them...\n",
    "trk_img = img1+img2+img3\n",
    "shr_img = img4+img5+img6\n",
    "adc_img = trk_img+shr_img\n",
    "\n",
    "plt.imshow(trk_img+shr_img,cmap='Greys',interpolation='none')\n",
    "ax=plt.gca()\n",
    "ax.vlines(227,0,485,color='orange',lw=2,alpha=0.5)\n",
    "ax.text(50,50,\"Fake Image\",fontsize=20,fontweight='bold',color='red')\n",
    "fig=plt.gcf()\n",
    "fig.set_size_inches(20,12)\n",
    "\n",
    "plt.rc('grid', linestyle=\"-\", color='black')\n",
    "\n",
    "mjx = mjy = 10.;\n",
    "mix = miy = 1.\n",
    "\n",
    "major_ticks_x = np.arange(0,485+mjx/2,mjx)                                                                                                                                                                                    \n",
    "major_ticks_y = np.arange(0,485+mjy/2,mjy)                                                                                                                                                                                    \n",
    "minor_ticks_x = np.arange(0+mix/2,485+mix*1.5,1)                                                                                                                                                                            \n",
    "minor_ticks_y = np.arange(0+miy/2,485+miy*1.5,1)                                                                                                                                                                            \n",
    "\n",
    "ax.set_xticks(major_ticks_x)                                                                                                                                                                                            \n",
    "#ax.set_xticks(minor_ticks_x, minor=True)                                                                                                                                                                                \n",
    "ax.set_yticks(major_ticks_y)                                                                                                                                                                                            \n",
    "#ax.set_yticks(minor_ticks_y, minor=True)                                                                                                                                                                                \n",
    "ax.grid(which='minor')                                                                                                                                                                                                  \n",
    "ax.set_xticklabels(major_ticks_x.astype(np.uint16),rotation=45,fontsize=10,minor=False)                                                                                                                                                   \n",
    "ax.set_yticklabels(major_ticks_y.astype(np.uint16),rotation=45,fontsize=10,minor=False) \n",
    "\n",
    "plt.grid()\n",
    "plt.show()"
   ]
  },
  {
   "cell_type": "code",
   "execution_count": null,
   "metadata": {
    "collapsed": false
   },
   "outputs": [],
   "source": [
    "adc_mat  = pdraw.mat(adc_img.T.astype(np.float32))\n",
    "track_mat  = pdraw.mat(trk_img.T.astype(np.float32))\n",
    "shower_mat = pdraw.mat(shr_img.T.astype(np.float32))"
   ]
  },
  {
   "cell_type": "code",
   "execution_count": null,
   "metadata": {
    "collapsed": false
   },
   "outputs": [],
   "source": [
    "pprocessor.PreProcess(adc_mat,track_mat,shower_mat)"
   ]
  },
  {
   "cell_type": "code",
   "execution_count": null,
   "metadata": {
    "collapsed": false
   },
   "outputs": [],
   "source": [
    "fig, (ax1, ax2) = plt.subplots(1, 2, sharey=True,figsize=(10,5))\n",
    "ax1.imshow(adc_img.T,cmap='Greys',interpolation='none')\n",
    "ax2.imshow(pdraw.image(adc_mat),cmap='Greys',interpolation='none')\n",
    "ax1.set_title(\"ADC Before\")\n",
    "ax2.set_title(\"ADC After\")\n",
    "plt.show()\n",
    "fig, (ax1, ax2) = plt.subplots(1, 2, sharey=True,figsize=(10,5))\n",
    "ax1.imshow(trk_img.T,cmap='Greys',interpolation='none')\n",
    "ax2.imshow(pdraw.image(track_mat),cmap='Greys',interpolation='none')\n",
    "ax1.set_title(\"Track Before\")\n",
    "ax2.set_title(\"Track After\")\n",
    "plt.show()\n",
    "fig, (ax1, ax2) = plt.subplots(1, 2, sharey=True,figsize=(10,5))\n",
    "ax1.imshow(shr_img.T,cmap='Greys',interpolation='none')\n",
    "ax2.imshow(pdraw.image(shower_mat),cmap='Greys',interpolation='none')\n",
    "ax1.set_title(\"Shower Before\")\n",
    "ax2.set_title(\"Shower After\")\n",
    "plt.show()"
   ]
  },
  {
   "cell_type": "code",
   "execution_count": null,
   "metadata": {
    "collapsed": false
   },
   "outputs": [],
   "source": []
  }
 ],
 "metadata": {
  "kernelspec": {
   "display_name": "Python 2",
   "language": "python",
   "name": "python2"
  },
  "language_info": {
   "codemirror_mode": {
    "name": "ipython",
    "version": 2
   },
   "file_extension": ".py",
   "mimetype": "text/x-python",
   "name": "python",
   "nbconvert_exporter": "python",
   "pygments_lexer": "ipython2",
   "version": "2.7.10"
  }
 },
 "nbformat": 4,
 "nbformat_minor": 0
}

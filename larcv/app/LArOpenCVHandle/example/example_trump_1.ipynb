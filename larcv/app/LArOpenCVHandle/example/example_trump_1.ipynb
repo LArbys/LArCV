{
 "cells": [
  {
   "cell_type": "markdown",
   "metadata": {},
   "source": [
    "### Analyze a Trump using LArbysImage"
   ]
  },
  {
   "cell_type": "code",
   "execution_count": null,
   "metadata": {
    "collapsed": false
   },
   "outputs": [],
   "source": [
    "import os, sys\n",
    "import ROOT\n",
    "from ROOT import fcllite\n",
    "from ROOT import geo2d\n",
    "from larcv import larcv\n",
    "import cv2\n",
    "\n",
    "pygeo = geo2d.PyDraw()\n",
    "\n",
    "from ROOT import larocv\n",
    "from ROOT import std\n",
    "from ROOT import cv\n",
    "import matplotlib\n",
    "import matplotlib.pyplot as plt\n",
    "import matplotlib.patches as patches\n",
    "matplotlib.rcParams['font.size']=20\n",
    "matplotlib.rcParams['font.family']='serif'\n",
    "%matplotlib inline\n",
    "import numpy as np"
   ]
  },
  {
   "cell_type": "markdown",
   "metadata": {},
   "source": [
    "### Prepare ProcessDriver"
   ]
  },
  {
   "cell_type": "code",
   "execution_count": null,
   "metadata": {
    "collapsed": false
   },
   "outputs": [],
   "source": [
    "proc = larcv.ProcessDriver('ProcessDriver')\n",
    "CFG = os.path.join(\"trump_example_1.cfg\")\n",
    "\n",
    "print \"Loading config... \",CFG\n",
    "proc.configure(CFG)\n",
    "flist=ROOT.std.vector('std::string')()\n",
    "\n",
    "# https://www.nevis.columbia.edu/~vgenty/public/trump_test.root\n",
    "\n",
    "flist.push_back(\"trump_test.root\")\n",
    "proc.override_input_file(flist)\n",
    "proc.override_output_file(\"/tmp/c0.root\")\n",
    "proc.override_ana_file(\"/tmp/c1.root\")\n",
    "\n",
    "reco_id    = proc.process_id(\"LArbysImage\")\n",
    "larbysimg  = proc.process_ptr(reco_id)\n",
    "\n",
    "proc.initialize()\n"
   ]
  },
  {
   "cell_type": "code",
   "execution_count": null,
   "metadata": {
    "collapsed": false
   },
   "outputs": [],
   "source": [
    "larbysimg"
   ]
  },
  {
   "cell_type": "markdown",
   "metadata": {},
   "source": [
    "### Event selection"
   ]
  },
  {
   "cell_type": "code",
   "execution_count": null,
   "metadata": {
    "collapsed": false
   },
   "outputs": [],
   "source": [
    "event = 0\n",
    "proc.batch_process(event,1)"
   ]
  },
  {
   "cell_type": "markdown",
   "metadata": {},
   "source": [
    "### ImageClusterManager Instance"
   ]
  },
  {
   "cell_type": "code",
   "execution_count": null,
   "metadata": {
    "collapsed": false
   },
   "outputs": [],
   "source": [
    "mgr = larbysimg.Manager()  \n",
    "dm  = mgr.DataManager()\n",
    "print \"Where are my images?\"\n",
    "print \".... ImageClusterManager is here (mgr): \",mgr\n",
    "print\n",
    "print \"Where is my per algoritm data?\"\n",
    "print \".... AlgoDataManger is here (dm): \",dm"
   ]
  },
  {
   "cell_type": "code",
   "execution_count": null,
   "metadata": {
    "collapsed": false
   },
   "outputs": [],
   "source": [
    "mgr.InputImages?"
   ]
  },
  {
   "cell_type": "markdown",
   "metadata": {
    "collapsed": false
   },
   "source": [
    "### Do something!"
   ]
  },
  {
   "cell_type": "code",
   "execution_count": null,
   "metadata": {
    "collapsed": false
   },
   "outputs": [],
   "source": [
    "adc_mat_v = mgr.InputImages(0)\n",
    "trk_mat_v = mgr.InputImages(1)\n",
    "shr_mat_v = mgr.InputImages(2)\n",
    "\n",
    "print \"adc cv::Mat...\",adc_mat_v\n",
    "print \"trk cv::Mat...\",trk_mat_v\n",
    "print \"shr cv::Mat...\",shr_mat_v"
   ]
  },
  {
   "cell_type": "markdown",
   "metadata": {},
   "source": [
    "### Take a look at the whole guy on plane 2"
   ]
  },
  {
   "cell_type": "code",
   "execution_count": null,
   "metadata": {
    "collapsed": false
   },
   "outputs": [],
   "source": [
    "plane = 2\n",
    "plane_mat = adc_mat_v[plane]\n",
    "\n",
    "print plane_mat\n",
    "\n",
    "# Convert to a numpy array\n",
    "plane_img = pygeo.image(plane_mat)\n",
    "\n",
    "print plane_img\n",
    "print plane_img.shape\n",
    "\n",
    "# Display with imsho\n",
    "fig,ax = plt.subplots(figsize=(10,10))\n",
    "ax.imshow(plane_img,cmap=\"Greys\",interpolation='none')\n",
    "plt.show()"
   ]
  },
  {
   "cell_type": "markdown",
   "metadata": {},
   "source": [
    "### Take a look at the track image on plane 2"
   ]
  },
  {
   "cell_type": "code",
   "execution_count": null,
   "metadata": {
    "collapsed": false
   },
   "outputs": [],
   "source": [
    "track_mat = trk_mat_v[2]\n",
    "track_img = pygeo.image(track_mat)\n",
    "\n",
    "fig,ax = plt.subplots(figsize=(10,10))\n",
    "ax.imshow(track_img,cmap=\"Greys\",interpolation='none')\n",
    "plt.show()"
   ]
  },
  {
   "cell_type": "markdown",
   "metadata": {},
   "source": [
    "### Lets try to find the contour around this guys hair, we can do this with LArOpenCV functions!"
   ]
  },
  {
   "cell_type": "code",
   "execution_count": null,
   "metadata": {
    "collapsed": false
   },
   "outputs": [],
   "source": [
    "shower_mat = shr_mat_v[2]\n",
    "shower_img = pygeo.image(shower_mat)\n",
    "\n",
    "fig,ax = plt.subplots(figsize=(10,10))\n",
    "ax.imshow(shower_img,cmap=\"Greys\",interpolation='none')\n",
    "plt.show()"
   ]
  },
  {
   "cell_type": "markdown",
   "metadata": {},
   "source": [
    "### First lets threshold the shower image so we can find the blob of hair"
   ]
  },
  {
   "cell_type": "code",
   "execution_count": null,
   "metadata": {
    "collapsed": false
   },
   "outputs": [],
   "source": [
    "shower_mat = shr_mat_v[2]\n",
    "\n",
    "# Any pixel above 10, lets set the value to be 255 (the maximum 8 bit number)\n",
    "shower_mat = larocv.Threshold(shower_mat,10,255)\n",
    "\n",
    "shower_img = pygeo.image(shower_mat)\n",
    "\n",
    "fig,ax = plt.subplots(figsize=(10,10))\n",
    "ax.imshow(shower_img,cmap=\"Greys\",interpolation='none')\n",
    "plt.show()"
   ]
  },
  {
   "cell_type": "markdown",
   "metadata": {},
   "source": [
    "### Lets find the contours using LArOpenCV functions located in AlgoFunction/, specifically the FindContours(cv::Mat) function, which will find clusters in the given image"
   ]
  },
  {
   "cell_type": "code",
   "execution_count": null,
   "metadata": {
    "collapsed": false
   },
   "outputs": [],
   "source": [
    "# Get the shower mat\n",
    "shower_mat = shr_mat_v[2]\n",
    "\n",
    "# Any pixel above 10, lets set the value to be 255 (the maximum 8 bit number)\n",
    "shower_thresh = larocv.Threshold(shower_mat,10,255)\n",
    "\n",
    "# Find contours with LArOpenCV function\n",
    "shower_ctor_v = larocv.FindContours(shower_thresh)\n",
    "\n",
    "print shower_ctor_v\n",
    "\n",
    "# Draw the image\n",
    "shower_img = pygeo.image(shower_thresh)\n",
    "fig,ax = plt.subplots(figsize=(10,10))\n",
    "ax.imshow(shower_img,cmap=\"Greys\",interpolation='none')\n",
    "\n",
    "# Draw the contours...\n",
    "print \"Found\",shower_ctor_v.size(),\"contours in the shower image\"\n",
    "for contour in shower_ctor_v:\n",
    "    # Make a numpy array of points for easier plotting\n",
    "    ctor = [[pt.x,pt.y] for pt in contour]\n",
    "    ctor = np.array(ctor)\n",
    "    ax.plot(ctor[:,0],ctor[:,1],'-',lw=5)\n",
    "ax.grid()\n",
    "plt.show()"
   ]
  },
  {
   "cell_type": "code",
   "execution_count": null,
   "metadata": {
    "collapsed": false
   },
   "outputs": [],
   "source": []
  }
 ],
 "metadata": {
  "kernelspec": {
   "display_name": "Python 2",
   "language": "python",
   "name": "python2"
  },
  "language_info": {
   "codemirror_mode": {
    "name": "ipython",
    "version": 2
   },
   "file_extension": ".py",
   "mimetype": "text/x-python",
   "name": "python",
   "nbconvert_exporter": "python",
   "pygments_lexer": "ipython2",
   "version": "2.7.10"
  }
 },
 "nbformat": 4,
 "nbformat_minor": 0
}
